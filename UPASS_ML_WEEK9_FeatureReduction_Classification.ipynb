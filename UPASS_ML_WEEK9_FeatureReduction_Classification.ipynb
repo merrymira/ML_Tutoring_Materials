{
  "cells": [
    {
      "cell_type": "markdown",
      "metadata": {
        "id": "view-in-github",
        "colab_type": "text"
      },
      "source": [
        "<a href=\"https://colab.research.google.com/github/merrymira/UPASS_ML_WEEK3/blob/main/UPASS_ML_WEEK9_FeatureReduction_Classification.ipynb\" target=\"_parent\"><img src=\"https://colab.research.google.com/assets/colab-badge.svg\" alt=\"Open In Colab\"/></a>"
      ]
    },
    {
      "cell_type": "markdown",
      "source": [
        "\n",
        "\n",
        "# Classification Problem\n",
        "\n"
      ],
      "metadata": {
        "id": "e-KkDrS6p-hF"
      }
    },
    {
      "cell_type": "markdown",
      "metadata": {
        "id": "smh_LhVjIg9s"
      },
      "source": [
        "# 1. Load and Explore Dataset"
      ]
    },
    {
      "cell_type": "markdown",
      "metadata": {
        "id": "fGxuXXdM0XlU"
      },
      "source": [
        "Import the pandas, numpy and altair packages"
      ]
    },
    {
      "cell_type": "code",
      "execution_count": 1,
      "metadata": {
        "id": "faNd47YOMyk0"
      },
      "outputs": [],
      "source": [
        "# Solution\n",
        "import pandas as pd\n",
        "import numpy as np\n",
        "import altair as alt\n",
        "\n",
        "import warnings\n",
        "warnings.filterwarnings('ignore')"
      ]
    },
    {
      "cell_type": "markdown",
      "metadata": {
        "id": "oypXVmCBh5jV"
      },
      "source": [
        "Mounting the drive\n",
        "In this notebook"
      ]
    },
    {
      "cell_type": "markdown",
      "metadata": {
        "id": "xhfJ4BK-0J2u"
      },
      "source": [
        "Read data from CSV file."
      ]
    },
    {
      "cell_type": "code",
      "execution_count": 2,
      "metadata": {
        "id": "EzMcp0AMidO_"
      },
      "outputs": [],
      "source": [
        "data = pd.read_csv('https://raw.githubusercontent.com/merrymira/UPASS_ML_WEEK3/refs/heads/main/data_practice_week9_2.csv')"
      ]
    },
    {
      "cell_type": "markdown",
      "metadata": {
        "id": "VD0HoewD6anc"
      },
      "source": [
        "# 2. Data information"
      ]
    },
    {
      "cell_type": "code",
      "source": [
        "data.shape"
      ],
      "metadata": {
        "colab": {
          "base_uri": "https://localhost:8080/"
        },
        "id": "u5NLgaD8mL4q",
        "outputId": "40556517-ba29-408b-bd6f-7782d2b1ec43"
      },
      "execution_count": 3,
      "outputs": [
        {
          "output_type": "execute_result",
          "data": {
            "text/plain": [
              "(1567, 592)"
            ]
          },
          "metadata": {},
          "execution_count": 3
        }
      ]
    },
    {
      "cell_type": "code",
      "source": [
        "data.head()"
      ],
      "metadata": {
        "colab": {
          "base_uri": "https://localhost:8080/",
          "height": 235
        },
        "id": "-j_3k_fsl0OZ",
        "outputId": "075cb009-9356-4b03-a529-95ebff8c0987"
      },
      "execution_count": 4,
      "outputs": [
        {
          "output_type": "execute_result",
          "data": {
            "text/plain": [
              "              Time        0        1          2          3       4      5  \\\n",
              "0  19/7/2008 11:55  3030.93  2564.00  2187.7333  1411.1265  1.3602  100.0   \n",
              "1  19/7/2008 12:32  3095.78  2465.14  2230.4222  1463.6606  0.8294  100.0   \n",
              "2  19/7/2008 13:17  2932.61  2559.94  2186.4111  1698.0172  1.5102  100.0   \n",
              "3  19/7/2008 14:43  2988.72  2479.90  2199.0333   909.7926  1.3204  100.0   \n",
              "4  19/7/2008 15:22  3032.24  2502.87  2233.3667  1326.5200  1.5334  100.0   \n",
              "\n",
              "          6       7       8  ...       581     582     583     584      585  \\\n",
              "0   97.6133  0.1242  1.5005  ...       NaN  0.5005  0.0118  0.0035   2.3630   \n",
              "1  102.3433  0.1247  1.4966  ...  208.2045  0.5019  0.0223  0.0055   4.4447   \n",
              "2   95.4878  0.1241  1.4436  ...   82.8602  0.4958  0.0157  0.0039   3.1745   \n",
              "3  104.2367  0.1217  1.4882  ...   73.8432  0.4990  0.0103  0.0025   2.0544   \n",
              "4  100.3967  0.1235  1.5031  ...       NaN  0.4800  0.4766  0.1045  99.3032   \n",
              "\n",
              "      586     587     588       589  Pass/Fail  \n",
              "0     NaN     NaN     NaN       NaN         -1  \n",
              "1  0.0096  0.0201  0.0060  208.2045         -1  \n",
              "2  0.0584  0.0484  0.0148   82.8602          1  \n",
              "3  0.0202  0.0149  0.0044   73.8432         -1  \n",
              "4  0.0202  0.0149  0.0044   73.8432         -1  \n",
              "\n",
              "[5 rows x 592 columns]"
            ],
            "text/html": [
              "\n",
              "  <div id=\"df-933b84c7-742a-4ddc-bf0b-751e64e9f18c\" class=\"colab-df-container\">\n",
              "    <div>\n",
              "<style scoped>\n",
              "    .dataframe tbody tr th:only-of-type {\n",
              "        vertical-align: middle;\n",
              "    }\n",
              "\n",
              "    .dataframe tbody tr th {\n",
              "        vertical-align: top;\n",
              "    }\n",
              "\n",
              "    .dataframe thead th {\n",
              "        text-align: right;\n",
              "    }\n",
              "</style>\n",
              "<table border=\"1\" class=\"dataframe\">\n",
              "  <thead>\n",
              "    <tr style=\"text-align: right;\">\n",
              "      <th></th>\n",
              "      <th>Time</th>\n",
              "      <th>0</th>\n",
              "      <th>1</th>\n",
              "      <th>2</th>\n",
              "      <th>3</th>\n",
              "      <th>4</th>\n",
              "      <th>5</th>\n",
              "      <th>6</th>\n",
              "      <th>7</th>\n",
              "      <th>8</th>\n",
              "      <th>...</th>\n",
              "      <th>581</th>\n",
              "      <th>582</th>\n",
              "      <th>583</th>\n",
              "      <th>584</th>\n",
              "      <th>585</th>\n",
              "      <th>586</th>\n",
              "      <th>587</th>\n",
              "      <th>588</th>\n",
              "      <th>589</th>\n",
              "      <th>Pass/Fail</th>\n",
              "    </tr>\n",
              "  </thead>\n",
              "  <tbody>\n",
              "    <tr>\n",
              "      <th>0</th>\n",
              "      <td>19/7/2008 11:55</td>\n",
              "      <td>3030.93</td>\n",
              "      <td>2564.00</td>\n",
              "      <td>2187.7333</td>\n",
              "      <td>1411.1265</td>\n",
              "      <td>1.3602</td>\n",
              "      <td>100.0</td>\n",
              "      <td>97.6133</td>\n",
              "      <td>0.1242</td>\n",
              "      <td>1.5005</td>\n",
              "      <td>...</td>\n",
              "      <td>NaN</td>\n",
              "      <td>0.5005</td>\n",
              "      <td>0.0118</td>\n",
              "      <td>0.0035</td>\n",
              "      <td>2.3630</td>\n",
              "      <td>NaN</td>\n",
              "      <td>NaN</td>\n",
              "      <td>NaN</td>\n",
              "      <td>NaN</td>\n",
              "      <td>-1</td>\n",
              "    </tr>\n",
              "    <tr>\n",
              "      <th>1</th>\n",
              "      <td>19/7/2008 12:32</td>\n",
              "      <td>3095.78</td>\n",
              "      <td>2465.14</td>\n",
              "      <td>2230.4222</td>\n",
              "      <td>1463.6606</td>\n",
              "      <td>0.8294</td>\n",
              "      <td>100.0</td>\n",
              "      <td>102.3433</td>\n",
              "      <td>0.1247</td>\n",
              "      <td>1.4966</td>\n",
              "      <td>...</td>\n",
              "      <td>208.2045</td>\n",
              "      <td>0.5019</td>\n",
              "      <td>0.0223</td>\n",
              "      <td>0.0055</td>\n",
              "      <td>4.4447</td>\n",
              "      <td>0.0096</td>\n",
              "      <td>0.0201</td>\n",
              "      <td>0.0060</td>\n",
              "      <td>208.2045</td>\n",
              "      <td>-1</td>\n",
              "    </tr>\n",
              "    <tr>\n",
              "      <th>2</th>\n",
              "      <td>19/7/2008 13:17</td>\n",
              "      <td>2932.61</td>\n",
              "      <td>2559.94</td>\n",
              "      <td>2186.4111</td>\n",
              "      <td>1698.0172</td>\n",
              "      <td>1.5102</td>\n",
              "      <td>100.0</td>\n",
              "      <td>95.4878</td>\n",
              "      <td>0.1241</td>\n",
              "      <td>1.4436</td>\n",
              "      <td>...</td>\n",
              "      <td>82.8602</td>\n",
              "      <td>0.4958</td>\n",
              "      <td>0.0157</td>\n",
              "      <td>0.0039</td>\n",
              "      <td>3.1745</td>\n",
              "      <td>0.0584</td>\n",
              "      <td>0.0484</td>\n",
              "      <td>0.0148</td>\n",
              "      <td>82.8602</td>\n",
              "      <td>1</td>\n",
              "    </tr>\n",
              "    <tr>\n",
              "      <th>3</th>\n",
              "      <td>19/7/2008 14:43</td>\n",
              "      <td>2988.72</td>\n",
              "      <td>2479.90</td>\n",
              "      <td>2199.0333</td>\n",
              "      <td>909.7926</td>\n",
              "      <td>1.3204</td>\n",
              "      <td>100.0</td>\n",
              "      <td>104.2367</td>\n",
              "      <td>0.1217</td>\n",
              "      <td>1.4882</td>\n",
              "      <td>...</td>\n",
              "      <td>73.8432</td>\n",
              "      <td>0.4990</td>\n",
              "      <td>0.0103</td>\n",
              "      <td>0.0025</td>\n",
              "      <td>2.0544</td>\n",
              "      <td>0.0202</td>\n",
              "      <td>0.0149</td>\n",
              "      <td>0.0044</td>\n",
              "      <td>73.8432</td>\n",
              "      <td>-1</td>\n",
              "    </tr>\n",
              "    <tr>\n",
              "      <th>4</th>\n",
              "      <td>19/7/2008 15:22</td>\n",
              "      <td>3032.24</td>\n",
              "      <td>2502.87</td>\n",
              "      <td>2233.3667</td>\n",
              "      <td>1326.5200</td>\n",
              "      <td>1.5334</td>\n",
              "      <td>100.0</td>\n",
              "      <td>100.3967</td>\n",
              "      <td>0.1235</td>\n",
              "      <td>1.5031</td>\n",
              "      <td>...</td>\n",
              "      <td>NaN</td>\n",
              "      <td>0.4800</td>\n",
              "      <td>0.4766</td>\n",
              "      <td>0.1045</td>\n",
              "      <td>99.3032</td>\n",
              "      <td>0.0202</td>\n",
              "      <td>0.0149</td>\n",
              "      <td>0.0044</td>\n",
              "      <td>73.8432</td>\n",
              "      <td>-1</td>\n",
              "    </tr>\n",
              "  </tbody>\n",
              "</table>\n",
              "<p>5 rows × 592 columns</p>\n",
              "</div>\n",
              "    <div class=\"colab-df-buttons\">\n",
              "\n",
              "  <div class=\"colab-df-container\">\n",
              "    <button class=\"colab-df-convert\" onclick=\"convertToInteractive('df-933b84c7-742a-4ddc-bf0b-751e64e9f18c')\"\n",
              "            title=\"Convert this dataframe to an interactive table.\"\n",
              "            style=\"display:none;\">\n",
              "\n",
              "  <svg xmlns=\"http://www.w3.org/2000/svg\" height=\"24px\" viewBox=\"0 -960 960 960\">\n",
              "    <path d=\"M120-120v-720h720v720H120Zm60-500h600v-160H180v160Zm220 220h160v-160H400v160Zm0 220h160v-160H400v160ZM180-400h160v-160H180v160Zm440 0h160v-160H620v160ZM180-180h160v-160H180v160Zm440 0h160v-160H620v160Z\"/>\n",
              "  </svg>\n",
              "    </button>\n",
              "\n",
              "  <style>\n",
              "    .colab-df-container {\n",
              "      display:flex;\n",
              "      gap: 12px;\n",
              "    }\n",
              "\n",
              "    .colab-df-convert {\n",
              "      background-color: #E8F0FE;\n",
              "      border: none;\n",
              "      border-radius: 50%;\n",
              "      cursor: pointer;\n",
              "      display: none;\n",
              "      fill: #1967D2;\n",
              "      height: 32px;\n",
              "      padding: 0 0 0 0;\n",
              "      width: 32px;\n",
              "    }\n",
              "\n",
              "    .colab-df-convert:hover {\n",
              "      background-color: #E2EBFA;\n",
              "      box-shadow: 0px 1px 2px rgba(60, 64, 67, 0.3), 0px 1px 3px 1px rgba(60, 64, 67, 0.15);\n",
              "      fill: #174EA6;\n",
              "    }\n",
              "\n",
              "    .colab-df-buttons div {\n",
              "      margin-bottom: 4px;\n",
              "    }\n",
              "\n",
              "    [theme=dark] .colab-df-convert {\n",
              "      background-color: #3B4455;\n",
              "      fill: #D2E3FC;\n",
              "    }\n",
              "\n",
              "    [theme=dark] .colab-df-convert:hover {\n",
              "      background-color: #434B5C;\n",
              "      box-shadow: 0px 1px 3px 1px rgba(0, 0, 0, 0.15);\n",
              "      filter: drop-shadow(0px 1px 2px rgba(0, 0, 0, 0.3));\n",
              "      fill: #FFFFFF;\n",
              "    }\n",
              "  </style>\n",
              "\n",
              "    <script>\n",
              "      const buttonEl =\n",
              "        document.querySelector('#df-933b84c7-742a-4ddc-bf0b-751e64e9f18c button.colab-df-convert');\n",
              "      buttonEl.style.display =\n",
              "        google.colab.kernel.accessAllowed ? 'block' : 'none';\n",
              "\n",
              "      async function convertToInteractive(key) {\n",
              "        const element = document.querySelector('#df-933b84c7-742a-4ddc-bf0b-751e64e9f18c');\n",
              "        const dataTable =\n",
              "          await google.colab.kernel.invokeFunction('convertToInteractive',\n",
              "                                                    [key], {});\n",
              "        if (!dataTable) return;\n",
              "\n",
              "        const docLinkHtml = 'Like what you see? Visit the ' +\n",
              "          '<a target=\"_blank\" href=https://colab.research.google.com/notebooks/data_table.ipynb>data table notebook</a>'\n",
              "          + ' to learn more about interactive tables.';\n",
              "        element.innerHTML = '';\n",
              "        dataTable['output_type'] = 'display_data';\n",
              "        await google.colab.output.renderOutput(dataTable, element);\n",
              "        const docLink = document.createElement('div');\n",
              "        docLink.innerHTML = docLinkHtml;\n",
              "        element.appendChild(docLink);\n",
              "      }\n",
              "    </script>\n",
              "  </div>\n",
              "\n",
              "\n",
              "<div id=\"df-237e1779-c553-44fa-97db-669cd5560765\">\n",
              "  <button class=\"colab-df-quickchart\" onclick=\"quickchart('df-237e1779-c553-44fa-97db-669cd5560765')\"\n",
              "            title=\"Suggest charts\"\n",
              "            style=\"display:none;\">\n",
              "\n",
              "<svg xmlns=\"http://www.w3.org/2000/svg\" height=\"24px\"viewBox=\"0 0 24 24\"\n",
              "     width=\"24px\">\n",
              "    <g>\n",
              "        <path d=\"M19 3H5c-1.1 0-2 .9-2 2v14c0 1.1.9 2 2 2h14c1.1 0 2-.9 2-2V5c0-1.1-.9-2-2-2zM9 17H7v-7h2v7zm4 0h-2V7h2v10zm4 0h-2v-4h2v4z\"/>\n",
              "    </g>\n",
              "</svg>\n",
              "  </button>\n",
              "\n",
              "<style>\n",
              "  .colab-df-quickchart {\n",
              "      --bg-color: #E8F0FE;\n",
              "      --fill-color: #1967D2;\n",
              "      --hover-bg-color: #E2EBFA;\n",
              "      --hover-fill-color: #174EA6;\n",
              "      --disabled-fill-color: #AAA;\n",
              "      --disabled-bg-color: #DDD;\n",
              "  }\n",
              "\n",
              "  [theme=dark] .colab-df-quickchart {\n",
              "      --bg-color: #3B4455;\n",
              "      --fill-color: #D2E3FC;\n",
              "      --hover-bg-color: #434B5C;\n",
              "      --hover-fill-color: #FFFFFF;\n",
              "      --disabled-bg-color: #3B4455;\n",
              "      --disabled-fill-color: #666;\n",
              "  }\n",
              "\n",
              "  .colab-df-quickchart {\n",
              "    background-color: var(--bg-color);\n",
              "    border: none;\n",
              "    border-radius: 50%;\n",
              "    cursor: pointer;\n",
              "    display: none;\n",
              "    fill: var(--fill-color);\n",
              "    height: 32px;\n",
              "    padding: 0;\n",
              "    width: 32px;\n",
              "  }\n",
              "\n",
              "  .colab-df-quickchart:hover {\n",
              "    background-color: var(--hover-bg-color);\n",
              "    box-shadow: 0 1px 2px rgba(60, 64, 67, 0.3), 0 1px 3px 1px rgba(60, 64, 67, 0.15);\n",
              "    fill: var(--button-hover-fill-color);\n",
              "  }\n",
              "\n",
              "  .colab-df-quickchart-complete:disabled,\n",
              "  .colab-df-quickchart-complete:disabled:hover {\n",
              "    background-color: var(--disabled-bg-color);\n",
              "    fill: var(--disabled-fill-color);\n",
              "    box-shadow: none;\n",
              "  }\n",
              "\n",
              "  .colab-df-spinner {\n",
              "    border: 2px solid var(--fill-color);\n",
              "    border-color: transparent;\n",
              "    border-bottom-color: var(--fill-color);\n",
              "    animation:\n",
              "      spin 1s steps(1) infinite;\n",
              "  }\n",
              "\n",
              "  @keyframes spin {\n",
              "    0% {\n",
              "      border-color: transparent;\n",
              "      border-bottom-color: var(--fill-color);\n",
              "      border-left-color: var(--fill-color);\n",
              "    }\n",
              "    20% {\n",
              "      border-color: transparent;\n",
              "      border-left-color: var(--fill-color);\n",
              "      border-top-color: var(--fill-color);\n",
              "    }\n",
              "    30% {\n",
              "      border-color: transparent;\n",
              "      border-left-color: var(--fill-color);\n",
              "      border-top-color: var(--fill-color);\n",
              "      border-right-color: var(--fill-color);\n",
              "    }\n",
              "    40% {\n",
              "      border-color: transparent;\n",
              "      border-right-color: var(--fill-color);\n",
              "      border-top-color: var(--fill-color);\n",
              "    }\n",
              "    60% {\n",
              "      border-color: transparent;\n",
              "      border-right-color: var(--fill-color);\n",
              "    }\n",
              "    80% {\n",
              "      border-color: transparent;\n",
              "      border-right-color: var(--fill-color);\n",
              "      border-bottom-color: var(--fill-color);\n",
              "    }\n",
              "    90% {\n",
              "      border-color: transparent;\n",
              "      border-bottom-color: var(--fill-color);\n",
              "    }\n",
              "  }\n",
              "</style>\n",
              "\n",
              "  <script>\n",
              "    async function quickchart(key) {\n",
              "      const quickchartButtonEl =\n",
              "        document.querySelector('#' + key + ' button');\n",
              "      quickchartButtonEl.disabled = true;  // To prevent multiple clicks.\n",
              "      quickchartButtonEl.classList.add('colab-df-spinner');\n",
              "      try {\n",
              "        const charts = await google.colab.kernel.invokeFunction(\n",
              "            'suggestCharts', [key], {});\n",
              "      } catch (error) {\n",
              "        console.error('Error during call to suggestCharts:', error);\n",
              "      }\n",
              "      quickchartButtonEl.classList.remove('colab-df-spinner');\n",
              "      quickchartButtonEl.classList.add('colab-df-quickchart-complete');\n",
              "    }\n",
              "    (() => {\n",
              "      let quickchartButtonEl =\n",
              "        document.querySelector('#df-237e1779-c553-44fa-97db-669cd5560765 button');\n",
              "      quickchartButtonEl.style.display =\n",
              "        google.colab.kernel.accessAllowed ? 'block' : 'none';\n",
              "    })();\n",
              "  </script>\n",
              "</div>\n",
              "\n",
              "    </div>\n",
              "  </div>\n"
            ],
            "application/vnd.google.colaboratory.intrinsic+json": {
              "type": "dataframe",
              "variable_name": "data"
            }
          },
          "metadata": {},
          "execution_count": 4
        }
      ]
    },
    {
      "cell_type": "code",
      "execution_count": 5,
      "metadata": {
        "colab": {
          "base_uri": "https://localhost:8080/"
        },
        "id": "KvAhRjrOvMQi",
        "outputId": "1269b7db-398e-48e4-e944-7b07ca5b093f"
      },
      "outputs": [
        {
          "output_type": "stream",
          "name": "stdout",
          "text": [
            "<class 'pandas.core.frame.DataFrame'>\n",
            "RangeIndex: 1567 entries, 0 to 1566\n",
            "Columns: 592 entries, Time to Pass/Fail\n",
            "dtypes: float64(590), int64(1), object(1)\n",
            "memory usage: 7.1+ MB\n"
          ]
        }
      ],
      "source": [
        "data.info()"
      ]
    },
    {
      "cell_type": "markdown",
      "metadata": {
        "id": "prwbj7PX7cJJ"
      },
      "source": [
        "# 3. Data cleaning"
      ]
    },
    {
      "cell_type": "markdown",
      "metadata": {
        "id": "-n2TBGEV7zQW"
      },
      "source": [
        "##Drop duplicated records\n",
        "Found duplicated data 1702 records"
      ]
    },
    {
      "cell_type": "code",
      "execution_count": 6,
      "metadata": {
        "colab": {
          "base_uri": "https://localhost:8080/"
        },
        "id": "tMIgUZdk779q",
        "outputId": "ab0d8775-ced2-4571-d714-bdd00de7ffab"
      },
      "outputs": [
        {
          "output_type": "stream",
          "name": "stdout",
          "text": [
            "Number of duplicated values in Data set: 0\n"
          ]
        }
      ],
      "source": [
        "# Check for duplicated values and display the count\n",
        "duplicate_count = data.duplicated().sum()\n",
        "\n",
        "# Print the number of duplicated values\n",
        "print(\"Number of duplicated values in Data set:\", duplicate_count)"
      ]
    },
    {
      "cell_type": "code",
      "execution_count": 7,
      "metadata": {
        "colab": {
          "base_uri": "https://localhost:8080/"
        },
        "id": "q3QsSLDxegOT",
        "outputId": "7425e4a8-def9-4b84-e492-4b1bad95a1e5"
      },
      "outputs": [
        {
          "output_type": "stream",
          "name": "stdout",
          "text": [
            "Number of Records before drop duplicated : 1567\n",
            "Number of Records after drop duplicated : 1567\n"
          ]
        }
      ],
      "source": [
        "num_records = data.shape[0]\n",
        "print(f\"Number of Records before drop duplicated : {num_records}\")\n",
        "\n",
        "data = data.drop_duplicates()\n",
        "num_records = data.shape[0]\n",
        "print(f\"Number of Records after drop duplicated : {num_records}\")"
      ]
    },
    {
      "cell_type": "markdown",
      "metadata": {
        "id": "oiK8cprHmLQ4"
      },
      "source": [
        "###Check Null value in columns\n",
        "Found Null value in columns"
      ]
    },
    {
      "cell_type": "code",
      "execution_count": 8,
      "metadata": {
        "colab": {
          "base_uri": "https://localhost:8080/"
        },
        "id": "zTz7oiiKmW7v",
        "outputId": "9b28c6c7-446b-4ee6-8797-36f012923f3e"
      },
      "outputs": [
        {
          "output_type": "stream",
          "name": "stdout",
          "text": [
            "Columns with null values in data set:\n",
            "0       6\n",
            "1       7\n",
            "2      14\n",
            "3      14\n",
            "4      14\n",
            "       ..\n",
            "585     1\n",
            "586     1\n",
            "587     1\n",
            "588     1\n",
            "589     1\n",
            "Length: 538, dtype: int64\n"
          ]
        }
      ],
      "source": [
        "# Check for null values in all columns\n",
        "null_columns = data.columns[data.isnull().any()]\n",
        "null_count = data[null_columns].isnull().sum()\n",
        "\n",
        "if null_count.empty:\n",
        "    print(\"No null values found in any column.\")\n",
        "else:\n",
        "    print(\"Columns with null values in data set:\")\n",
        "    print(null_count)"
      ]
    },
    {
      "cell_type": "code",
      "source": [
        "# prompt: drop column with null value\n",
        "\n",
        "# Drop columns with null values\n",
        "data = data.dropna(axis=1)\n",
        "\n",
        "# Print the updated DataFrame\n",
        "print(data.info())\n"
      ],
      "metadata": {
        "colab": {
          "base_uri": "https://localhost:8080/"
        },
        "id": "s9RpWGS2pPZ7",
        "outputId": "de298a77-0859-4a49-92a1-7c6ba8bc2010"
      },
      "execution_count": 9,
      "outputs": [
        {
          "output_type": "stream",
          "name": "stdout",
          "text": [
            "<class 'pandas.core.frame.DataFrame'>\n",
            "RangeIndex: 1567 entries, 0 to 1566\n",
            "Data columns (total 54 columns):\n",
            " #   Column     Non-Null Count  Dtype  \n",
            "---  ------     --------------  -----  \n",
            " 0   Time       1567 non-null   object \n",
            " 1   20         1567 non-null   float64\n",
            " 2   86         1567 non-null   float64\n",
            " 3   87         1567 non-null   float64\n",
            " 4   88         1567 non-null   float64\n",
            " 5   113        1567 non-null   float64\n",
            " 6   114        1567 non-null   float64\n",
            " 7   115        1567 non-null   float64\n",
            " 8   116        1567 non-null   float64\n",
            " 9   117        1567 non-null   float64\n",
            " 10  119        1567 non-null   float64\n",
            " 11  120        1567 non-null   float64\n",
            " 12  156        1567 non-null   float64\n",
            " 13  221        1567 non-null   float64\n",
            " 14  222        1567 non-null   float64\n",
            " 15  223        1567 non-null   float64\n",
            " 16  248        1567 non-null   float64\n",
            " 17  249        1567 non-null   float64\n",
            " 18  250        1567 non-null   float64\n",
            " 19  251        1567 non-null   float64\n",
            " 20  252        1567 non-null   float64\n",
            " 21  254        1567 non-null   float64\n",
            " 22  255        1567 non-null   float64\n",
            " 23  291        1567 non-null   float64\n",
            " 24  359        1567 non-null   float64\n",
            " 25  360        1567 non-null   float64\n",
            " 26  361        1567 non-null   float64\n",
            " 27  386        1567 non-null   float64\n",
            " 28  387        1567 non-null   float64\n",
            " 29  388        1567 non-null   float64\n",
            " 30  389        1567 non-null   float64\n",
            " 31  390        1567 non-null   float64\n",
            " 32  392        1567 non-null   float64\n",
            " 33  393        1567 non-null   float64\n",
            " 34  429        1567 non-null   float64\n",
            " 35  493        1567 non-null   float64\n",
            " 36  494        1567 non-null   float64\n",
            " 37  495        1567 non-null   float64\n",
            " 38  520        1567 non-null   float64\n",
            " 39  521        1567 non-null   float64\n",
            " 40  522        1567 non-null   float64\n",
            " 41  523        1567 non-null   float64\n",
            " 42  524        1567 non-null   float64\n",
            " 43  526        1567 non-null   float64\n",
            " 44  527        1567 non-null   float64\n",
            " 45  570        1567 non-null   float64\n",
            " 46  571        1567 non-null   float64\n",
            " 47  572        1567 non-null   float64\n",
            " 48  573        1567 non-null   float64\n",
            " 49  574        1567 non-null   float64\n",
            " 50  575        1567 non-null   float64\n",
            " 51  576        1567 non-null   float64\n",
            " 52  577        1567 non-null   float64\n",
            " 53  Pass/Fail  1567 non-null   int64  \n",
            "dtypes: float64(52), int64(1), object(1)\n",
            "memory usage: 661.2+ KB\n",
            "None\n"
          ]
        }
      ]
    },
    {
      "cell_type": "code",
      "source": [
        "# prompt: plot barchart of the column 'Pass/Fail' use matplotlib to plot\n",
        "\n",
        "import matplotlib.pyplot as plt\n",
        "\n",
        "# Count the occurrences of each unique value in the 'Pass/Fail' column\n",
        "pass_fail_counts = data['Pass/Fail'].value_counts()\n",
        "\n",
        "# Create a bar chart\n",
        "plt.figure(figsize=(8, 6))  # Adjust figure size if needed\n",
        "plt.bar(pass_fail_counts.index, pass_fail_counts.values)\n",
        "plt.xlabel('Pass/Fail')\n",
        "plt.ylabel('Count')\n",
        "plt.title('Bar Chart of Pass/Fail')\n",
        "plt.show()\n"
      ],
      "metadata": {
        "colab": {
          "base_uri": "https://localhost:8080/",
          "height": 564
        },
        "id": "0lUtsdAwsJ4U",
        "outputId": "b74fe5d5-f57e-40d1-d103-986a187d9cd2"
      },
      "execution_count": 24,
      "outputs": [
        {
          "output_type": "display_data",
          "data": {
            "text/plain": [
              "<Figure size 800x600 with 1 Axes>"
            ],
            "image/png": "[encoded data removed]"
          },
          "metadata": {}
        }
      ]
    },
    {
      "cell_type": "markdown",
      "source": [
        "# 4. Feature Reduction"
      ],
      "metadata": {
        "id": "VEWRDwuotG_3"
      }
    },
    {
      "cell_type": "markdown",
      "source": [
        "##(1) Principal Component Analysis (PCA)"
      ],
      "metadata": {
        "id": "A91r1htkuqiz"
      }
    },
    {
      "cell_type": "code",
      "source": [
        "import pandas as pd\n",
        "import numpy as np\n",
        "from sklearn.preprocessing import StandardScaler\n",
        "from sklearn.decomposition import PCA\n",
        "import matplotlib.pyplot as plt\n",
        "\n",
        "# Split the data into features and target variable\n",
        "X = data.drop(['Time'], axis=1)\n",
        "y = data['Pass/Fail']\n",
        "\n",
        "# Scale the features\n",
        "scaler = StandardScaler()\n",
        "X_scaled = scaler.fit_transform(X)\n",
        "\n",
        "# Apply PCA\n",
        "pca = PCA()\n",
        "X_pca = pca.fit_transform(X_scaled)\n",
        "\n",
        "# Print the explained variance ratio\n",
        "print(\"Explained Variance Ratio per Component:\\n\", pca.explained_variance_ratio_)\n",
        "\n",
        "# Calculate the cumulative sum of the explained variance ratio\n",
        "cumulative_var_ratio = np.cumsum(pca.explained_variance_ratio_)\n",
        "\n",
        "# Find the number of principal components that explain at least 90% of the total variance\n",
        "# n_components = np.where(cumulative_var_ratio >= 0.90)[0][0] + 1\n",
        "\n",
        "# Changed the threshold to 0.80 since 0.90 wasn't reached\n",
        "n_components = np.argmax(cumulative_var_ratio >= 0.80) + 1\n",
        "# If none of the components reach 0.8, set n_components to the total number of components\n",
        "n_components = n_components if n_components > 0 else pca.n_components_\n",
        "\n",
        "# Select the first n_components principal components from the transformed data\n",
        "X_pca_selected = X_pca[:, :n_components]\n",
        "\n",
        "# Plot the cumulative explained variance ratio\n",
        "plt.figure(figsize=(8, 6))\n",
        "plt.plot(cumulative_var_ratio, marker='o', label=\"Cumulative Explained Variance\")\n",
        "plt.axhline(y=0.80, color='r', linestyle='--', label='90% variance')  # Adjust this line to 90% if needed\n",
        "plt.axvline(x=n_components-1, color='g', linestyle='--', label=f'{n_components} components')\n",
        "plt.xlabel('Number of Components')\n",
        "plt.ylabel('Cumulative Explained Variance')\n",
        "plt.title('PCA Explained Variance')\n",
        "plt.legend()\n",
        "plt.grid(True)\n",
        "plt.show()\n",
        "\n",
        "# Cumulative variance\n",
        "print(\"Cumulative Variance:\", cumulative_var_ratio)\n",
        "print('Number of Components (90% variance) = ', n_components)\n",
        "print('Original Data Shape = ', data.shape)\n"
      ],
      "metadata": {
        "colab": {
          "base_uri": "https://localhost:8080/",
          "height": 1000
        },
        "id": "i6xDJIaSwRTf",
        "outputId": "9a142f9c-05c6-4979-8d60-85b21344aa6c"
      },
      "execution_count": 10,
      "outputs": [
        {
          "output_type": "stream",
          "name": "stdout",
          "text": [
            "Explained Variance Ratio per Component:\n",
            " [1.10691963e-01 1.04524635e-01 8.81100483e-02 8.40380328e-02\n",
            " 7.53994274e-02 6.36813886e-02 5.81694031e-02 5.69715955e-02\n",
            " 5.15939516e-02 4.86757817e-02 3.89565823e-02 2.29361873e-02\n",
            " 2.09497905e-02 2.03064479e-02 1.86805787e-02 1.76840711e-02\n",
            " 1.66484205e-02 1.61949275e-02 1.54320080e-02 1.28349864e-02\n",
            " 1.22702946e-02 1.13588144e-02 9.23614546e-03 7.81889046e-03\n",
            " 7.35427788e-03 4.85633200e-03 6.29139645e-04 6.20096455e-04\n",
            " 5.42334502e-04 5.14856340e-04 4.71744309e-04 3.97632194e-04\n",
            " 3.07879335e-04 2.38087743e-04 1.83528521e-04 1.78897846e-04\n",
            " 1.55844341e-04 1.34245754e-04 6.57520778e-05 5.76759495e-05\n",
            " 4.25879760e-05 2.85741958e-05 1.84332976e-05 1.72048977e-05\n",
            " 4.91714605e-06 4.08969851e-06 3.45546163e-06 2.41775434e-06\n",
            " 2.22180674e-06 1.91388865e-06 7.83067693e-07 5.73160203e-07\n",
            " 1.30419691e-07]\n"
          ]
        },
        {
          "output_type": "display_data",
          "data": {
            "text/plain": [
              "<Figure size 800x600 with 1 Axes>"
            ],
            "image/png": "[encoded data removed]"
          },
          "metadata": {}
        },
        {
          "output_type": "stream",
          "name": "stdout",
          "text": [
            "Cumulative Variance: [0.11069196 0.2152166  0.30332665 0.38736468 0.46276411 0.5264455\n",
            " 0.5846149  0.64158649 0.69318045 0.74185623 0.78081281 0.803749\n",
            " 0.82469879 0.84500524 0.86368581 0.88136988 0.89801831 0.91421323\n",
            " 0.92964524 0.94248023 0.95475052 0.96610934 0.97534548 0.98316437\n",
            " 0.99051865 0.99537498 0.99600412 0.99662422 0.99716655 0.99768141\n",
            " 0.99815315 0.99855079 0.99885866 0.99909675 0.99928028 0.99945918\n",
            " 0.99961502 0.99974927 0.99981502 0.9998727  0.99991529 0.99994386\n",
            " 0.99996229 0.9999795  0.99998441 0.9999885  0.99999196 0.99999438\n",
            " 0.9999966  0.99999851 0.9999993  0.99999987 1.        ]\n",
            "Number of Components (90% variance) =  12\n",
            "Original Data Shape =  (1567, 54)\n"
          ]
        }
      ]
    },
    {
      "cell_type": "markdown",
      "source": [
        "**Number of Components (90% variance) = 12**: This means that, after performing PCA, you need 12 principal components to explain at least 90% of the variance in the original data.\n",
        "\n",
        "**Original Data Shape = (1567, 592)**: This means your original dataset has 21613 samples (rows) and 21 features (columns).\n",
        "\n",
        "\n",
        "**Interpretation:**\n",
        "\n",
        "PCA reduces the dimensionality of the data by transforming the original features into new \"principal components,\" which are linear combinations of the original features. These components are ordered by the amount of variance they explain, with the first few components capturing most of the variance in the data."
      ],
      "metadata": {
        "id": "gGLbLGQn_Ywa"
      }
    },
    {
      "cell_type": "markdown",
      "source": [
        "##(1.1) PCA: Find Top 10 Contributing Features for each component:"
      ],
      "metadata": {
        "id": "l5nJErg5A1ZB"
      }
    },
    {
      "cell_type": "code",
      "source": [
        "import pandas as pd\n",
        "import numpy as np\n",
        "from sklearn.decomposition import PCA\n",
        "from sklearn.preprocessing import StandardScaler\n",
        "\n",
        "# Select only the numerical features for PCA\n",
        "numerical_features = data.select_dtypes(include=[np.number])\n",
        "\n",
        "# Standardizing the features\n",
        "scaler = StandardScaler()\n",
        "data_scaled = scaler.fit_transform(numerical_features)\n",
        "\n",
        "# Fit PCA\n",
        "pca = PCA(n_components=12)  # Set number of components to 12 (the ones explaining 90% variance)\n",
        "pca.fit(data_scaled)\n",
        "\n",
        "# Get the PCA components (loadings)\n",
        "pca_components = pca.components_\n",
        "\n",
        "# Create a DataFrame to hold the loadings for each component\n",
        "loadings_df = pd.DataFrame(pca_components.T, index=numerical_features.columns, columns=[f'PC{i+1}' for i in range(12)])\n",
        "\n",
        "# Find the top contributing features for each principal component\n",
        "top_contributing_features = {}\n",
        "\n",
        "# For each principal component, find the top features based on absolute loadings\n",
        "for i in range(12):\n",
        "    component = f'PC{i+1}'\n",
        "    top_features = loadings_df[component].abs().sort_values(ascending=False).head(10)  # Get top 10 features for each component\n",
        "    top_contributing_features[component] = top_features.index.tolist()\n",
        "\n",
        "# Display the top contributing features for each component\n",
        "for pc, features in top_contributing_features.items():\n",
        "    print(f\"Top features contributing to {pc}: {features}\")\n"
      ],
      "metadata": {
        "colab": {
          "base_uri": "https://localhost:8080/"
        },
        "id": "5g0Za6A4zQ7a",
        "outputId": "175f8ba3-7421-41c3-aa0e-001691f95dee"
      },
      "execution_count": 11,
      "outputs": [
        {
          "output_type": "stream",
          "name": "stdout",
          "text": [
            "Top features contributing to PC1: ['248', '520', '386', '387', '249', '114', '521', '113', '388', '250']\n",
            "Top features contributing to PC2: ['576', '577', '572', '574', '573', '575', '570', '359', '221', '493']\n",
            "Top features contributing to PC3: ['524', '252', '390', '117', '251', '389', '523', '116', '393', '255']\n",
            "Top features contributing to PC4: ['222', '494', '360', '495', '223', '361', '87', '524', '252', '390']\n",
            "Top features contributing to PC5: ['526', '254', '392', '119', '393', '120', '255', '527', '390', '252']\n",
            "Top features contributing to PC6: ['429', '156', '291', '20', '527', '255', '393', '119', '392', '526']\n",
            "Top features contributing to PC7: ['522', '250', '388', '493', '221', '359', '523', '251', '389', '117']\n",
            "Top features contributing to PC8: ['359', '493', '221', '522', '388', '250', '527', '255', '429', '156']\n",
            "Top features contributing to PC9: ['527', '255', '393', '493', '221', '359', '388', '250', '522', '119']\n",
            "Top features contributing to PC10: ['523', '251', '389', '117', '116', '390', '252', '250', '522', '388']\n",
            "Top features contributing to PC11: ['495', '223', '361', '87', '360', '494', '222', '88', '115', '527']\n",
            "Top features contributing to PC12: ['571', '113', '570', 'Pass/Fail', '575', '114', '387', '249', '572', '573']\n"
          ]
        }
      ]
    },
    {
      "cell_type": "markdown",
      "source": [
        "**Identify the most important features contributing to the first 117 principal components:**\n",
        "\n",
        "\n",
        "1.   **PCA Loadings (Components Weights):** PCA generates \"loadings\" that show how much each original feature contributes to each principal component. These loadings are coefficients that map original features to the new principal components.\n",
        "2.   **Identify the Top Features Based on Loadings:** For each of the 117 principal components, you can rank the original features by their absolute loading values. Features with higher absolute values of loadings contribute more to the component."
      ],
      "metadata": {
        "id": "eomRDCTiBt2l"
      }
    },
    {
      "cell_type": "markdown",
      "source": [
        "##(1.2) PCA Find Unique Features Across All Principal Components:"
      ],
      "metadata": {
        "id": "Q91EzFBbBYAc"
      }
    },
    {
      "cell_type": "code",
      "source": [
        "import pandas as pd\n",
        "import numpy as np\n",
        "from sklearn.decomposition import PCA\n",
        "from sklearn.preprocessing import StandardScaler\n",
        "\n",
        "# Select only the numerical features for PCA\n",
        "numerical_features = data.select_dtypes(include=[np.number])\n",
        "\n",
        "# Standardizing the features\n",
        "scaler = StandardScaler()\n",
        "data_scaled = scaler.fit_transform(numerical_features)\n",
        "\n",
        "# Fit PCA\n",
        "pca = PCA(n_components=12)  # Set number of components to 12 (the ones explaining 90% variance)\n",
        "pca.fit(data_scaled)\n",
        "\n",
        "# Get the PCA components (loadings)\n",
        "pca_components = pca.components_\n",
        "\n",
        "# Create a DataFrame to hold the loadings for each component\n",
        "loadings_df = pd.DataFrame(pca_components.T, index=numerical_features.columns, columns=[f'PC{i+1}' for i in range(12)])\n",
        "\n",
        "# Find the top contributing features for each principal component\n",
        "distinct_features = set()  # Use a set to keep track of distinct features\n",
        "\n",
        "# For each principal component, find the top features based on absolute loadings\n",
        "for i in range(12):\n",
        "    component = f'PC{i+1}'\n",
        "    top_features = loadings_df[component].abs().sort_values(ascending=False).head(10).index.tolist()  # Get top 10 features for each component\n",
        "    distinct_features.update(top_features)  # Add features to the set\n",
        "\n",
        "# Convert the set of distinct features to a list for easier manipulation\n",
        "pca_distinct_features = list(distinct_features)\n",
        "\n",
        "# Print distinct features\n",
        "print(f\"Total number of distinct features: {len(pca_distinct_features)}\")\n",
        "print(\"Distinct features contributing to the PCs:\")\n",
        "for feature in pca_distinct_features:\n",
        "    print(feature)\n"
      ],
      "metadata": {
        "colab": {
          "base_uri": "https://localhost:8080/"
        },
        "id": "SiuHOKXwzs_E",
        "outputId": "57ed1f89-fa69-429d-d006-b34198544b2d"
      },
      "execution_count": 12,
      "outputs": [
        {
          "output_type": "stream",
          "name": "stdout",
          "text": [
            "Total number of distinct features: 52\n",
            "Distinct features contributing to the PCs:\n",
            "392\n",
            "359\n",
            "495\n",
            "223\n",
            "523\n",
            "577\n",
            "387\n",
            "114\n",
            "255\n",
            "494\n",
            "249\n",
            "393\n",
            "570\n",
            "88\n",
            "520\n",
            "119\n",
            "113\n",
            "575\n",
            "390\n",
            "Pass/Fail\n",
            "222\n",
            "389\n",
            "251\n",
            "117\n",
            "360\n",
            "527\n",
            "254\n",
            "574\n",
            "524\n",
            "250\n",
            "493\n",
            "522\n",
            "361\n",
            "87\n",
            "120\n",
            "252\n",
            "571\n",
            "386\n",
            "388\n",
            "156\n",
            "526\n",
            "572\n",
            "576\n",
            "521\n",
            "429\n",
            "20\n",
            "221\n",
            "248\n",
            "115\n",
            "573\n",
            "291\n",
            "116\n"
          ]
        }
      ]
    },
    {
      "cell_type": "markdown",
      "source": [
        "**Total number of distinct features from 12 components: 52**\n",
        "\n",
        "To identify distinct features contributing to each principal component (PC).\n",
        "\n",
        "\n",
        "1.   Get distinct features across all principal components.\n",
        "2.   Avoid duplication: Ensure features contributing to multiple PCs are only listed once.\n",
        "\n",
        "\n",
        "\n"
      ],
      "metadata": {
        "id": "Zlvq0D7WCgQs"
      }
    },
    {
      "cell_type": "markdown",
      "source": [
        "##(2) Sensitivity Analysis - Mutual Information"
      ],
      "metadata": {
        "id": "h24I6iJidRtz"
      }
    },
    {
      "cell_type": "code",
      "source": [
        "from sklearn.feature_selection import mutual_info_classif\n",
        "from sklearn.model_selection import train_test_split\n",
        "\n",
        "# Split the data into features and target variable\n",
        "X = data.drop(['Time'], axis=1)\n",
        "y = data['Pass/Fail']\n",
        "\n",
        "# Splitting data into training and testing sets\n",
        "X_train, X_test, y_train, y_test = train_test_split(X, y, test_size=0.3, random_state=42)\n",
        "\n",
        "# Standardizing the features\n",
        "scaler = StandardScaler()\n",
        "X_train_scaled = scaler.fit_transform(X_train)\n",
        "X_test_scaled = scaler.transform(X_test)\n",
        "\n",
        "\n",
        "# Calculate mutual information scores\n",
        "mi_scores = mutual_info_classif(X_train_scaled, y_train)\n",
        "mi_indices = np.argsort(mi_scores)[::-1]\n",
        "mi_top_features = X_train.columns[mi_indices[:20]]\n",
        "print(\"Top features based on Mutual Information:\", mi_top_features)\n",
        "print(\"Number of Top features based on Mutual Information:\", len(mi_top_features))\n"
      ],
      "metadata": {
        "id": "wjViLDGXioGo",
        "colab": {
          "base_uri": "https://localhost:8080/"
        },
        "outputId": "cc7af5e8-b0ed-480a-edc8-d027c6fee114"
      },
      "execution_count": 13,
      "outputs": [
        {
          "output_type": "stream",
          "name": "stdout",
          "text": [
            "Top features based on Mutual Information: Index(['Pass/Fail', '571', '573', '576', '577', '572', '386', '570', '526',\n",
            "       '361', '119', '522', '575', '221', '390', '251', '117', '494', '495',\n",
            "       '574'],\n",
            "      dtype='object')\n",
            "Number of Top features based on Mutual Information: 20\n"
          ]
        }
      ]
    },
    {
      "cell_type": "code",
      "source": [
        "# prompt: mi_top_features drop column 'price'\n",
        "\n",
        "mi_top_features = mi_top_features.drop('price', errors='ignore')\n",
        "print(\"Top features based on Mutual Information (without price):\", mi_top_features)\n",
        "print(\"Number of Top features based on Mutual Information (without Pass/Fail):\", len(mi_top_features))\n"
      ],
      "metadata": {
        "colab": {
          "base_uri": "https://localhost:8080/"
        },
        "id": "DPkqSJhemh6F",
        "outputId": "43e860c4-a9a0-48a6-f282-c0b147bd264f"
      },
      "execution_count": 14,
      "outputs": [
        {
          "output_type": "stream",
          "name": "stdout",
          "text": [
            "Top features based on Mutual Information (without price): Index(['Pass/Fail', '571', '573', '576', '577', '572', '386', '570', '526',\n",
            "       '361', '119', '522', '575', '221', '390', '251', '117', '494', '495',\n",
            "       '574'],\n",
            "      dtype='object')\n",
            "Number of Top features based on Mutual Information (without Pass/Fail): 20\n"
          ]
        }
      ]
    },
    {
      "cell_type": "markdown",
      "source": [
        "##(3) Compare the predition performance of a training model on feature sets from PCA and Mutual Information"
      ],
      "metadata": {
        "id": "B1G3CsRTnc0G"
      }
    },
    {
      "cell_type": "code",
      "source": [
        "import seaborn as sns\n",
        "from sklearn.linear_model import LogisticRegression\n",
        "from sklearn.metrics import accuracy_score, precision_score, recall_score, f1_score, confusion_matrix\n",
        "\n",
        "# Using PCA features for training\n",
        "X_train_pca = X_train_scaled[:, :n_components]\n",
        "X_test_pca = X_test_scaled[:, :n_components]\n",
        "\n",
        "# Train a logistic regression model using PCA features\n",
        "model_pca = LogisticRegression()\n",
        "model_pca.fit(X_train_pca, y_train)\n",
        "\n",
        "# Predict on the test set\n",
        "y_pred_pca = model_pca.predict(X_test_pca)\n",
        "\n",
        "# Evaluate the model\n",
        "accuracy_pca = accuracy_score(y_test, y_pred_pca)\n",
        "precision_pca = precision_score(y_test, y_pred_pca)\n",
        "recall_pca = recall_score(y_test, y_pred_pca)\n",
        "f1_pca = f1_score(y_test, y_pred_pca)\n",
        "cm_pca = confusion_matrix(y_test, y_pred_pca)\n",
        "\n",
        "print(\"Model with PCA Features:\")\n",
        "print(\"Accuracy:\", accuracy_pca)\n",
        "print(\"Precision:\", precision_pca)\n",
        "print(\"Recall:\", recall_pca)\n",
        "print(\"F1-score:\", f1_pca)\n",
        "\n",
        "plt.figure(figsize=(8, 6))\n",
        "sns.heatmap(cm_pca, annot=True, fmt=\"d\", cmap=\"Blues\",\n",
        "            xticklabels=['Predicted Fail', 'Predicted Pass'],\n",
        "            yticklabels=['Actual Fail', 'Actual Pass'])\n",
        "plt.xlabel(\"Predicted Label\")\n",
        "plt.ylabel(\"True Label\")\n",
        "plt.title(\"Confusion Matrix for Mutual Information Features\")\n",
        "plt.show()\n",
        "\n",
        "\n",
        "# Using Mutual Information features for training\n",
        "X_train_mi = X_train[mi_top_features]\n",
        "X_test_mi = X_test[mi_top_features]\n",
        "\n",
        "# Train a logistic regression model using Mutual Information features\n",
        "model_mi = LogisticRegression()\n",
        "model_mi.fit(X_train_mi, y_train)\n",
        "\n",
        "# Predict on the test set\n",
        "y_pred_mi = model_mi.predict(X_test_mi)\n",
        "\n",
        "# Evaluate the model\n",
        "accuracy_mi = accuracy_score(y_test, y_pred_mi)\n",
        "precision_mi = precision_score(y_test, y_pred_mi)\n",
        "recall_mi = recall_score(y_test, y_pred_mi)\n",
        "f1_mi = f1_score(y_test, y_pred_mi)\n",
        "cm_mi = confusion_matrix(y_test, y_pred_mi)\n",
        "\n",
        "print(\"\\nModel with Mutual Information Features:\")\n",
        "print(\"Accuracy:\", accuracy_mi)\n",
        "print(\"Precision:\", precision_mi)\n",
        "print(\"Recall:\", recall_mi)\n",
        "print(\"F1-score:\", f1_mi)\n",
        "\n",
        "plt.figure(figsize=(8, 6))\n",
        "sns.heatmap(cm_mi, annot=True, fmt=\"d\", cmap=\"Blues\",\n",
        "            xticklabels=['Predicted Fail', 'Predicted Pass'],\n",
        "            yticklabels=['Actual Fail', 'Actual Pass'])\n",
        "plt.xlabel(\"Predicted Label\")\n",
        "plt.ylabel(\"True Label\")\n",
        "plt.title(\"Confusion Matrix for Mutual Information Features\")\n",
        "plt.show()\n"
      ],
      "metadata": {
        "colab": {
          "base_uri": "https://localhost:8080/",
          "height": 1000
        },
        "id": "TgmV9VScpxEF",
        "outputId": "348115be-cdc6-488d-9a77-51a9fd0e29fd"
      },
      "execution_count": 21,
      "outputs": [
        {
          "output_type": "stream",
          "name": "stdout",
          "text": [
            "Model with PCA Features:\n",
            "Accuracy: 0.9320594479830149\n",
            "Precision: 0.0\n",
            "Recall: 0.0\n",
            "F1-score: 0.0\n"
          ]
        },
        {
          "output_type": "display_data",
          "data": {
            "text/plain": [
              "<Figure size 800x600 with 2 Axes>"
            ],
            "image/png": "[encoded data removed]"
          },
          "metadata": {}
        },
        {
          "output_type": "stream",
          "name": "stdout",
          "text": [
            "\n",
            "Model with Mutual Information Features:\n",
            "Accuracy: 0.9978768577494692\n",
            "Precision: 1.0\n",
            "Recall: 0.967741935483871\n",
            "F1-score: 0.9836065573770492\n"
          ]
        },
        {
          "output_type": "display_data",
          "data": {
            "text/plain": [
              "<Figure size 800x600 with 2 Axes>"
            ],
            "image/png": "[encoded data removed]"
          },
          "metadata": {}
        }
      ]
    }
  ],
  "metadata": {
    "colab": {
      "provenance": [],
      "collapsed_sections": [
        "OGetV0nGnZKt",
        "_iSr-bVwEzsL"
      ],
      "machine_shape": "hm",
      "gpuType": "T4",
      "include_colab_link": true
    },
    "kernelspec": {
      "display_name": "Python 3",
      "name": "python3"
    },
    "language_info": {
      "codemirror_mode": {
        "name": "ipython",
        "version": 3
      },
      "file_extension": ".py",
      "mimetype": "text/x-python",
      "name": "python",
      "nbconvert_exporter": "python",
      "pygments_lexer": "ipython3",
      "version": "3.11.5"
    },
    "accelerator": "GPU"
  },
  "nbformat": 4,
  "nbformat_minor": 0
}
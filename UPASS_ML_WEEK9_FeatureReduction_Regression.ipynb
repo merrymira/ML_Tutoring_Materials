{
  "cells": [
    {
      "cell_type": "markdown",
      "metadata": {
        "id": "view-in-github",
        "colab_type": "text"
      },
      "source": [
        "<a href=\"https://colab.research.google.com/github/merrymira/UPASS_ML_WEEK3/blob/main/UPASS_ML_WEEK9_FeatureReduction_Regression.ipynb\" target=\"_parent\"><img src=\"https://colab.research.google.com/assets/colab-badge.svg\" alt=\"Open In Colab\"/></a>"
      ]
    },
    {
      "cell_type": "markdown",
      "source": [
        "# Regression Problem"
      ],
      "metadata": {
        "id": "jBeI1LBlqFZY"
      }
    },
    {
      "cell_type": "markdown",
      "metadata": {
        "id": "smh_LhVjIg9s"
      },
      "source": [
        "# 1. Load and Explore Dataset"
      ]
    },
    {
      "cell_type": "markdown",
      "metadata": {
        "id": "fGxuXXdM0XlU"
      },
      "source": [
        "Import the pandas, numpy and altair packages"
      ]
    },
    {
      "cell_type": "code",
      "execution_count": null,
      "metadata": {
        "id": "faNd47YOMyk0"
      },
      "outputs": [],
      "source": [
        "# Solution\n",
        "import pandas as pd\n",
        "import numpy as np\n",
        "import altair as alt"
      ]
    },
    {
      "cell_type": "markdown",
      "metadata": {
        "id": "oypXVmCBh5jV"
      },
      "source": [
        "Mounting the drive\n",
        "In this notebook"
      ]
    },
    {
      "cell_type": "markdown",
      "metadata": {
        "id": "xhfJ4BK-0J2u"
      },
      "source": [
        "Read data from CSV file."
      ]
    },
    {
      "cell_type": "code",
      "execution_count": null,
      "metadata": {
        "id": "EzMcp0AMidO_"
      },
      "outputs": [],
      "source": [
        "data = pd.read_csv('https://raw.githubusercontent.com/merrymira/UPASS_ML_WEEK3/refs/heads/main/data_practice_week9_house_data.csv')"
      ]
    },
    {
      "cell_type": "markdown",
      "metadata": {
        "id": "VD0HoewD6anc"
      },
      "source": [
        "# 2. Data information"
      ]
    },
    {
      "cell_type": "code",
      "source": [
        "data.shape"
      ],
      "metadata": {
        "colab": {
          "base_uri": "https://localhost:8080/"
        },
        "id": "u5NLgaD8mL4q",
        "outputId": "12e83453-9394-438b-cfed-fc1f1f54478a"
      },
      "execution_count": null,
      "outputs": [
        {
          "output_type": "execute_result",
          "data": {
            "text/plain": [
              "(21613, 21)"
            ]
          },
          "metadata": {},
          "execution_count": 3
        }
      ]
    },
    {
      "cell_type": "code",
      "source": [
        "data.head()"
      ],
      "metadata": {
        "colab": {
          "base_uri": "https://localhost:8080/",
          "height": 255
        },
        "id": "-j_3k_fsl0OZ",
        "outputId": "9bf415c5-9759-45b8-8c41-8eeed0a18927"
      },
      "execution_count": null,
      "outputs": [
        {
          "output_type": "execute_result",
          "data": {
            "text/plain": [
              "           id             date     price  bedrooms  bathrooms  sqft_living  \\\n",
              "0  7129300520  20141013T000000  221900.0         3       1.00         1180   \n",
              "1  6414100192  20141209T000000  538000.0         3       2.25         2570   \n",
              "2  5631500400  20150225T000000  180000.0         2       1.00          770   \n",
              "3  2487200875  20141209T000000  604000.0         4       3.00         1960   \n",
              "4  1954400510  20150218T000000  510000.0         3       2.00         1680   \n",
              "\n",
              "   sqft_lot  floors  waterfront  view  ...  grade  sqft_above  sqft_basement  \\\n",
              "0      5650     1.0           0     0  ...      7        1180              0   \n",
              "1      7242     2.0           0     0  ...      7        2170            400   \n",
              "2     10000     1.0           0     0  ...      6         770              0   \n",
              "3      5000     1.0           0     0  ...      7        1050            910   \n",
              "4      8080     1.0           0     0  ...      8        1680              0   \n",
              "\n",
              "   yr_built  yr_renovated  zipcode      lat     long  sqft_living15  \\\n",
              "0      1955             0    98178  47.5112 -122.257           1340   \n",
              "1      1951          1991    98125  47.7210 -122.319           1690   \n",
              "2      1933             0    98028  47.7379 -122.233           2720   \n",
              "3      1965             0    98136  47.5208 -122.393           1360   \n",
              "4      1987             0    98074  47.6168 -122.045           1800   \n",
              "\n",
              "   sqft_lot15  \n",
              "0        5650  \n",
              "1        7639  \n",
              "2        8062  \n",
              "3        5000  \n",
              "4        7503  \n",
              "\n",
              "[5 rows x 21 columns]"
            ],
            "text/html": [
              "\n",
              "  <div id=\"df-b3ee6f0c-9036-40f0-9e49-35b952e4cb88\" class=\"colab-df-container\">\n",
              "    <div>\n",
              "<style scoped>\n",
              "    .dataframe tbody tr th:only-of-type {\n",
              "        vertical-align: middle;\n",
              "    }\n",
              "\n",
              "    .dataframe tbody tr th {\n",
              "        vertical-align: top;\n",
              "    }\n",
              "\n",
              "    .dataframe thead th {\n",
              "        text-align: right;\n",
              "    }\n",
              "</style>\n",
              "<table border=\"1\" class=\"dataframe\">\n",
              "  <thead>\n",
              "    <tr style=\"text-align: right;\">\n",
              "      <th></th>\n",
              "      <th>id</th>\n",
              "      <th>date</th>\n",
              "      <th>price</th>\n",
              "      <th>bedrooms</th>\n",
              "      <th>bathrooms</th>\n",
              "      <th>sqft_living</th>\n",
              "      <th>sqft_lot</th>\n",
              "      <th>floors</th>\n",
              "      <th>waterfront</th>\n",
              "      <th>view</th>\n",
              "      <th>...</th>\n",
              "      <th>grade</th>\n",
              "      <th>sqft_above</th>\n",
              "      <th>sqft_basement</th>\n",
              "      <th>yr_built</th>\n",
              "      <th>yr_renovated</th>\n",
              "      <th>zipcode</th>\n",
              "      <th>lat</th>\n",
              "      <th>long</th>\n",
              "      <th>sqft_living15</th>\n",
              "      <th>sqft_lot15</th>\n",
              "    </tr>\n",
              "  </thead>\n",
              "  <tbody>\n",
              "    <tr>\n",
              "      <th>0</th>\n",
              "      <td>7129300520</td>\n",
              "      <td>20141013T000000</td>\n",
              "      <td>221900.0</td>\n",
              "      <td>3</td>\n",
              "      <td>1.00</td>\n",
              "      <td>1180</td>\n",
              "      <td>5650</td>\n",
              "      <td>1.0</td>\n",
              "      <td>0</td>\n",
              "      <td>0</td>\n",
              "      <td>...</td>\n",
              "      <td>7</td>\n",
              "      <td>1180</td>\n",
              "      <td>0</td>\n",
              "      <td>1955</td>\n",
              "      <td>0</td>\n",
              "      <td>98178</td>\n",
              "      <td>47.5112</td>\n",
              "      <td>-122.257</td>\n",
              "      <td>1340</td>\n",
              "      <td>5650</td>\n",
              "    </tr>\n",
              "    <tr>\n",
              "      <th>1</th>\n",
              "      <td>6414100192</td>\n",
              "      <td>20141209T000000</td>\n",
              "      <td>538000.0</td>\n",
              "      <td>3</td>\n",
              "      <td>2.25</td>\n",
              "      <td>2570</td>\n",
              "      <td>7242</td>\n",
              "      <td>2.0</td>\n",
              "      <td>0</td>\n",
              "      <td>0</td>\n",
              "      <td>...</td>\n",
              "      <td>7</td>\n",
              "      <td>2170</td>\n",
              "      <td>400</td>\n",
              "      <td>1951</td>\n",
              "      <td>1991</td>\n",
              "      <td>98125</td>\n",
              "      <td>47.7210</td>\n",
              "      <td>-122.319</td>\n",
              "      <td>1690</td>\n",
              "      <td>7639</td>\n",
              "    </tr>\n",
              "    <tr>\n",
              "      <th>2</th>\n",
              "      <td>5631500400</td>\n",
              "      <td>20150225T000000</td>\n",
              "      <td>180000.0</td>\n",
              "      <td>2</td>\n",
              "      <td>1.00</td>\n",
              "      <td>770</td>\n",
              "      <td>10000</td>\n",
              "      <td>1.0</td>\n",
              "      <td>0</td>\n",
              "      <td>0</td>\n",
              "      <td>...</td>\n",
              "      <td>6</td>\n",
              "      <td>770</td>\n",
              "      <td>0</td>\n",
              "      <td>1933</td>\n",
              "      <td>0</td>\n",
              "      <td>98028</td>\n",
              "      <td>47.7379</td>\n",
              "      <td>-122.233</td>\n",
              "      <td>2720</td>\n",
              "      <td>8062</td>\n",
              "    </tr>\n",
              "    <tr>\n",
              "      <th>3</th>\n",
              "      <td>2487200875</td>\n",
              "      <td>20141209T000000</td>\n",
              "      <td>604000.0</td>\n",
              "      <td>4</td>\n",
              "      <td>3.00</td>\n",
              "      <td>1960</td>\n",
              "      <td>5000</td>\n",
              "      <td>1.0</td>\n",
              "      <td>0</td>\n",
              "      <td>0</td>\n",
              "      <td>...</td>\n",
              "      <td>7</td>\n",
              "      <td>1050</td>\n",
              "      <td>910</td>\n",
              "      <td>1965</td>\n",
              "      <td>0</td>\n",
              "      <td>98136</td>\n",
              "      <td>47.5208</td>\n",
              "      <td>-122.393</td>\n",
              "      <td>1360</td>\n",
              "      <td>5000</td>\n",
              "    </tr>\n",
              "    <tr>\n",
              "      <th>4</th>\n",
              "      <td>1954400510</td>\n",
              "      <td>20150218T000000</td>\n",
              "      <td>510000.0</td>\n",
              "      <td>3</td>\n",
              "      <td>2.00</td>\n",
              "      <td>1680</td>\n",
              "      <td>8080</td>\n",
              "      <td>1.0</td>\n",
              "      <td>0</td>\n",
              "      <td>0</td>\n",
              "      <td>...</td>\n",
              "      <td>8</td>\n",
              "      <td>1680</td>\n",
              "      <td>0</td>\n",
              "      <td>1987</td>\n",
              "      <td>0</td>\n",
              "      <td>98074</td>\n",
              "      <td>47.6168</td>\n",
              "      <td>-122.045</td>\n",
              "      <td>1800</td>\n",
              "      <td>7503</td>\n",
              "    </tr>\n",
              "  </tbody>\n",
              "</table>\n",
              "<p>5 rows × 21 columns</p>\n",
              "</div>\n",
              "    <div class=\"colab-df-buttons\">\n",
              "\n",
              "  <div class=\"colab-df-container\">\n",
              "    <button class=\"colab-df-convert\" onclick=\"convertToInteractive('df-b3ee6f0c-9036-40f0-9e49-35b952e4cb88')\"\n",
              "            title=\"Convert this dataframe to an interactive table.\"\n",
              "            style=\"display:none;\">\n",
              "\n",
              "  <svg xmlns=\"http://www.w3.org/2000/svg\" height=\"24px\" viewBox=\"0 -960 960 960\">\n",
              "    <path d=\"M120-120v-720h720v720H120Zm60-500h600v-160H180v160Zm220 220h160v-160H400v160Zm0 220h160v-160H400v160ZM180-400h160v-160H180v160Zm440 0h160v-160H620v160ZM180-180h160v-160H180v160Zm440 0h160v-160H620v160Z\"/>\n",
              "  </svg>\n",
              "    </button>\n",
              "\n",
              "  <style>\n",
              "    .colab-df-container {\n",
              "      display:flex;\n",
              "      gap: 12px;\n",
              "    }\n",
              "\n",
              "    .colab-df-convert {\n",
              "      background-color: #E8F0FE;\n",
              "      border: none;\n",
              "      border-radius: 50%;\n",
              "      cursor: pointer;\n",
              "      display: none;\n",
              "      fill: #1967D2;\n",
              "      height: 32px;\n",
              "      padding: 0 0 0 0;\n",
              "      width: 32px;\n",
              "    }\n",
              "\n",
              "    .colab-df-convert:hover {\n",
              "      background-color: #E2EBFA;\n",
              "      box-shadow: 0px 1px 2px rgba(60, 64, 67, 0.3), 0px 1px 3px 1px rgba(60, 64, 67, 0.15);\n",
              "      fill: #174EA6;\n",
              "    }\n",
              "\n",
              "    .colab-df-buttons div {\n",
              "      margin-bottom: 4px;\n",
              "    }\n",
              "\n",
              "    [theme=dark] .colab-df-convert {\n",
              "      background-color: #3B4455;\n",
              "      fill: #D2E3FC;\n",
              "    }\n",
              "\n",
              "    [theme=dark] .colab-df-convert:hover {\n",
              "      background-color: #434B5C;\n",
              "      box-shadow: 0px 1px 3px 1px rgba(0, 0, 0, 0.15);\n",
              "      filter: drop-shadow(0px 1px 2px rgba(0, 0, 0, 0.3));\n",
              "      fill: #FFFFFF;\n",
              "    }\n",
              "  </style>\n",
              "\n",
              "    <script>\n",
              "      const buttonEl =\n",
              "        document.querySelector('#df-b3ee6f0c-9036-40f0-9e49-35b952e4cb88 button.colab-df-convert');\n",
              "      buttonEl.style.display =\n",
              "        google.colab.kernel.accessAllowed ? 'block' : 'none';\n",
              "\n",
              "      async function convertToInteractive(key) {\n",
              "        const element = document.querySelector('#df-b3ee6f0c-9036-40f0-9e49-35b952e4cb88');\n",
              "        const dataTable =\n",
              "          await google.colab.kernel.invokeFunction('convertToInteractive',\n",
              "                                                    [key], {});\n",
              "        if (!dataTable) return;\n",
              "\n",
              "        const docLinkHtml = 'Like what you see? Visit the ' +\n",
              "          '<a target=\"_blank\" href=https://colab.research.google.com/notebooks/data_table.ipynb>data table notebook</a>'\n",
              "          + ' to learn more about interactive tables.';\n",
              "        element.innerHTML = '';\n",
              "        dataTable['output_type'] = 'display_data';\n",
              "        await google.colab.output.renderOutput(dataTable, element);\n",
              "        const docLink = document.createElement('div');\n",
              "        docLink.innerHTML = docLinkHtml;\n",
              "        element.appendChild(docLink);\n",
              "      }\n",
              "    </script>\n",
              "  </div>\n",
              "\n",
              "\n",
              "<div id=\"df-fa65985d-b245-4514-b68b-cd834c359254\">\n",
              "  <button class=\"colab-df-quickchart\" onclick=\"quickchart('df-fa65985d-b245-4514-b68b-cd834c359254')\"\n",
              "            title=\"Suggest charts\"\n",
              "            style=\"display:none;\">\n",
              "\n",
              "<svg xmlns=\"http://www.w3.org/2000/svg\" height=\"24px\"viewBox=\"0 0 24 24\"\n",
              "     width=\"24px\">\n",
              "    <g>\n",
              "        <path d=\"M19 3H5c-1.1 0-2 .9-2 2v14c0 1.1.9 2 2 2h14c1.1 0 2-.9 2-2V5c0-1.1-.9-2-2-2zM9 17H7v-7h2v7zm4 0h-2V7h2v10zm4 0h-2v-4h2v4z\"/>\n",
              "    </g>\n",
              "</svg>\n",
              "  </button>\n",
              "\n",
              "<style>\n",
              "  .colab-df-quickchart {\n",
              "      --bg-color: #E8F0FE;\n",
              "      --fill-color: #1967D2;\n",
              "      --hover-bg-color: #E2EBFA;\n",
              "      --hover-fill-color: #174EA6;\n",
              "      --disabled-fill-color: #AAA;\n",
              "      --disabled-bg-color: #DDD;\n",
              "  }\n",
              "\n",
              "  [theme=dark] .colab-df-quickchart {\n",
              "      --bg-color: #3B4455;\n",
              "      --fill-color: #D2E3FC;\n",
              "      --hover-bg-color: #434B5C;\n",
              "      --hover-fill-color: #FFFFFF;\n",
              "      --disabled-bg-color: #3B4455;\n",
              "      --disabled-fill-color: #666;\n",
              "  }\n",
              "\n",
              "  .colab-df-quickchart {\n",
              "    background-color: var(--bg-color);\n",
              "    border: none;\n",
              "    border-radius: 50%;\n",
              "    cursor: pointer;\n",
              "    display: none;\n",
              "    fill: var(--fill-color);\n",
              "    height: 32px;\n",
              "    padding: 0;\n",
              "    width: 32px;\n",
              "  }\n",
              "\n",
              "  .colab-df-quickchart:hover {\n",
              "    background-color: var(--hover-bg-color);\n",
              "    box-shadow: 0 1px 2px rgba(60, 64, 67, 0.3), 0 1px 3px 1px rgba(60, 64, 67, 0.15);\n",
              "    fill: var(--button-hover-fill-color);\n",
              "  }\n",
              "\n",
              "  .colab-df-quickchart-complete:disabled,\n",
              "  .colab-df-quickchart-complete:disabled:hover {\n",
              "    background-color: var(--disabled-bg-color);\n",
              "    fill: var(--disabled-fill-color);\n",
              "    box-shadow: none;\n",
              "  }\n",
              "\n",
              "  .colab-df-spinner {\n",
              "    border: 2px solid var(--fill-color);\n",
              "    border-color: transparent;\n",
              "    border-bottom-color: var(--fill-color);\n",
              "    animation:\n",
              "      spin 1s steps(1) infinite;\n",
              "  }\n",
              "\n",
              "  @keyframes spin {\n",
              "    0% {\n",
              "      border-color: transparent;\n",
              "      border-bottom-color: var(--fill-color);\n",
              "      border-left-color: var(--fill-color);\n",
              "    }\n",
              "    20% {\n",
              "      border-color: transparent;\n",
              "      border-left-color: var(--fill-color);\n",
              "      border-top-color: var(--fill-color);\n",
              "    }\n",
              "    30% {\n",
              "      border-color: transparent;\n",
              "      border-left-color: var(--fill-color);\n",
              "      border-top-color: var(--fill-color);\n",
              "      border-right-color: var(--fill-color);\n",
              "    }\n",
              "    40% {\n",
              "      border-color: transparent;\n",
              "      border-right-color: var(--fill-color);\n",
              "      border-top-color: var(--fill-color);\n",
              "    }\n",
              "    60% {\n",
              "      border-color: transparent;\n",
              "      border-right-color: var(--fill-color);\n",
              "    }\n",
              "    80% {\n",
              "      border-color: transparent;\n",
              "      border-right-color: var(--fill-color);\n",
              "      border-bottom-color: var(--fill-color);\n",
              "    }\n",
              "    90% {\n",
              "      border-color: transparent;\n",
              "      border-bottom-color: var(--fill-color);\n",
              "    }\n",
              "  }\n",
              "</style>\n",
              "\n",
              "  <script>\n",
              "    async function quickchart(key) {\n",
              "      const quickchartButtonEl =\n",
              "        document.querySelector('#' + key + ' button');\n",
              "      quickchartButtonEl.disabled = true;  // To prevent multiple clicks.\n",
              "      quickchartButtonEl.classList.add('colab-df-spinner');\n",
              "      try {\n",
              "        const charts = await google.colab.kernel.invokeFunction(\n",
              "            'suggestCharts', [key], {});\n",
              "      } catch (error) {\n",
              "        console.error('Error during call to suggestCharts:', error);\n",
              "      }\n",
              "      quickchartButtonEl.classList.remove('colab-df-spinner');\n",
              "      quickchartButtonEl.classList.add('colab-df-quickchart-complete');\n",
              "    }\n",
              "    (() => {\n",
              "      let quickchartButtonEl =\n",
              "        document.querySelector('#df-fa65985d-b245-4514-b68b-cd834c359254 button');\n",
              "      quickchartButtonEl.style.display =\n",
              "        google.colab.kernel.accessAllowed ? 'block' : 'none';\n",
              "    })();\n",
              "  </script>\n",
              "</div>\n",
              "\n",
              "    </div>\n",
              "  </div>\n"
            ],
            "application/vnd.google.colaboratory.intrinsic+json": {
              "type": "dataframe",
              "variable_name": "data"
            }
          },
          "metadata": {},
          "execution_count": 4
        }
      ]
    },
    {
      "cell_type": "code",
      "execution_count": null,
      "metadata": {
        "colab": {
          "base_uri": "https://localhost:8080/"
        },
        "id": "KvAhRjrOvMQi",
        "outputId": "b45350ce-3d12-4eeb-9306-b653d207b461"
      },
      "outputs": [
        {
          "output_type": "stream",
          "name": "stdout",
          "text": [
            "<class 'pandas.core.frame.DataFrame'>\n",
            "RangeIndex: 21613 entries, 0 to 21612\n",
            "Data columns (total 21 columns):\n",
            " #   Column         Non-Null Count  Dtype  \n",
            "---  ------         --------------  -----  \n",
            " 0   id             21613 non-null  int64  \n",
            " 1   date           21613 non-null  object \n",
            " 2   price          21613 non-null  float64\n",
            " 3   bedrooms       21613 non-null  int64  \n",
            " 4   bathrooms      21613 non-null  float64\n",
            " 5   sqft_living    21613 non-null  int64  \n",
            " 6   sqft_lot       21613 non-null  int64  \n",
            " 7   floors         21613 non-null  float64\n",
            " 8   waterfront     21613 non-null  int64  \n",
            " 9   view           21613 non-null  int64  \n",
            " 10  condition      21613 non-null  int64  \n",
            " 11  grade          21613 non-null  int64  \n",
            " 12  sqft_above     21613 non-null  int64  \n",
            " 13  sqft_basement  21613 non-null  int64  \n",
            " 14  yr_built       21613 non-null  int64  \n",
            " 15  yr_renovated   21613 non-null  int64  \n",
            " 16  zipcode        21613 non-null  int64  \n",
            " 17  lat            21613 non-null  float64\n",
            " 18  long           21613 non-null  float64\n",
            " 19  sqft_living15  21613 non-null  int64  \n",
            " 20  sqft_lot15     21613 non-null  int64  \n",
            "dtypes: float64(5), int64(15), object(1)\n",
            "memory usage: 3.5+ MB\n"
          ]
        }
      ],
      "source": [
        "data.info()"
      ]
    },
    {
      "cell_type": "markdown",
      "metadata": {
        "id": "prwbj7PX7cJJ"
      },
      "source": [
        "# 3. Data cleaning"
      ]
    },
    {
      "cell_type": "markdown",
      "metadata": {
        "id": "-n2TBGEV7zQW"
      },
      "source": [
        "##Drop duplicated records\n",
        "Found duplicated data 1702 records"
      ]
    },
    {
      "cell_type": "code",
      "execution_count": null,
      "metadata": {
        "colab": {
          "base_uri": "https://localhost:8080/"
        },
        "id": "tMIgUZdk779q",
        "outputId": "686ed61b-066f-40a1-f056-58cc44b5a109"
      },
      "outputs": [
        {
          "output_type": "stream",
          "name": "stdout",
          "text": [
            "Number of duplicated values in Data set: 0\n"
          ]
        }
      ],
      "source": [
        "# Check for duplicated values and display the count\n",
        "duplicate_count = data.duplicated().sum()\n",
        "\n",
        "# Print the number of duplicated values\n",
        "print(\"Number of duplicated values in Data set:\", duplicate_count)"
      ]
    },
    {
      "cell_type": "code",
      "execution_count": null,
      "metadata": {
        "colab": {
          "base_uri": "https://localhost:8080/"
        },
        "id": "q3QsSLDxegOT",
        "outputId": "66f9ae98-86e9-49b1-fa34-91c39406cc4f"
      },
      "outputs": [
        {
          "output_type": "stream",
          "name": "stdout",
          "text": [
            "Number of Records before drop duplicated : 21613\n",
            "Number of Records after drop duplicated : 21613\n"
          ]
        }
      ],
      "source": [
        "num_records = data.shape[0]\n",
        "print(f\"Number of Records before drop duplicated : {num_records}\")\n",
        "\n",
        "data = data.drop_duplicates()\n",
        "num_records = data.shape[0]\n",
        "print(f\"Number of Records after drop duplicated : {num_records}\")"
      ]
    },
    {
      "cell_type": "markdown",
      "metadata": {
        "id": "oiK8cprHmLQ4"
      },
      "source": [
        "###Check Null value in columns\n",
        "Found Null value in columns"
      ]
    },
    {
      "cell_type": "code",
      "execution_count": null,
      "metadata": {
        "colab": {
          "base_uri": "https://localhost:8080/"
        },
        "id": "zTz7oiiKmW7v",
        "outputId": "ca0d639c-85ca-4a73-b0f5-95f638df25b8"
      },
      "outputs": [
        {
          "output_type": "stream",
          "name": "stdout",
          "text": [
            "No null values found in any column.\n"
          ]
        }
      ],
      "source": [
        "# Check for null values in all columns\n",
        "null_columns = data.columns[data.isnull().any()]\n",
        "null_count = data[null_columns].isnull().sum()\n",
        "\n",
        "if null_count.empty:\n",
        "    print(\"No null values found in any column.\")\n",
        "else:\n",
        "    print(\"Columns with null values in data set:\")\n",
        "    print(null_count)"
      ]
    },
    {
      "cell_type": "markdown",
      "source": [
        "# 4. Feature Reduction"
      ],
      "metadata": {
        "id": "VEWRDwuotG_3"
      }
    },
    {
      "cell_type": "markdown",
      "source": [
        "##(1) Principal Component Analysis (PCA)"
      ],
      "metadata": {
        "id": "A91r1htkuqiz"
      }
    },
    {
      "cell_type": "code",
      "source": [
        "import pandas as pd\n",
        "import numpy as np\n",
        "from sklearn.preprocessing import StandardScaler\n",
        "from sklearn.decomposition import PCA\n",
        "import matplotlib.pyplot as plt\n",
        "\n",
        "# Split the data into features and target variable\n",
        "X = data.drop(['id','date'], axis=1)\n",
        "y = data['price']\n",
        "\n",
        "# Scale the features\n",
        "scaler = StandardScaler()\n",
        "X_scaled = scaler.fit_transform(X)\n",
        "\n",
        "# Apply PCA\n",
        "pca = PCA()\n",
        "X_pca = pca.fit_transform(X_scaled)\n",
        "\n",
        "# Print the explained variance ratio\n",
        "print(\"Explained Variance Ratio per Component:\\n\", pca.explained_variance_ratio_)\n",
        "\n",
        "# Calculate the cumulative sum of the explained variance ratio\n",
        "cumulative_var_ratio = np.cumsum(pca.explained_variance_ratio_)\n",
        "\n",
        "# Find the number of principal components that explain at least 90% of the total variance\n",
        "# n_components = np.where(cumulative_var_ratio >= 0.90)[0][0] + 1\n",
        "\n",
        "# Changed the threshold to 0.80 since 0.90 wasn't reached\n",
        "n_components = np.argmax(cumulative_var_ratio >= 0.80) + 1\n",
        "# If none of the components reach 0.8, set n_components to the total number of components\n",
        "n_components = n_components if n_components > 0 else pca.n_components_\n",
        "\n",
        "# Select the first n_components principal components from the transformed data\n",
        "X_pca_selected = X_pca[:, :n_components]\n",
        "\n",
        "# Plot the cumulative explained variance ratio\n",
        "plt.figure(figsize=(8, 6))\n",
        "plt.plot(cumulative_var_ratio, marker='o', label=\"Cumulative Explained Variance\")\n",
        "plt.axhline(y=0.80, color='r', linestyle='--', label='90% variance')  # Adjust this line to 90% if needed\n",
        "plt.axvline(x=n_components-1, color='g', linestyle='--', label=f'{n_components} components')\n",
        "plt.xlabel('Number of Components')\n",
        "plt.ylabel('Cumulative Explained Variance')\n",
        "plt.title('PCA Explained Variance')\n",
        "plt.legend()\n",
        "plt.grid(True)\n",
        "plt.show()\n",
        "\n",
        "# Cumulative variance\n",
        "print(\"Cumulative Variance:\", cumulative_var_ratio)\n",
        "print('Number of Components (90% variance) = ', n_components)\n",
        "print('Original Data Shape = ', data.shape)\n"
      ],
      "metadata": {
        "colab": {
          "base_uri": "https://localhost:8080/",
          "height": 772
        },
        "id": "i6xDJIaSwRTf",
        "outputId": "a753b11a-1e27-4f62-8c19-9d2e73b8e589"
      },
      "execution_count": null,
      "outputs": [
        {
          "output_type": "stream",
          "name": "stdout",
          "text": [
            "Explained Variance Ratio per Component:\n",
            " [2.98706050e-01 1.27107770e-01 9.71101675e-02 7.25173664e-02\n",
            " 6.35052253e-02 5.29717864e-02 4.93086988e-02 4.40343935e-02\n",
            " 3.47733504e-02 3.16396863e-02 2.69960697e-02 2.21205301e-02\n",
            " 1.74759120e-02 1.54851902e-02 1.39287694e-02 1.24869134e-02\n",
            " 1.02221929e-02 9.60992764e-03 1.21882645e-17]\n"
          ]
        },
        {
          "output_type": "display_data",
          "data": {
            "text/plain": [
              "<Figure size 800x600 with 1 Axes>"
            ],
            "image/png": "[encoded data removed]"
          },
          "metadata": {}
        },
        {
          "output_type": "stream",
          "name": "stdout",
          "text": [
            "Cumulative Variance: [0.29870605 0.42581382 0.52292399 0.59544135 0.65894658 0.71191837\n",
            " 0.76122706 0.80526146 0.84003481 0.87167449 0.89867056 0.92079109\n",
            " 0.93826701 0.9537522  0.96768097 0.98016788 0.99039007 1.\n",
            " 1.        ]\n",
            "Number of Components (90% variance) =  8\n",
            "Original Data Shape =  (21613, 21)\n"
          ]
        }
      ]
    },
    {
      "cell_type": "markdown",
      "source": [
        "**Number of Components (90% variance) = 12**: This means that, after performing PCA, you need 12 principal components to explain at least 90% of the variance in the original data.\n",
        "\n",
        "**Original Data Shape = (21613, 21)**: This means your original dataset has 21613 samples (rows) and 21 features (columns).\n",
        "\n",
        "\n",
        "**Interpretation:**\n",
        "\n",
        "PCA reduces the dimensionality of the data by transforming the original features into new \"principal components,\" which are linear combinations of the original features. These components are ordered by the amount of variance they explain, with the first few components capturing most of the variance in the data."
      ],
      "metadata": {
        "id": "gGLbLGQn_Ywa"
      }
    },
    {
      "cell_type": "markdown",
      "source": [
        "##(1.1) PCA: Find Top 10 Contributing Features for each component:"
      ],
      "metadata": {
        "id": "l5nJErg5A1ZB"
      }
    },
    {
      "cell_type": "code",
      "source": [
        "import pandas as pd\n",
        "import numpy as np\n",
        "from sklearn.decomposition import PCA\n",
        "from sklearn.preprocessing import StandardScaler\n",
        "\n",
        "# Select only the numerical features for PCA\n",
        "numerical_features = data.select_dtypes(include=[np.number])\n",
        "\n",
        "# Standardizing the features\n",
        "scaler = StandardScaler()\n",
        "data_scaled = scaler.fit_transform(numerical_features)\n",
        "\n",
        "# Fit PCA\n",
        "pca = PCA(n_components=12)  # Set number of components to 12 (the ones explaining 90% variance)\n",
        "pca.fit(data_scaled)\n",
        "\n",
        "# Get the PCA components (loadings)\n",
        "pca_components = pca.components_\n",
        "\n",
        "# Create a DataFrame to hold the loadings for each component\n",
        "loadings_df = pd.DataFrame(pca_components.T, index=numerical_features.columns, columns=[f'PC{i+1}' for i in range(12)])\n",
        "\n",
        "# Find the top contributing features for each principal component\n",
        "top_contributing_features = {}\n",
        "\n",
        "# For each principal component, find the top features based on absolute loadings\n",
        "for i in range(12):\n",
        "    component = f'PC{i+1}'\n",
        "    top_features = loadings_df[component].abs().sort_values(ascending=False).head(10)  # Get top 10 features for each component\n",
        "    top_contributing_features[component] = top_features.index.tolist()\n",
        "\n",
        "# Display the top contributing features for each component\n",
        "for pc, features in top_contributing_features.items():\n",
        "    print(f\"Top features contributing to {pc}: {features}\")\n"
      ],
      "metadata": {
        "colab": {
          "base_uri": "https://localhost:8080/"
        },
        "id": "5g0Za6A4zQ7a",
        "outputId": "127e4ba6-cda8-436f-fd3e-5de923bdd5e0"
      },
      "execution_count": null,
      "outputs": [
        {
          "output_type": "stream",
          "name": "stdout",
          "text": [
            "Top features contributing to PC1: ['sqft_living', 'sqft_above', 'grade', 'bathrooms', 'sqft_living15', 'price', 'bedrooms', 'floors', 'yr_built', 'long']\n",
            "Top features contributing to PC2: ['sqft_basement', 'long', 'yr_built', 'zipcode', 'view', 'price', 'lat', 'condition', 'waterfront', 'yr_renovated']\n",
            "Top features contributing to PC3: ['sqft_lot15', 'sqft_lot', 'floors', 'condition', 'yr_built', 'id', 'long', 'sqft_basement', 'lat', 'zipcode']\n",
            "Top features contributing to PC4: ['condition', 'bedrooms', 'sqft_basement', 'zipcode', 'floors', 'waterfront', 'sqft_lot', 'sqft_lot15', 'yr_renovated', 'lat']\n",
            "Top features contributing to PC5: ['waterfront', 'view', 'lat', 'id', 'zipcode', 'sqft_lot', 'sqft_lot15', 'long', 'bedrooms', 'yr_built']\n",
            "Top features contributing to PC6: ['yr_renovated', 'lat', 'condition', 'bedrooms', 'yr_built', 'view', 'waterfront', 'price', 'zipcode', 'grade']\n",
            "Top features contributing to PC7: ['id', 'lat', 'long', 'bedrooms', 'yr_built', 'yr_renovated', 'price', 'bathrooms', 'zipcode', 'sqft_basement']\n",
            "Top features contributing to PC8: ['id', 'condition', 'sqft_basement', 'zipcode', 'lat', 'long', 'sqft_lot', 'price', 'sqft_lot15', 'yr_built']\n",
            "Top features contributing to PC9: ['condition', 'sqft_basement', 'lat', 'floors', 'long', 'id', 'sqft_above', 'yr_built', 'zipcode', 'bedrooms']\n",
            "Top features contributing to PC10: ['waterfront', 'bedrooms', 'lat', 'sqft_living15', 'view', 'grade', 'floors', 'bathrooms', 'long', 'sqft_lot']\n",
            "Top features contributing to PC11: ['bedrooms', 'condition', 'yr_built', 'sqft_basement', 'floors', 'bathrooms', 'sqft_above', 'sqft_living15', 'yr_renovated', 'zipcode']\n",
            "Top features contributing to PC12: ['view', 'waterfront', 'long', 'bedrooms', 'lat', 'price', 'grade', 'floors', 'sqft_basement', 'sqft_living']\n"
          ]
        }
      ]
    },
    {
      "cell_type": "markdown",
      "source": [
        "**Identify the most important features contributing to the first 117 principal components:**\n",
        "\n",
        "\n",
        "1.   **PCA Loadings (Components Weights):** PCA generates \"loadings\" that show how much each original feature contributes to each principal component. These loadings are coefficients that map original features to the new principal components.\n",
        "2.   **Identify the Top Features Based on Loadings:** For each of the 117 principal components, you can rank the original features by their absolute loading values. Features with higher absolute values of loadings contribute more to the component."
      ],
      "metadata": {
        "id": "eomRDCTiBt2l"
      }
    },
    {
      "cell_type": "markdown",
      "source": [
        "##(1.2) PCA Find Unique Features Across All Principal Components:"
      ],
      "metadata": {
        "id": "Q91EzFBbBYAc"
      }
    },
    {
      "cell_type": "code",
      "source": [
        "import pandas as pd\n",
        "import numpy as np\n",
        "from sklearn.decomposition import PCA\n",
        "from sklearn.preprocessing import StandardScaler\n",
        "\n",
        "# Select only the numerical features for PCA\n",
        "numerical_features = data.select_dtypes(include=[np.number])\n",
        "\n",
        "# Standardizing the features\n",
        "scaler = StandardScaler()\n",
        "data_scaled = scaler.fit_transform(numerical_features)\n",
        "\n",
        "# Fit PCA\n",
        "pca = PCA(n_components=12)  # Set number of components to 12 (the ones explaining 90% variance)\n",
        "pca.fit(data_scaled)\n",
        "\n",
        "# Get the PCA components (loadings)\n",
        "pca_components = pca.components_\n",
        "\n",
        "# Create a DataFrame to hold the loadings for each component\n",
        "loadings_df = pd.DataFrame(pca_components.T, index=numerical_features.columns, columns=[f'PC{i+1}' for i in range(12)])\n",
        "\n",
        "# Find the top contributing features for each principal component\n",
        "distinct_features = set()  # Use a set to keep track of distinct features\n",
        "\n",
        "# For each principal component, find the top features based on absolute loadings\n",
        "for i in range(12):\n",
        "    component = f'PC{i+1}'\n",
        "    top_features = loadings_df[component].abs().sort_values(ascending=False).head(10).index.tolist()  # Get top 10 features for each component\n",
        "    distinct_features.update(top_features)  # Add features to the set\n",
        "\n",
        "# Convert the set of distinct features to a list for easier manipulation\n",
        "pca_distinct_features = list(distinct_features)\n",
        "\n",
        "# Print distinct features\n",
        "print(f\"Total number of distinct features: {len(pca_distinct_features)}\")\n",
        "print(\"Distinct features contributing to the PCs:\")\n",
        "for feature in pca_distinct_features:\n",
        "    print(feature)\n"
      ],
      "metadata": {
        "colab": {
          "base_uri": "https://localhost:8080/"
        },
        "id": "SiuHOKXwzs_E",
        "outputId": "9ed0145b-cec5-4431-f4bd-052155f263e6"
      },
      "execution_count": null,
      "outputs": [
        {
          "output_type": "stream",
          "name": "stdout",
          "text": [
            "Total number of distinct features: 20\n",
            "Distinct features contributing to the PCs:\n",
            "sqft_living\n",
            "sqft_lot\n",
            "sqft_basement\n",
            "sqft_above\n",
            "view\n",
            "waterfront\n",
            "sqft_lot15\n",
            "sqft_living15\n",
            "long\n",
            "zipcode\n",
            "yr_renovated\n",
            "id\n",
            "bathrooms\n",
            "grade\n",
            "price\n",
            "condition\n",
            "yr_built\n",
            "lat\n",
            "floors\n",
            "bedrooms\n"
          ]
        }
      ]
    },
    {
      "cell_type": "markdown",
      "source": [
        "**Total number of distinct features from 12 components: 20**\n",
        "\n",
        "To identify distinct features contributing to each principal component (PC).\n",
        "\n",
        "\n",
        "1.   Get distinct features across all principal components.\n",
        "2.   Avoid duplication: Ensure features contributing to multiple PCs are only listed once.\n",
        "\n",
        "\n",
        "\n"
      ],
      "metadata": {
        "id": "Zlvq0D7WCgQs"
      }
    },
    {
      "cell_type": "markdown",
      "source": [
        "##(2) Sensitivity Analysis - Mutual Information"
      ],
      "metadata": {
        "id": "h24I6iJidRtz"
      }
    },
    {
      "cell_type": "code",
      "source": [
        "from sklearn.feature_selection import mutual_info_classif\n",
        "from sklearn.model_selection import train_test_split\n",
        "\n",
        "# Split the data into features and target variable\n",
        "X = data.drop(['id','date'], axis=1)\n",
        "y = data['price']\n",
        "\n",
        "# Splitting data into training and testing sets\n",
        "X_train, X_test, y_train, y_test = train_test_split(X, y, test_size=0.3, random_state=42)\n",
        "\n",
        "# Standardizing the features\n",
        "scaler = StandardScaler()\n",
        "X_train_scaled = scaler.fit_transform(X_train)\n",
        "X_test_scaled = scaler.transform(X_test)\n",
        "\n",
        "\n",
        "# Calculate mutual information scores\n",
        "mi_scores = mutual_info_classif(X_train_scaled, y_train)\n",
        "mi_indices = np.argsort(mi_scores)[::-1]\n",
        "mi_top_features = X_train.columns[mi_indices[:20]]\n",
        "print(\"Top features based on Mutual Information:\", mi_top_features)\n",
        "print(\"Number of Top features based on Mutual Information:\", len(mi_top_features))\n"
      ],
      "metadata": {
        "id": "wjViLDGXioGo",
        "colab": {
          "base_uri": "https://localhost:8080/"
        },
        "outputId": "5de68e14-373a-4595-f722-030c4b4f295a"
      },
      "execution_count": null,
      "outputs": [
        {
          "output_type": "stream",
          "name": "stdout",
          "text": [
            "Top features based on Mutual Information: Index(['price', 'waterfront', 'yr_renovated', 'view', 'grade', 'floors',\n",
            "       'sqft_basement', 'condition', 'bedrooms', 'lat', 'sqft_living',\n",
            "       'bathrooms', 'sqft_living15', 'sqft_above', 'zipcode', 'sqft_lot15',\n",
            "       'sqft_lot', 'long', 'yr_built'],\n",
            "      dtype='object')\n",
            "Number of Top features based on Mutual Information: 19\n"
          ]
        }
      ]
    },
    {
      "cell_type": "code",
      "source": [
        "# prompt: mi_top_features drop column 'price'\n",
        "\n",
        "mi_top_features = mi_top_features.drop('price', errors='ignore')\n",
        "print(\"Top features based on Mutual Information (without price):\", mi_top_features)\n",
        "print(\"Number of Top features based on Mutual Information (without price):\", len(mi_top_features))\n"
      ],
      "metadata": {
        "colab": {
          "base_uri": "https://localhost:8080/"
        },
        "id": "DPkqSJhemh6F",
        "outputId": "b8872d6c-2523-4033-a317-a007a3ce0e9e"
      },
      "execution_count": null,
      "outputs": [
        {
          "output_type": "stream",
          "name": "stdout",
          "text": [
            "Top features based on Mutual Information (without price): Index(['waterfront', 'yr_renovated', 'view', 'grade', 'floors',\n",
            "       'sqft_basement', 'condition', 'bedrooms', 'lat', 'sqft_living',\n",
            "       'bathrooms', 'sqft_living15', 'sqft_above', 'zipcode', 'sqft_lot15',\n",
            "       'sqft_lot', 'long', 'yr_built'],\n",
            "      dtype='object')\n",
            "Number of Top features based on Mutual Information (without price): 18\n"
          ]
        }
      ]
    },
    {
      "cell_type": "markdown",
      "source": [
        "##(3) Compare the predition performance of a training model on feature sets from PCA and Mutual Information"
      ],
      "metadata": {
        "id": "B1G3CsRTnc0G"
      }
    },
    {
      "cell_type": "code",
      "source": [
        "# prompt: use regression model and compare the training model on 20 features from the above PCA and compare with 19 features from mutual_info_classif\n",
        "\n",
        "from sklearn.linear_model import LinearRegression\n",
        "from sklearn.metrics import mean_squared_error, r2_score\n",
        "\n",
        "# Split the data into features and target variable\n",
        "X = data.drop(['id','date'], axis=1)\n",
        "y = data['price']\n",
        "\n",
        "# Select features from PCA\n",
        "X_pca = data[pca_distinct_features]\n",
        "\n",
        "# Splitting data into training and testing sets\n",
        "X_train_pca, X_test_pca, y_train_pca, y_test_pca = train_test_split(X_pca, y, test_size=0.3, random_state=42)\n",
        "\n",
        "# Select features from Mutual Information\n",
        "X_mi = data[mi_top_features]\n",
        "\n",
        "# Splitting data into training and testing sets\n",
        "X_train_mi, X_test_mi, y_train_mi, y_test_mi = train_test_split(X_mi, y, test_size=0.3, random_state=42)\n",
        "\n",
        "# Train and evaluate Linear Regression model with PCA features\n",
        "model_pca = LinearRegression()\n",
        "model_pca.fit(X_train_pca, y_train)\n",
        "y_pred_pca = model_pca.predict(X_test_pca)\n",
        "\n",
        "mse_pca = mean_squared_error(y_test, y_pred_pca)\n",
        "r2_pca = r2_score(y_test, y_pred_pca)\n",
        "\n",
        "# Train and evaluate Linear Regression model with Mutual Information features\n",
        "model_mi = LinearRegression()\n",
        "model_mi.fit(X_train_mi, y_train)\n",
        "y_pred_mi = model_mi.predict(X_test_mi)\n",
        "\n",
        "mse_mi = mean_squared_error(y_test, y_pred_mi)\n",
        "r2_mi = r2_score(y_test, y_pred_mi)\n",
        "\n",
        "print(\"Linear Regression with PCA Features:\")\n",
        "print(\"MSE:\", mse_pca)\n",
        "print(\"R-squared:\", r2_pca)\n",
        "\n",
        "print(\"\\nLinear Regression with Mutual Information Features:\")\n",
        "print(\"MSE:\", mse_mi)\n",
        "print(\"R-squared:\", r2_mi)\n"
      ],
      "metadata": {
        "colab": {
          "base_uri": "https://localhost:8080/"
        },
        "id": "gt1U6ICtl5kq",
        "outputId": "301c24bc-29b6-48bc-d39d-6b4fa57dff27"
      },
      "execution_count": null,
      "outputs": [
        {
          "output_type": "stream",
          "name": "stdout",
          "text": [
            "Linear Regression with PCA Features:\n",
            "MSE: 1.7118937747439226e-16\n",
            "R-squared: 1.0\n",
            "\n",
            "Linear Regression with Mutual Information Features:\n",
            "MSE: 43387526779.35536\n",
            "R-squared: 0.699462705796988\n"
          ]
        }
      ]
    },
    {
      "cell_type": "code",
      "source": [],
      "metadata": {
        "id": "34wRoMfBnR5b"
      },
      "execution_count": null,
      "outputs": []
    }
  ],
  "metadata": {
    "colab": {
      "provenance": [],
      "collapsed_sections": [
        "OGetV0nGnZKt",
        "_iSr-bVwEzsL"
      ],
      "machine_shape": "hm",
      "gpuType": "T4",
      "include_colab_link": true
    },
    "kernelspec": {
      "display_name": "Python 3",
      "name": "python3"
    },
    "language_info": {
      "codemirror_mode": {
        "name": "ipython",
        "version": 3
      },
      "file_extension": ".py",
      "mimetype": "text/x-python",
      "name": "python",
      "nbconvert_exporter": "python",
      "pygments_lexer": "ipython3",
      "version": "3.11.5"
    },
    "accelerator": "GPU"
  },
  "nbformat": 4,
  "nbformat_minor": 0
}
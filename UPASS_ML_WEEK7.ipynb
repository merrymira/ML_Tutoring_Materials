{
  "nbformat": 4,
  "nbformat_minor": 0,
  "metadata": {
    "colab": {
      "provenance": [],
      "authorship_tag": "ABX9TyPg8cFNRBz9wBSNAt8xMOyu",
      "include_colab_link": true
    },
    "kernelspec": {
      "name": "python3",
      "display_name": "Python 3"
    },
    "language_info": {
      "name": "python"
    }
  },
  "cells": [
    {
      "cell_type": "markdown",
      "metadata": {
        "id": "view-in-github",
        "colab_type": "text"
      },
      "source": [
        "<a href=\"https://colab.research.google.com/github/merrymira/UPASS_ML_WEEK3/blob/main/UPASS_ML_WEEK7.ipynb\" target=\"_parent\"><img src=\"https://colab.research.google.com/assets/colab-badge.svg\" alt=\"Open In Colab\"/></a>"
      ]
    },
    {
      "cell_type": "markdown",
      "source": [
        "# Machine Learning Exercise\n",
        "\n",
        "Cross Validation Method\n",
        "* Hold-out\n",
        "* K-folds\n",
        "* Leave-one-out\n",
        "* Leave-p-out\n",
        "* Stratified K-folds\n",
        "* Repeated K-folds\n",
        "* Nested K-folds\n",
        "* Time series CV\n",
        "\n",
        "Reference:\n",
        "https://neptune.ai/blog/cross-validation-in-machine-learning-how-to-do-it-right\n"
      ],
      "metadata": {
        "id": "tnmVfLtMIars"
      }
    },
    {
      "cell_type": "markdown",
      "source": [
        "##1. Hold-out"
      ],
      "metadata": {
        "id": "FHfr40dtVsrS"
      }
    },
    {
      "cell_type": "markdown",
      "source": [
        "**[1.1]** Import the pandas and numpy packages"
      ],
      "metadata": {
        "id": "hBjNjtC6V4Jb"
      }
    },
    {
      "cell_type": "code",
      "source": [
        "import pandas as pd\n",
        "import numpy as np\n",
        "import matplotlib.pyplot as plt\n",
        "import seaborn as sns"
      ],
      "metadata": {
        "id": "tQjtNq9wJx5K"
      },
      "execution_count": 1,
      "outputs": []
    },
    {
      "cell_type": "markdown",
      "source": [
        "**[1.2]** Quick implementation of Hold Out method in Python"
      ],
      "metadata": {
        "id": "McXNR-uwV-FU"
      }
    },
    {
      "cell_type": "code",
      "source": [
        "from sklearn.model_selection import train_test_split\n",
        "X = [1, 20, 30, 40, 50, 60, 70, 80, 90, 100, 1000]\n",
        "X_train, X_test= train_test_split(X, test_size=0.3, random_state=1)\n",
        "print('Train:', X_train, 'Test:', X_test)"
      ],
      "metadata": {
        "id": "6GDdUBpsXS8A",
        "colab": {
          "base_uri": "https://localhost:8080/"
        },
        "outputId": "239ee268-5097-490a-cbcc-4523d86971be"
      },
      "execution_count": 3,
      "outputs": [
        {
          "output_type": "stream",
          "name": "stdout",
          "text": [
            "Train: [20, 70, 1, 80, 1000, 90, 60] Test: [30, 40, 50, 100]\n"
          ]
        }
      ]
    },
    {
      "cell_type": "markdown",
      "source": [
        "# 2. K-fold\n",
        "Quick implementation of K-fold Cross-Validation in Python"
      ],
      "metadata": {
        "id": "8_zQbJpbXcZi"
      }
    },
    {
      "cell_type": "code",
      "source": [
        "from sklearn.model_selection import KFold\n",
        "\n",
        "X = [1, 20, 30, 40, 50, 60, 70, 80, 90, 100, 1000]\n",
        "kf = KFold(n_splits=3, shuffle=False, random_state=None)\n",
        "\n",
        "print('Output\\n')\n",
        "for train, test in kf.split(X):\n",
        "    print(\"Train data:\", [X[i] for i in train], \"Test data:\", [X[i] for i in test])"
      ],
      "metadata": {
        "colab": {
          "base_uri": "https://localhost:8080/"
        },
        "id": "9IEX-QokV_GQ",
        "outputId": "eebc7a90-b33b-448d-be2f-e8c87bb3765d"
      },
      "execution_count": 12,
      "outputs": [
        {
          "output_type": "stream",
          "name": "stdout",
          "text": [
            "Output\n",
            "\n",
            "Train data: [50, 60, 70, 80, 90, 100, 1000] Test data: [1, 20, 30, 40]\n",
            "Train data: [1, 20, 30, 40, 90, 100, 1000] Test data: [50, 60, 70, 80]\n",
            "Train data: [1, 20, 30, 40, 50, 60, 70, 80] Test data: [90, 100, 1000]\n"
          ]
        }
      ]
    },
    {
      "cell_type": "markdown",
      "source": [
        "# 3. Leave-one-out\n",
        "Quick implementation of Leave-one-out Cross-Validation in Python"
      ],
      "metadata": {
        "id": "DRJ81pO4bfDT"
      }
    },
    {
      "cell_type": "code",
      "source": [
        "from sklearn.model_selection import LeaveOneOut\n",
        "\n",
        "X = [1, 20, 30, 40, 50, 60, 70, 80, 90, 100, 1000]\n",
        "\n",
        "l = LeaveOneOut()\n",
        "\n",
        "for train, test in l.split(X):\n",
        "    print(\"Train:\", [X[i] for i in train], \"Test:\", [X[i] for i in test])"
      ],
      "metadata": {
        "colab": {
          "base_uri": "https://localhost:8080/"
        },
        "id": "4vETTKs1bd30",
        "outputId": "b6c9384d-4453-4801-ea1b-5745c4fe225c"
      },
      "execution_count": 18,
      "outputs": [
        {
          "output_type": "stream",
          "name": "stdout",
          "text": [
            "Train: [20, 30, 40, 50, 60, 70, 80, 90, 100, 1000] Test: [1]\n",
            "Train: [1, 30, 40, 50, 60, 70, 80, 90, 100, 1000] Test: [20]\n",
            "Train: [1, 20, 40, 50, 60, 70, 80, 90, 100, 1000] Test: [30]\n",
            "Train: [1, 20, 30, 50, 60, 70, 80, 90, 100, 1000] Test: [40]\n",
            "Train: [1, 20, 30, 40, 60, 70, 80, 90, 100, 1000] Test: [50]\n",
            "Train: [1, 20, 30, 40, 50, 70, 80, 90, 100, 1000] Test: [60]\n",
            "Train: [1, 20, 30, 40, 50, 60, 80, 90, 100, 1000] Test: [70]\n",
            "Train: [1, 20, 30, 40, 50, 60, 70, 90, 100, 1000] Test: [80]\n",
            "Train: [1, 20, 30, 40, 50, 60, 70, 80, 100, 1000] Test: [90]\n",
            "Train: [1, 20, 30, 40, 50, 60, 70, 80, 90, 1000] Test: [100]\n",
            "Train: [1, 20, 30, 40, 50, 60, 70, 80, 90, 100] Test: [1000]\n"
          ]
        }
      ]
    },
    {
      "cell_type": "markdown",
      "source": [
        "# 4. Leave-p-out\n",
        "Quick implementation of Leave-p-out Cross-Validation in Python"
      ],
      "metadata": {
        "id": "-lwr1AfW0Qps"
      }
    },
    {
      "cell_type": "code",
      "source": [
        "from sklearn.model_selection import LeavePOut\n",
        "\n",
        "X = [1, 20, 30, 40, 50, 60, 70, 80, 90, 100, 1000]\n",
        "\n",
        "l = LeavePOut(2)\n",
        "\n",
        "for train, test in l.split(X):\n",
        "    print(\"Train:\", [X[i] for i in train], \"Test:\", [X[i] for i in test])"
      ],
      "metadata": {
        "colab": {
          "base_uri": "https://localhost:8080/"
        },
        "id": "Ttyt2qzG0Li-",
        "outputId": "595d822a-728d-4aea-bf6d-328d206e6431"
      },
      "execution_count": 21,
      "outputs": [
        {
          "output_type": "stream",
          "name": "stdout",
          "text": [
            "Train: [30, 40, 50, 60, 70, 80, 90, 100, 1000] Test: [1, 20]\n",
            "Train: [20, 40, 50, 60, 70, 80, 90, 100, 1000] Test: [1, 30]\n",
            "Train: [20, 30, 50, 60, 70, 80, 90, 100, 1000] Test: [1, 40]\n",
            "Train: [20, 30, 40, 60, 70, 80, 90, 100, 1000] Test: [1, 50]\n",
            "Train: [20, 30, 40, 50, 70, 80, 90, 100, 1000] Test: [1, 60]\n",
            "Train: [20, 30, 40, 50, 60, 80, 90, 100, 1000] Test: [1, 70]\n",
            "Train: [20, 30, 40, 50, 60, 70, 90, 100, 1000] Test: [1, 80]\n",
            "Train: [20, 30, 40, 50, 60, 70, 80, 100, 1000] Test: [1, 90]\n",
            "Train: [20, 30, 40, 50, 60, 70, 80, 90, 1000] Test: [1, 100]\n",
            "Train: [20, 30, 40, 50, 60, 70, 80, 90, 100] Test: [1, 1000]\n",
            "Train: [1, 40, 50, 60, 70, 80, 90, 100, 1000] Test: [20, 30]\n",
            "Train: [1, 30, 50, 60, 70, 80, 90, 100, 1000] Test: [20, 40]\n",
            "Train: [1, 30, 40, 60, 70, 80, 90, 100, 1000] Test: [20, 50]\n",
            "Train: [1, 30, 40, 50, 70, 80, 90, 100, 1000] Test: [20, 60]\n",
            "Train: [1, 30, 40, 50, 60, 80, 90, 100, 1000] Test: [20, 70]\n",
            "Train: [1, 30, 40, 50, 60, 70, 90, 100, 1000] Test: [20, 80]\n",
            "Train: [1, 30, 40, 50, 60, 70, 80, 100, 1000] Test: [20, 90]\n",
            "Train: [1, 30, 40, 50, 60, 70, 80, 90, 1000] Test: [20, 100]\n",
            "Train: [1, 30, 40, 50, 60, 70, 80, 90, 100] Test: [20, 1000]\n",
            "Train: [1, 20, 50, 60, 70, 80, 90, 100, 1000] Test: [30, 40]\n",
            "Train: [1, 20, 40, 60, 70, 80, 90, 100, 1000] Test: [30, 50]\n",
            "Train: [1, 20, 40, 50, 70, 80, 90, 100, 1000] Test: [30, 60]\n",
            "Train: [1, 20, 40, 50, 60, 80, 90, 100, 1000] Test: [30, 70]\n",
            "Train: [1, 20, 40, 50, 60, 70, 90, 100, 1000] Test: [30, 80]\n",
            "Train: [1, 20, 40, 50, 60, 70, 80, 100, 1000] Test: [30, 90]\n",
            "Train: [1, 20, 40, 50, 60, 70, 80, 90, 1000] Test: [30, 100]\n",
            "Train: [1, 20, 40, 50, 60, 70, 80, 90, 100] Test: [30, 1000]\n",
            "Train: [1, 20, 30, 60, 70, 80, 90, 100, 1000] Test: [40, 50]\n",
            "Train: [1, 20, 30, 50, 70, 80, 90, 100, 1000] Test: [40, 60]\n",
            "Train: [1, 20, 30, 50, 60, 80, 90, 100, 1000] Test: [40, 70]\n",
            "Train: [1, 20, 30, 50, 60, 70, 90, 100, 1000] Test: [40, 80]\n",
            "Train: [1, 20, 30, 50, 60, 70, 80, 100, 1000] Test: [40, 90]\n",
            "Train: [1, 20, 30, 50, 60, 70, 80, 90, 1000] Test: [40, 100]\n",
            "Train: [1, 20, 30, 50, 60, 70, 80, 90, 100] Test: [40, 1000]\n",
            "Train: [1, 20, 30, 40, 70, 80, 90, 100, 1000] Test: [50, 60]\n",
            "Train: [1, 20, 30, 40, 60, 80, 90, 100, 1000] Test: [50, 70]\n",
            "Train: [1, 20, 30, 40, 60, 70, 90, 100, 1000] Test: [50, 80]\n",
            "Train: [1, 20, 30, 40, 60, 70, 80, 100, 1000] Test: [50, 90]\n",
            "Train: [1, 20, 30, 40, 60, 70, 80, 90, 1000] Test: [50, 100]\n",
            "Train: [1, 20, 30, 40, 60, 70, 80, 90, 100] Test: [50, 1000]\n",
            "Train: [1, 20, 30, 40, 50, 80, 90, 100, 1000] Test: [60, 70]\n",
            "Train: [1, 20, 30, 40, 50, 70, 90, 100, 1000] Test: [60, 80]\n",
            "Train: [1, 20, 30, 40, 50, 70, 80, 100, 1000] Test: [60, 90]\n",
            "Train: [1, 20, 30, 40, 50, 70, 80, 90, 1000] Test: [60, 100]\n",
            "Train: [1, 20, 30, 40, 50, 70, 80, 90, 100] Test: [60, 1000]\n",
            "Train: [1, 20, 30, 40, 50, 60, 90, 100, 1000] Test: [70, 80]\n",
            "Train: [1, 20, 30, 40, 50, 60, 80, 100, 1000] Test: [70, 90]\n",
            "Train: [1, 20, 30, 40, 50, 60, 80, 90, 1000] Test: [70, 100]\n",
            "Train: [1, 20, 30, 40, 50, 60, 80, 90, 100] Test: [70, 1000]\n",
            "Train: [1, 20, 30, 40, 50, 60, 70, 100, 1000] Test: [80, 90]\n",
            "Train: [1, 20, 30, 40, 50, 60, 70, 90, 1000] Test: [80, 100]\n",
            "Train: [1, 20, 30, 40, 50, 60, 70, 90, 100] Test: [80, 1000]\n",
            "Train: [1, 20, 30, 40, 50, 60, 70, 80, 1000] Test: [90, 100]\n",
            "Train: [1, 20, 30, 40, 50, 60, 70, 80, 100] Test: [90, 1000]\n",
            "Train: [1, 20, 30, 40, 50, 60, 70, 80, 90] Test: [100, 1000]\n"
          ]
        }
      ]
    },
    {
      "cell_type": "markdown",
      "source": [
        "# 5. Stratified K-folds\n",
        "Quick implementation of Stratified K-folds Cross-Validation in Python"
      ],
      "metadata": {
        "id": "UdU4JjI-huX6"
      }
    },
    {
      "cell_type": "code",
      "source": [
        "import random\n",
        "\n",
        "def generate_random_gender():\n",
        "    \"\"\"Generates a random gender tuple.\"\"\"\n",
        "    # Generate a random number between 1 and 100\n",
        "    random_number = random.randint(1, 100)\n",
        "    if random_number <= 70:\n",
        "        gender = \"F\"  # 70% chance of 'F'\n",
        "    else:\n",
        "        gender = \"M\"  # 30% chance of 'M'\n",
        "    age = random.randint(1, 10)\n",
        "    return (age, gender)"
      ],
      "metadata": {
        "id": "wxel9I-ZjqqT"
      },
      "execution_count": 90,
      "outputs": []
    },
    {
      "cell_type": "code",
      "source": [
        "Xy = []\n",
        "for i in range(1000):\n",
        "    Xy.append(generate_random_gender())\n",
        "\n",
        "print(Xy[:10])"
      ],
      "metadata": {
        "colab": {
          "base_uri": "https://localhost:8080/"
        },
        "id": "x1f1h1KukHuK",
        "outputId": "b3f194b4-4bcb-4987-d8b1-435bc71bd961"
      },
      "execution_count": 91,
      "outputs": [
        {
          "output_type": "stream",
          "name": "stdout",
          "text": [
            "[(10, 'M'), (6, 'F'), (9, 'M'), (1, 'F'), (3, 'F'), (9, 'M'), (3, 'M'), (8, 'F'), (7, 'F'), (6, 'M')]\n"
          ]
        }
      ]
    },
    {
      "cell_type": "code",
      "source": [
        "count_F = sum(1 for item in Xy if item[1] == 'F')\n",
        "count_M = sum(1 for item in Xy if item[1] == 'M')\n",
        "\n",
        "print(\"Count of 'F':\", count_F)\n",
        "print(\"Count of 'M':\", count_M)"
      ],
      "metadata": {
        "colab": {
          "base_uri": "https://localhost:8080/"
        },
        "id": "j3_IE8dSlHwG",
        "outputId": "2919cb5a-d571-48fe-b12e-c9a4d974df4b"
      },
      "execution_count": 92,
      "outputs": [
        {
          "output_type": "stream",
          "name": "stdout",
          "text": [
            "Count of 'F': 700\n",
            "Count of 'M': 300\n"
          ]
        }
      ]
    },
    {
      "cell_type": "code",
      "source": [
        "from sklearn.model_selection import StratifiedKFold\n",
        "\n",
        "# Assuming Xy contains the data with numerical values and corresponding 'F' and 'M' labels\n",
        "X = [item[1] for item in Xy]\n",
        "y = [item[0] for item in Xy]\n",
        "\n",
        "skf = StratifiedKFold(n_splits=3, shuffle=True, random_state=1)\n",
        "\n",
        "for train, test in skf.split(X, y):\n",
        "    X_train, X_test = [X[i] for i in train], [X[i] for i in test]  # Get actual samples from indices\n",
        "    print(\"Train:\", X_train, \"\\nTest:\", X_test)\n",
        "\n",
        "    count_F_train = sum(1 for item in X_train if item == 'F')\n",
        "    count_M_train = sum(1 for item in X_train if item == 'M')\n",
        "    count_F_test = sum(1 for item in X_test if item == 'F')\n",
        "    count_M_test = sum(1 for item in X_test if item == 'M')\n",
        "\n",
        "    print(\"Count of 'F' in train set:\", count_F_train, \"- Count of 'M' in train set:\", count_M_train)\n",
        "    print(\"Count of 'F' in test set:\", count_F_test, \" - Count of 'M' in test set:\", count_M_test)\n",
        "    print(\"\\n\")"
      ],
      "metadata": {
        "colab": {
          "base_uri": "https://localhost:8080/"
        },
        "id": "tQ5qwBohmP-f",
        "outputId": "20ef2ebc-a3be-427d-a43a-cb11de8e7e27"
      },
      "execution_count": 93,
      "outputs": [
        {
          "output_type": "stream",
          "name": "stdout",
          "text": [
            "Train: ['M', 'F', 'M', 'F', 'F', 'M', 'F', 'M', 'F', 'M', 'F', 'F', 'M', 'F', 'F', 'F', 'F', 'F', 'F', 'F', 'F', 'F', 'F', 'M', 'M', 'M', 'M', 'F', 'M', 'F', 'F', 'F', 'M', 'M', 'M', 'F', 'F', 'F', 'F', 'F', 'M', 'M', 'F', 'F', 'M', 'F', 'F', 'F', 'F', 'M', 'F', 'F', 'F', 'F', 'F', 'F', 'F', 'M', 'F', 'F', 'F', 'M', 'M', 'M', 'F', 'F', 'F', 'F', 'F', 'F', 'F', 'F', 'F', 'F', 'F', 'M', 'F', 'F', 'F', 'M', 'F', 'F', 'M', 'F', 'F', 'M', 'F', 'F', 'M', 'M', 'F', 'F', 'F', 'F', 'F', 'F', 'M', 'M', 'F', 'M', 'M', 'M', 'F', 'F', 'M', 'F', 'F', 'F', 'F', 'F', 'F', 'F', 'F', 'F', 'F', 'F', 'F', 'M', 'M', 'F', 'F', 'M', 'F', 'M', 'F', 'F', 'F', 'M', 'F', 'F', 'M', 'F', 'M', 'M', 'M', 'M', 'F', 'F', 'F', 'F', 'M', 'F', 'M', 'M', 'F', 'F', 'F', 'F', 'M', 'F', 'F', 'F', 'F', 'F', 'M', 'F', 'M', 'M', 'F', 'F', 'F', 'M', 'F', 'M', 'M', 'F', 'F', 'F', 'F', 'F', 'M', 'F', 'F', 'M', 'F', 'M', 'M', 'F', 'F', 'F', 'M', 'F', 'F', 'F', 'F', 'F', 'M', 'M', 'F', 'M', 'F', 'M', 'F', 'F', 'F', 'F', 'F', 'M', 'M', 'F', 'F', 'M', 'F', 'F', 'M', 'F', 'F', 'F', 'M', 'F', 'F', 'F', 'M', 'F', 'F', 'F', 'M', 'F', 'F', 'M', 'M', 'F', 'M', 'M', 'F', 'F', 'M', 'M', 'M', 'F', 'F', 'M', 'F', 'F', 'F', 'M', 'F', 'M', 'F', 'F', 'F', 'F', 'F', 'F', 'F', 'F', 'F', 'M', 'F', 'F', 'M', 'F', 'M', 'F', 'F', 'F', 'M', 'F', 'M', 'M', 'M', 'F', 'F', 'M', 'M', 'F', 'F', 'F', 'F', 'F', 'F', 'M', 'F', 'F', 'M', 'F', 'F', 'M', 'M', 'F', 'M', 'F', 'F', 'F', 'F', 'F', 'F', 'M', 'M', 'F', 'F', 'F', 'F', 'F', 'F', 'F', 'F', 'M', 'F', 'F', 'M', 'F', 'F', 'F', 'M', 'F', 'F', 'F', 'F', 'F', 'M', 'M', 'M', 'M', 'M', 'M', 'F', 'F', 'M', 'F', 'F', 'M', 'F', 'F', 'F', 'F', 'F', 'M', 'F', 'M', 'F', 'M', 'F', 'F', 'F', 'F', 'F', 'F', 'M', 'F', 'M', 'F', 'F', 'M', 'F', 'F', 'F', 'M', 'F', 'M', 'F', 'F', 'F', 'F', 'F', 'M', 'F', 'M', 'F', 'F', 'F', 'F', 'F', 'F', 'F', 'F', 'F', 'M', 'F', 'F', 'F', 'F', 'M', 'M', 'F', 'F', 'M', 'F', 'F', 'F', 'F', 'F', 'M', 'F', 'M', 'F', 'F', 'M', 'F', 'M', 'F', 'F', 'M', 'F', 'M', 'M', 'F', 'F', 'M', 'M', 'F', 'M', 'F', 'M', 'F', 'F', 'F', 'M', 'M', 'M', 'F', 'F', 'F', 'F', 'F', 'F', 'F', 'F', 'F', 'F', 'F', 'M', 'F', 'M', 'F', 'F', 'F', 'M', 'F', 'F', 'F', 'M', 'F', 'F', 'M', 'M', 'F', 'M', 'F', 'M', 'F', 'F', 'M', 'F', 'F', 'M', 'M', 'F', 'M', 'M', 'M', 'F', 'M', 'F', 'F', 'F', 'F', 'F', 'M', 'F', 'M', 'F', 'F', 'F', 'F', 'M', 'F', 'F', 'F', 'F', 'F', 'M', 'F', 'F', 'M', 'F', 'M', 'M', 'M', 'F', 'F', 'M', 'F', 'F', 'F', 'F', 'F', 'F', 'F', 'F', 'M', 'F', 'F', 'F', 'F', 'F', 'F', 'F', 'F', 'F', 'F', 'M', 'M', 'F', 'F', 'F', 'F', 'F', 'F', 'F', 'F', 'M', 'M', 'F', 'F', 'F', 'M', 'F', 'F', 'M', 'F', 'F', 'F', 'F', 'F', 'F', 'F', 'F', 'F', 'M', 'M', 'F', 'F', 'F', 'M', 'F', 'F', 'F', 'F', 'F', 'M', 'F', 'F', 'M', 'F', 'F', 'M', 'F', 'F', 'F', 'M', 'F', 'F', 'F', 'M', 'F', 'F', 'M', 'F', 'F', 'F', 'F', 'F', 'M', 'M', 'F', 'F', 'M', 'F', 'M', 'F', 'M', 'F', 'F', 'F', 'M', 'F', 'F', 'F', 'F', 'M', 'M', 'M', 'F', 'F', 'F', 'M', 'F', 'F', 'F', 'F', 'F', 'F', 'F', 'F', 'F', 'F', 'M', 'F', 'F', 'F', 'F', 'F', 'M', 'F', 'F', 'M', 'F', 'F', 'F', 'M', 'F', 'F', 'M', 'F', 'M', 'F', 'F', 'F', 'M', 'F', 'F', 'F', 'F', 'M', 'M', 'F', 'F', 'M', 'M', 'M', 'F', 'F', 'F', 'F', 'F', 'M', 'F', 'M', 'F', 'F', 'M', 'F', 'F', 'M', 'M', 'F', 'M', 'F', 'F', 'F', 'M', 'F', 'F', 'F', 'F', 'F', 'F', 'F', 'M', 'F', 'M', 'M', 'F', 'F', 'F'] \n",
            "Test: ['M', 'F', 'M', 'F', 'M', 'F', 'F', 'F', 'F', 'F', 'M', 'F', 'F', 'M', 'F', 'F', 'F', 'F', 'F', 'F', 'M', 'F', 'M', 'M', 'F', 'F', 'F', 'M', 'F', 'F', 'M', 'F', 'F', 'F', 'F', 'F', 'F', 'F', 'M', 'F', 'F', 'F', 'M', 'F', 'F', 'M', 'M', 'F', 'M', 'F', 'M', 'F', 'F', 'F', 'F', 'F', 'F', 'F', 'M', 'F', 'F', 'F', 'M', 'F', 'F', 'F', 'M', 'F', 'F', 'F', 'F', 'F', 'F', 'F', 'F', 'M', 'F', 'F', 'M', 'F', 'F', 'F', 'M', 'M', 'F', 'F', 'F', 'F', 'M', 'F', 'F', 'F', 'M', 'F', 'M', 'F', 'F', 'F', 'M', 'M', 'F', 'M', 'F', 'F', 'F', 'F', 'F', 'F', 'M', 'F', 'F', 'M', 'F', 'F', 'M', 'M', 'F', 'M', 'F', 'M', 'F', 'F', 'F', 'F', 'F', 'F', 'F', 'F', 'M', 'M', 'M', 'F', 'F', 'M', 'F', 'M', 'F', 'M', 'F', 'F', 'F', 'F', 'M', 'F', 'F', 'F', 'F', 'F', 'F', 'F', 'F', 'F', 'F', 'F', 'M', 'F', 'F', 'F', 'F', 'F', 'M', 'F', 'M', 'F', 'M', 'F', 'F', 'M', 'F', 'F', 'F', 'F', 'M', 'M', 'F', 'F', 'F', 'F', 'F', 'F', 'M', 'F', 'M', 'F', 'M', 'F', 'M', 'M', 'F', 'F', 'F', 'F', 'M', 'F', 'F', 'F', 'M', 'M', 'M', 'F', 'F', 'F', 'F', 'M', 'F', 'F', 'M', 'F', 'M', 'F', 'F', 'F', 'F', 'F', 'F', 'M', 'F', 'F', 'F', 'F', 'F', 'F', 'M', 'M', 'F', 'F', 'F', 'M', 'F', 'F', 'F', 'M', 'F', 'M', 'F', 'F', 'F', 'M', 'M', 'F', 'F', 'M', 'F', 'M', 'M', 'F', 'M', 'F', 'M', 'F', 'F', 'F', 'F', 'M', 'M', 'F', 'F', 'F', 'F', 'F', 'M', 'F', 'F', 'F', 'F', 'F', 'F', 'F', 'F', 'F', 'F', 'F', 'F', 'F', 'M', 'F', 'M', 'F', 'M', 'M', 'F', 'F', 'F', 'F', 'F', 'F', 'M', 'M', 'F', 'F', 'F', 'M', 'F', 'M', 'F', 'F', 'F', 'F', 'F', 'F', 'F', 'M', 'F', 'F', 'F', 'F', 'F', 'F', 'F', 'F', 'F', 'F', 'M', 'F', 'F', 'F', 'F', 'F', 'F', 'F', 'M', 'F', 'F', 'F', 'F', 'M', 'M', 'F', 'F', 'F', 'M', 'F', 'M', 'M']\n",
            "Count of 'F' in train set: 459 - Count of 'M' in train set: 207\n",
            "Count of 'F' in test set: 241  - Count of 'M' in test set: 93\n",
            "\n",
            "\n",
            "Train: ['M', 'F', 'M', 'F', 'M', 'M', 'F', 'M', 'F', 'M', 'F', 'F', 'F', 'F', 'F', 'F', 'F', 'F', 'F', 'M', 'F', 'F', 'M', 'F', 'F', 'F', 'F', 'F', 'F', 'F', 'M', 'M', 'F', 'M', 'F', 'M', 'M', 'F', 'F', 'F', 'M', 'F', 'F', 'F', 'F', 'F', 'M', 'F', 'F', 'M', 'F', 'F', 'F', 'M', 'F', 'M', 'F', 'F', 'F', 'M', 'M', 'F', 'M', 'F', 'F', 'F', 'F', 'F', 'F', 'F', 'F', 'F', 'F', 'M', 'F', 'F', 'M', 'F', 'F', 'M', 'F', 'F', 'M', 'M', 'F', 'F', 'F', 'F', 'M', 'M', 'M', 'F', 'M', 'F', 'M', 'F', 'F', 'F', 'F', 'F', 'F', 'M', 'F', 'F', 'F', 'M', 'M', 'F', 'F', 'F', 'M', 'F', 'F', 'F', 'F', 'M', 'F', 'F', 'F', 'F', 'M', 'F', 'F', 'F', 'F', 'F', 'F', 'F', 'F', 'F', 'M', 'F', 'F', 'F', 'F', 'M', 'F', 'M', 'F', 'F', 'F', 'M', 'F', 'M', 'F', 'M', 'F', 'M', 'F', 'M', 'M', 'M', 'F', 'F', 'F', 'F', 'F', 'F', 'M', 'M', 'F', 'F', 'M', 'F', 'F', 'F', 'F', 'F', 'F', 'M', 'F', 'M', 'M', 'F', 'M', 'F', 'F', 'M', 'F', 'F', 'F', 'F', 'M', 'F', 'M', 'M', 'F', 'M', 'F', 'F', 'F', 'F', 'M', 'F', 'F', 'F', 'F', 'F', 'M', 'F', 'F', 'F', 'M', 'F', 'M', 'M', 'F', 'M', 'F', 'F', 'F', 'F', 'M', 'F', 'F', 'F', 'F', 'M', 'F', 'M', 'M', 'F', 'M', 'F', 'M', 'M', 'M', 'F', 'F', 'F', 'F', 'F', 'M', 'F', 'F', 'M', 'F', 'F', 'F', 'F', 'F', 'F', 'F', 'F', 'F', 'F', 'F', 'F', 'F', 'M', 'M', 'F', 'F', 'M', 'M', 'M', 'F', 'F', 'M', 'F', 'M', 'F', 'M', 'F', 'M', 'F', 'F', 'F', 'F', 'F', 'F', 'F', 'F', 'M', 'F', 'M', 'F', 'F', 'F', 'F', 'F', 'M', 'F', 'F', 'F', 'M', 'F', 'F', 'F', 'F', 'F', 'F', 'F', 'F', 'F', 'F', 'F', 'M', 'F', 'F', 'F', 'M', 'F', 'M', 'F', 'F', 'M', 'F', 'F', 'F', 'F', 'F', 'F', 'F', 'F', 'M', 'M', 'M', 'M', 'F', 'M', 'F', 'M', 'F', 'F', 'F', 'F', 'F', 'F', 'M', 'M', 'F', 'F', 'F', 'F', 'M', 'F', 'F', 'F', 'F', 'F', 'F', 'F', 'F', 'M', 'M', 'F', 'F', 'F', 'F', 'F', 'F', 'F', 'F', 'F', 'F', 'F', 'F', 'F', 'F', 'M', 'M', 'F', 'F', 'M', 'F', 'F', 'M', 'F', 'F', 'M', 'F', 'F', 'F', 'F', 'M', 'M', 'F', 'F', 'M', 'F', 'M', 'F', 'F', 'F', 'M', 'F', 'F', 'F', 'M', 'F', 'M', 'M', 'F', 'F', 'M', 'M', 'M', 'M', 'M', 'M', 'F', 'F', 'F', 'F', 'F', 'F', 'F', 'F', 'M', 'F', 'F', 'M', 'M', 'M', 'F', 'F', 'M', 'F', 'F', 'M', 'F', 'M', 'M', 'F', 'M', 'F', 'M', 'F', 'F', 'M', 'F', 'M', 'F', 'F', 'F', 'M', 'M', 'M', 'F', 'F', 'F', 'F', 'F', 'F', 'M', 'F', 'F', 'F', 'F', 'M', 'F', 'F', 'F', 'F', 'F', 'F', 'F', 'M', 'M', 'M', 'F', 'F', 'F', 'F', 'F', 'M', 'F', 'M', 'M', 'M', 'M', 'F', 'F', 'F', 'F', 'F', 'M', 'F', 'F', 'M', 'F', 'F', 'M', 'F', 'F', 'M', 'M', 'F', 'F', 'F', 'F', 'F', 'M', 'F', 'M', 'F', 'M', 'F', 'F', 'M', 'F', 'M', 'F', 'M', 'F', 'F', 'F', 'F', 'M', 'F', 'F', 'F', 'F', 'F', 'F', 'F', 'M', 'F', 'M', 'F', 'F', 'M', 'F', 'M', 'F', 'F', 'F', 'M', 'F', 'F', 'F', 'F', 'M', 'F', 'F', 'M', 'F', 'F', 'F', 'F', 'F', 'F', 'F', 'F', 'F', 'F', 'F', 'M', 'F', 'F', 'F', 'F', 'F', 'F', 'F', 'M', 'F', 'M', 'F', 'F', 'M', 'M', 'F', 'F', 'M', 'F', 'M', 'F', 'F', 'M', 'F', 'F', 'F', 'F', 'F', 'F', 'F', 'M', 'M', 'F', 'M', 'F', 'F', 'F', 'F', 'M', 'F', 'M', 'F', 'F', 'F', 'F', 'F', 'F', 'F', 'F', 'F', 'F', 'F', 'M', 'F', 'F', 'F', 'F', 'F', 'F', 'F', 'F', 'F', 'F', 'F', 'F', 'F', 'F', 'F', 'F', 'M', 'M', 'M', 'F', 'F', 'F', 'F', 'F', 'F', 'F', 'F', 'F', 'M', 'F', 'F', 'F', 'F', 'M', 'F', 'F', 'F', 'F', 'F', 'F', 'F', 'M', 'M', 'F', 'M', 'M', 'F', 'M', 'F', 'F', 'M', 'F', 'F', 'F', 'F', 'F', 'F', 'F', 'F', 'M', 'F', 'M', 'F', 'M', 'M', 'M'] \n",
            "Test: ['F', 'F', 'M', 'F', 'M', 'F', 'M', 'F', 'F', 'F', 'F', 'F', 'M', 'M', 'M', 'F', 'F', 'F', 'F', 'M', 'M', 'F', 'F', 'M', 'M', 'M', 'F', 'F', 'F', 'F', 'F', 'F', 'F', 'F', 'F', 'F', 'F', 'F', 'F', 'F', 'F', 'F', 'F', 'F', 'M', 'M', 'F', 'F', 'F', 'M', 'M', 'F', 'M', 'F', 'F', 'F', 'F', 'F', 'F', 'M', 'F', 'M', 'F', 'F', 'M', 'F', 'F', 'M', 'F', 'M', 'F', 'M', 'F', 'F', 'F', 'F', 'F', 'F', 'M', 'F', 'M', 'M', 'F', 'F', 'F', 'F', 'F', 'M', 'M', 'F', 'F', 'M', 'F', 'F', 'M', 'M', 'M', 'F', 'F', 'F', 'F', 'F', 'F', 'M', 'F', 'F', 'F', 'F', 'F', 'M', 'F', 'M', 'F', 'M', 'F', 'M', 'F', 'M', 'F', 'F', 'M', 'M', 'F', 'M', 'F', 'F', 'M', 'F', 'F', 'M', 'F', 'F', 'M', 'M', 'F', 'F', 'M', 'M', 'F', 'F', 'M', 'F', 'F', 'M', 'F', 'M', 'F', 'F', 'M', 'F', 'F', 'F', 'F', 'F', 'F', 'M', 'M', 'F', 'M', 'F', 'M', 'F', 'F', 'M', 'M', 'F', 'F', 'M', 'M', 'F', 'F', 'M', 'F', 'F', 'F', 'M', 'F', 'M', 'F', 'F', 'M', 'M', 'F', 'F', 'F', 'F', 'F', 'F', 'F', 'M', 'M', 'F', 'F', 'M', 'F', 'M', 'F', 'F', 'F', 'M', 'F', 'M', 'M', 'F', 'M', 'F', 'F', 'F', 'F', 'F', 'F', 'F', 'F', 'F', 'F', 'F', 'F', 'F', 'M', 'F', 'F', 'F', 'F', 'M', 'F', 'M', 'F', 'F', 'M', 'M', 'F', 'F', 'F', 'F', 'F', 'F', 'M', 'F', 'F', 'F', 'F', 'F', 'F', 'F', 'F', 'F', 'F', 'F', 'M', 'F', 'F', 'F', 'M', 'M', 'F', 'M', 'F', 'F', 'F', 'F', 'F', 'F', 'F', 'F', 'F', 'F', 'F', 'M', 'F', 'M', 'F', 'F', 'M', 'F', 'F', 'M', 'F', 'F', 'F', 'F', 'M', 'M', 'F', 'F', 'M', 'F', 'F', 'F', 'M', 'M', 'F', 'F', 'M', 'F', 'F', 'F', 'F', 'F', 'M', 'F', 'F', 'M', 'F', 'F', 'M', 'F', 'F', 'M', 'F', 'F', 'F', 'M', 'F', 'F', 'F', 'M', 'M', 'M', 'M', 'F', 'M', 'F', 'M', 'F', 'F', 'F', 'M', 'F', 'F', 'M', 'F', 'F', 'F']\n",
            "Count of 'F' in train set: 471 - Count of 'M' in train set: 196\n",
            "Count of 'F' in test set: 229  - Count of 'M' in test set: 104\n",
            "\n",
            "\n",
            "Train: ['F', 'M', 'F', 'F', 'M', 'M', 'F', 'M', 'F', 'M', 'F', 'F', 'M', 'F', 'F', 'F', 'F', 'F', 'F', 'F', 'M', 'F', 'F', 'M', 'F', 'F', 'F', 'F', 'F', 'F', 'M', 'F', 'M', 'M', 'F', 'F', 'F', 'F', 'M', 'F', 'F', 'M', 'M', 'M', 'F', 'F', 'M', 'M', 'F', 'F', 'F', 'M', 'M', 'M', 'F', 'F', 'F', 'F', 'F', 'F', 'F', 'F', 'F', 'M', 'F', 'F', 'F', 'F', 'F', 'F', 'F', 'F', 'F', 'F', 'F', 'F', 'F', 'M', 'F', 'F', 'F', 'F', 'F', 'F', 'M', 'F', 'F', 'M', 'F', 'M', 'F', 'F', 'M', 'M', 'M', 'F', 'F', 'M', 'F', 'F', 'F', 'F', 'F', 'M', 'F', 'M', 'F', 'F', 'M', 'F', 'F', 'F', 'M', 'F', 'F', 'F', 'F', 'M', 'F', 'F', 'F', 'F', 'F', 'M', 'F', 'F', 'F', 'F', 'F', 'F', 'F', 'M', 'F', 'F', 'M', 'F', 'F', 'F', 'M', 'F', 'F', 'M', 'F', 'F', 'M', 'F', 'F', 'M', 'F', 'F', 'M', 'M', 'F', 'F', 'M', 'F', 'F', 'F', 'M', 'F', 'F', 'F', 'M', 'F', 'F', 'F', 'M', 'F', 'F', 'F', 'F', 'M', 'F', 'F', 'M', 'F', 'M', 'M', 'F', 'F', 'F', 'F', 'F', 'F', 'F', 'M', 'M', 'M', 'M', 'F', 'F', 'M', 'F', 'F', 'M', 'F', 'F', 'M', 'M', 'F', 'M', 'F', 'F', 'F', 'F', 'F', 'F', 'F', 'F', 'F', 'M', 'F', 'M', 'F', 'F', 'F', 'F', 'F', 'M', 'F', 'F', 'M', 'F', 'M', 'F', 'F', 'F', 'M', 'F', 'M', 'M', 'M', 'F', 'M', 'F', 'M', 'F', 'F', 'F', 'M', 'M', 'F', 'M', 'M', 'F', 'F', 'F', 'F', 'F', 'F', 'F', 'F', 'F', 'M', 'F', 'M', 'F', 'F', 'M', 'F', 'F', 'M', 'M', 'F', 'M', 'F', 'M', 'F', 'M', 'F', 'M', 'F', 'M', 'F', 'M', 'M', 'F', 'F', 'F', 'F', 'F', 'M', 'F', 'F', 'M', 'F', 'M', 'F', 'F', 'F', 'M', 'F', 'F', 'M', 'F', 'F', 'F', 'F', 'F', 'F', 'F', 'F', 'F', 'F', 'F', 'F', 'F', 'F', 'M', 'F', 'F', 'F', 'F', 'F', 'F', 'M', 'M', 'M', 'F', 'M', 'F', 'M', 'F', 'M', 'F', 'F', 'M', 'F', 'M', 'M', 'F', 'F', 'M', 'F', 'F', 'F', 'M', 'F', 'M', 'F', 'F', 'M', 'F', 'F', 'F', 'F', 'F', 'M', 'F', 'M', 'M', 'M', 'F', 'F', 'F', 'F', 'F', 'M', 'M', 'F', 'F', 'F', 'F', 'F', 'F', 'F', 'F', 'M', 'F', 'M', 'F', 'F', 'M', 'F', 'M', 'M', 'F', 'F', 'F', 'M', 'F', 'M', 'M', 'M', 'F', 'F', 'F', 'F', 'F', 'F', 'F', 'M', 'F', 'M', 'F', 'F', 'M', 'M', 'F', 'M', 'F', 'F', 'F', 'M', 'M', 'M', 'F', 'F', 'F', 'F', 'F', 'F', 'F', 'F', 'M', 'F', 'F', 'F', 'F', 'F', 'F', 'F', 'M', 'F', 'F', 'F', 'M', 'M', 'F', 'F', 'F', 'F', 'F', 'M', 'F', 'F', 'F', 'M', 'F', 'F', 'F', 'M', 'F', 'F', 'M', 'M', 'F', 'F', 'F', 'F', 'F', 'F', 'F', 'F', 'F', 'F', 'F', 'M', 'M', 'F', 'F', 'F', 'M', 'F', 'F', 'M', 'F', 'F', 'F', 'F', 'F', 'M', 'F', 'F', 'F', 'M', 'F', 'F', 'F', 'F', 'F', 'M', 'M', 'F', 'F', 'F', 'F', 'F', 'F', 'M', 'F', 'M', 'M', 'M', 'F', 'F', 'M', 'F', 'F', 'M', 'F', 'F', 'M', 'F', 'F', 'M', 'F', 'F', 'M', 'M', 'F', 'F', 'F', 'F', 'F', 'M', 'F', 'F', 'F', 'F', 'F', 'F', 'F', 'F', 'F', 'F', 'M', 'F', 'F', 'F', 'F', 'F', 'F', 'M', 'F', 'F', 'F', 'M', 'F', 'F', 'F', 'F', 'F', 'M', 'F', 'F', 'F', 'F', 'F', 'M', 'M', 'F', 'F', 'F', 'M', 'F', 'F', 'M', 'F', 'M', 'M', 'M', 'F', 'F', 'F', 'M', 'F', 'F', 'F', 'F', 'F', 'F', 'F', 'F', 'M', 'M', 'M', 'F', 'M', 'F', 'F', 'F', 'F', 'M', 'M', 'F', 'M', 'F', 'F', 'F', 'F', 'F', 'F', 'F', 'F', 'F', 'F', 'F', 'F', 'M', 'M', 'F', 'F', 'F', 'F', 'F', 'F', 'F', 'F', 'F', 'F', 'M', 'F', 'F', 'M', 'F', 'F', 'F', 'F', 'M', 'F', 'M', 'F', 'F', 'F', 'M', 'F', 'F', 'F', 'F', 'F', 'F', 'M', 'M', 'F', 'M', 'M', 'F', 'F', 'M', 'F', 'F', 'M', 'F', 'F', 'M', 'F', 'F', 'F', 'F', 'M', 'F', 'M', 'F', 'M', 'F', 'F', 'F', 'F', 'M', 'F', 'M', 'M', 'F', 'F', 'F', 'M'] \n",
            "Test: ['M', 'F', 'M', 'F', 'M', 'F', 'F', 'F', 'F', 'F', 'F', 'M', 'M', 'M', 'F', 'F', 'F', 'F', 'F', 'M', 'F', 'F', 'F', 'F', 'M', 'F', 'F', 'M', 'M', 'M', 'F', 'F', 'F', 'F', 'F', 'F', 'M', 'F', 'M', 'F', 'M', 'F', 'F', 'M', 'F', 'F', 'F', 'M', 'F', 'M', 'M', 'F', 'F', 'F', 'F', 'F', 'F', 'F', 'M', 'F', 'M', 'F', 'F', 'F', 'M', 'M', 'M', 'M', 'F', 'F', 'F', 'F', 'M', 'M', 'F', 'F', 'F', 'M', 'M', 'F', 'F', 'M', 'F', 'F', 'M', 'F', 'F', 'M', 'F', 'F', 'F', 'F', 'F', 'M', 'F', 'M', 'M', 'F', 'M', 'F', 'F', 'F', 'F', 'F', 'M', 'M', 'M', 'M', 'F', 'F', 'F', 'F', 'F', 'M', 'F', 'F', 'F', 'F', 'F', 'F', 'F', 'M', 'F', 'F', 'M', 'F', 'M', 'F', 'F', 'F', 'F', 'F', 'M', 'F', 'M', 'F', 'F', 'F', 'F', 'M', 'F', 'F', 'F', 'F', 'F', 'M', 'F', 'F', 'M', 'F', 'M', 'F', 'F', 'F', 'F', 'M', 'M', 'M', 'M', 'F', 'F', 'F', 'F', 'F', 'F', 'M', 'F', 'F', 'F', 'F', 'F', 'F', 'F', 'F', 'F', 'F', 'F', 'F', 'F', 'F', 'M', 'F', 'F', 'F', 'F', 'F', 'F', 'F', 'M', 'F', 'M', 'M', 'F', 'F', 'M', 'F', 'M', 'M', 'F', 'M', 'M', 'M', 'F', 'F', 'F', 'F', 'M', 'M', 'F', 'F', 'M', 'F', 'F', 'M', 'M', 'F', 'M', 'F', 'M', 'F', 'F', 'M', 'M', 'F', 'M', 'M', 'M', 'F', 'F', 'F', 'F', 'F', 'M', 'F', 'F', 'F', 'M', 'F', 'F', 'M', 'F', 'M', 'M', 'M', 'F', 'F', 'F', 'M', 'F', 'F', 'F', 'F', 'F', 'M', 'F', 'F', 'F', 'F', 'F', 'M', 'F', 'F', 'F', 'F', 'F', 'F', 'F', 'M', 'M', 'F', 'M', 'F', 'F', 'F', 'M', 'F', 'F', 'F', 'M', 'F', 'F', 'F', 'F', 'F', 'M', 'M', 'F', 'F', 'M', 'F', 'F', 'F', 'M', 'F', 'F', 'F', 'F', 'F', 'F', 'F', 'F', 'F', 'F', 'F', 'F', 'M', 'M', 'F', 'F', 'F', 'F', 'M', 'F', 'F', 'F', 'F', 'F', 'M', 'F', 'M', 'M', 'F', 'M', 'F', 'F', 'F', 'F', 'F', 'F', 'F', 'M', 'F', 'M']\n",
            "Count of 'F' in train set: 470 - Count of 'M' in train set: 197\n",
            "Count of 'F' in test set: 230  - Count of 'M' in test set: 103\n",
            "\n",
            "\n"
          ]
        }
      ]
    },
    {
      "cell_type": "code",
      "source": [],
      "metadata": {
        "id": "8dXpvcy1ntyj"
      },
      "execution_count": null,
      "outputs": []
    }
  ]
}
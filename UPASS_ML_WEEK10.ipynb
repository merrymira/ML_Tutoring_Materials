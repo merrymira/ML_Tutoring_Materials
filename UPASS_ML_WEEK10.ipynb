{
  "nbformat": 4,
  "nbformat_minor": 0,
  "metadata": {
    "colab": {
      "provenance": [],
      "include_colab_link": true
    },
    "kernelspec": {
      "name": "python3",
      "display_name": "Python 3"
    },
    "language_info": {
      "name": "python"
    }
  },
  "cells": [
    {
      "cell_type": "markdown",
      "metadata": {
        "id": "view-in-github",
        "colab_type": "text"
      },
      "source": [
        "<a href=\"https://colab.research.google.com/github/merrymira/UPASS_ML_WEEK3/blob/main/UPASS_ML_WEEK10.ipynb\" target=\"_parent\"><img src=\"https://colab.research.google.com/assets/colab-badge.svg\" alt=\"Open In Colab\"/></a>"
      ]
    },
    {
      "cell_type": "markdown",
      "source": [
        "# Analysing Structured Data with PyTorch\n",
        "### *Introduction to PyTorch*\n",
        "\n",
        "---"
      ],
      "metadata": {
        "id": "yQsscycLDqH1"
      }
    },
    {
      "cell_type": "markdown",
      "source": [
        "# Predicting Credit Risk (binary classification)\n",
        "\n",
        "## Dataset\n",
        "\n",
        "The dataset we will be using is the German Credit Data.\n",
        "\n",
        "The data was originally published by Professor Dr. Hans Hofmann\n",
        "Institut f\"ur Statistik und \"Okonometrie\n",
        "Universit\"at Hamburg\n",
        "FB Wirtschaftswissenschaften\n",
        "Von-Melle-Park 5\n",
        "2000 Hamburg 13\n",
        "\n",
        "It is composed of 20 numerical variables plus the response variable.\n",
        "\n",
        "Each observation represents a single application for a credit for an individual. The features correspond to the financial profile of the applicant.\n",
        "\n",
        "The data dictionary can be found here: [German Credit Data Dictionary](https://archive.ics.uci.edu/ml/machine-learning-databases/statlog/german/german.doc)\n",
        "\n",
        "The original dataset is avalaible from UCI: [German Credit Data](http://archive.ics.uci.edu/ml/datasets/statlog+(german+credit+data))\n",
        "\n",
        "\n",
        "A CSV version of this dataset is avaliable here: [link](https://online.stat.psu.edu/onlinecourses/sites/stat508/files/german_credit.csv)\n",
        "\n",
        "## Objective\n",
        "\n",
        "Our goal is to build a Neural Network model that can predict if a new lead is creditworthy or not\n",
        "\n",
        "## Instructions\n",
        "\n",
        "This is a guided exercise where some of the code have already been pre-defined. Your task is to fill the remaining part of the code (it will be highlighted with placehoders) to train and evaluate your model.\n",
        "\n",
        "This exercise is split in several parts:\n",
        "1.   Loading and Exploration of the Dataset\n",
        "2.   Preparing the Dataset\n",
        "3.   Defining the Architecture of the Multi-Layer Perceptron\n",
        "4.   Training and Evaluation of the Model\n",
        "5.   Analysing the Results\n",
        "\n",
        "It is recommended to try adding regularization in this exercise with:\n",
        "- [l2 regularizer](https://pytorch.org/blog/how-to-train-state-of-the-art-models-using-torchvision-latest-primitives/#weight-decay-tuning)\n",
        "- [dropout layer](https://pytorch.org/docs/stable/generated/torch.nn.Dropout.html)"
      ],
      "metadata": {
        "id": "uECKHf2aDyPW"
      }
    },
    {
      "cell_type": "markdown",
      "source": [
        "## Exercise 3"
      ],
      "metadata": {
        "id": "x3MOHyOxNna8"
      }
    },
    {
      "cell_type": "markdown",
      "source": [
        "### 1. Loading and Exploration of the Dataset"
      ],
      "metadata": {
        "id": "1fG2K75UNr02"
      }
    },
    {
      "cell_type": "markdown",
      "source": [
        "**[1.1]** Unlike the first 2 exercises, here the data is not prepared before hand. So we will need to make it ready for the modelling step. First let's import the package pandas"
      ],
      "metadata": {
        "id": "D6FU7-0NNybI"
      }
    },
    {
      "cell_type": "code",
      "source": [
        "# Solution\n",
        "import pandas as pd"
      ],
      "metadata": {
        "id": "V8lhVz5uN5l_"
      },
      "execution_count": null,
      "outputs": []
    },
    {
      "cell_type": "markdown",
      "source": [
        "**[1.2]** Now we will load the CSV file using [.read_csv()](https://pandas.pydata.org/pandas-docs/stable/reference/api/pandas.read_csv.html)\n",
        "\n",
        "**Task: Import the data into a pandas dataframe**"
      ],
      "metadata": {
        "id": "G4k53PbmN-pT"
      }
    },
    {
      "cell_type": "code",
      "source": [
        "# Solution\n",
        "df = pd.read_csv(\"https://online.stat.psu.edu/onlinecourses/sites/stat508/files/german_credit.csv\")"
      ],
      "metadata": {
        "id": "35C_4GgpN-7q"
      },
      "execution_count": null,
      "outputs": []
    },
    {
      "cell_type": "markdown",
      "source": [
        "**[1.3]** Explore the first rows of the dataframe using [.head()](https://pandas.pydata.org/pandas-docs/stable/reference/api/pandas.DataFrame.head.html?highlight=head#pandas.DataFrame.head)\n",
        "\n",
        "**Task: Print the first 5 rows of the dataframe**"
      ],
      "metadata": {
        "id": "01gBZOenORCc"
      }
    },
    {
      "cell_type": "code",
      "source": [
        "# Solution\n",
        "df.head()"
      ],
      "metadata": {
        "colab": {
          "base_uri": "https://localhost:8080/",
          "height": 324
        },
        "id": "s2ibVkCjORTZ",
        "outputId": "49fe222d-8526-432e-f1db-2d3366e50d35"
      },
      "execution_count": null,
      "outputs": [
        {
          "output_type": "execute_result",
          "data": {
            "text/plain": [
              "   Creditability  Account Balance  Duration of Credit (month)  \\\n",
              "0              1                1                          18   \n",
              "1              1                1                           9   \n",
              "2              1                2                          12   \n",
              "3              1                1                          12   \n",
              "4              1                1                          12   \n",
              "\n",
              "   Payment Status of Previous Credit  Purpose  Credit Amount  \\\n",
              "0                                  4        2           1049   \n",
              "1                                  4        0           2799   \n",
              "2                                  2        9            841   \n",
              "3                                  4        0           2122   \n",
              "4                                  4        0           2171   \n",
              "\n",
              "   Value Savings/Stocks  Length of current employment  Instalment per cent  \\\n",
              "0                     1                             2                    4   \n",
              "1                     1                             3                    2   \n",
              "2                     2                             4                    2   \n",
              "3                     1                             3                    3   \n",
              "4                     1                             3                    4   \n",
              "\n",
              "   Sex & Marital Status  ...  Duration in Current address  \\\n",
              "0                     2  ...                            4   \n",
              "1                     3  ...                            2   \n",
              "2                     2  ...                            4   \n",
              "3                     3  ...                            2   \n",
              "4                     3  ...                            4   \n",
              "\n",
              "   Most valuable available asset  Age (years)  Concurrent Credits  \\\n",
              "0                              2           21                   3   \n",
              "1                              1           36                   3   \n",
              "2                              1           23                   3   \n",
              "3                              1           39                   3   \n",
              "4                              2           38                   1   \n",
              "\n",
              "   Type of apartment  No of Credits at this Bank  Occupation  \\\n",
              "0                  1                           1           3   \n",
              "1                  1                           2           3   \n",
              "2                  1                           1           2   \n",
              "3                  1                           2           2   \n",
              "4                  2                           2           2   \n",
              "\n",
              "   No of dependents  Telephone  Foreign Worker  \n",
              "0                 1          1               1  \n",
              "1                 2          1               1  \n",
              "2                 1          1               1  \n",
              "3                 2          1               2  \n",
              "4                 1          1               2  \n",
              "\n",
              "[5 rows x 21 columns]"
            ],
            "text/html": [
              "\n",
              "  <div id=\"df-736d673b-045b-4553-857d-be0c62722d1d\" class=\"colab-df-container\">\n",
              "    <div>\n",
              "<style scoped>\n",
              "    .dataframe tbody tr th:only-of-type {\n",
              "        vertical-align: middle;\n",
              "    }\n",
              "\n",
              "    .dataframe tbody tr th {\n",
              "        vertical-align: top;\n",
              "    }\n",
              "\n",
              "    .dataframe thead th {\n",
              "        text-align: right;\n",
              "    }\n",
              "</style>\n",
              "<table border=\"1\" class=\"dataframe\">\n",
              "  <thead>\n",
              "    <tr style=\"text-align: right;\">\n",
              "      <th></th>\n",
              "      <th>Creditability</th>\n",
              "      <th>Account Balance</th>\n",
              "      <th>Duration of Credit (month)</th>\n",
              "      <th>Payment Status of Previous Credit</th>\n",
              "      <th>Purpose</th>\n",
              "      <th>Credit Amount</th>\n",
              "      <th>Value Savings/Stocks</th>\n",
              "      <th>Length of current employment</th>\n",
              "      <th>Instalment per cent</th>\n",
              "      <th>Sex &amp; Marital Status</th>\n",
              "      <th>...</th>\n",
              "      <th>Duration in Current address</th>\n",
              "      <th>Most valuable available asset</th>\n",
              "      <th>Age (years)</th>\n",
              "      <th>Concurrent Credits</th>\n",
              "      <th>Type of apartment</th>\n",
              "      <th>No of Credits at this Bank</th>\n",
              "      <th>Occupation</th>\n",
              "      <th>No of dependents</th>\n",
              "      <th>Telephone</th>\n",
              "      <th>Foreign Worker</th>\n",
              "    </tr>\n",
              "  </thead>\n",
              "  <tbody>\n",
              "    <tr>\n",
              "      <th>0</th>\n",
              "      <td>1</td>\n",
              "      <td>1</td>\n",
              "      <td>18</td>\n",
              "      <td>4</td>\n",
              "      <td>2</td>\n",
              "      <td>1049</td>\n",
              "      <td>1</td>\n",
              "      <td>2</td>\n",
              "      <td>4</td>\n",
              "      <td>2</td>\n",
              "      <td>...</td>\n",
              "      <td>4</td>\n",
              "      <td>2</td>\n",
              "      <td>21</td>\n",
              "      <td>3</td>\n",
              "      <td>1</td>\n",
              "      <td>1</td>\n",
              "      <td>3</td>\n",
              "      <td>1</td>\n",
              "      <td>1</td>\n",
              "      <td>1</td>\n",
              "    </tr>\n",
              "    <tr>\n",
              "      <th>1</th>\n",
              "      <td>1</td>\n",
              "      <td>1</td>\n",
              "      <td>9</td>\n",
              "      <td>4</td>\n",
              "      <td>0</td>\n",
              "      <td>2799</td>\n",
              "      <td>1</td>\n",
              "      <td>3</td>\n",
              "      <td>2</td>\n",
              "      <td>3</td>\n",
              "      <td>...</td>\n",
              "      <td>2</td>\n",
              "      <td>1</td>\n",
              "      <td>36</td>\n",
              "      <td>3</td>\n",
              "      <td>1</td>\n",
              "      <td>2</td>\n",
              "      <td>3</td>\n",
              "      <td>2</td>\n",
              "      <td>1</td>\n",
              "      <td>1</td>\n",
              "    </tr>\n",
              "    <tr>\n",
              "      <th>2</th>\n",
              "      <td>1</td>\n",
              "      <td>2</td>\n",
              "      <td>12</td>\n",
              "      <td>2</td>\n",
              "      <td>9</td>\n",
              "      <td>841</td>\n",
              "      <td>2</td>\n",
              "      <td>4</td>\n",
              "      <td>2</td>\n",
              "      <td>2</td>\n",
              "      <td>...</td>\n",
              "      <td>4</td>\n",
              "      <td>1</td>\n",
              "      <td>23</td>\n",
              "      <td>3</td>\n",
              "      <td>1</td>\n",
              "      <td>1</td>\n",
              "      <td>2</td>\n",
              "      <td>1</td>\n",
              "      <td>1</td>\n",
              "      <td>1</td>\n",
              "    </tr>\n",
              "    <tr>\n",
              "      <th>3</th>\n",
              "      <td>1</td>\n",
              "      <td>1</td>\n",
              "      <td>12</td>\n",
              "      <td>4</td>\n",
              "      <td>0</td>\n",
              "      <td>2122</td>\n",
              "      <td>1</td>\n",
              "      <td>3</td>\n",
              "      <td>3</td>\n",
              "      <td>3</td>\n",
              "      <td>...</td>\n",
              "      <td>2</td>\n",
              "      <td>1</td>\n",
              "      <td>39</td>\n",
              "      <td>3</td>\n",
              "      <td>1</td>\n",
              "      <td>2</td>\n",
              "      <td>2</td>\n",
              "      <td>2</td>\n",
              "      <td>1</td>\n",
              "      <td>2</td>\n",
              "    </tr>\n",
              "    <tr>\n",
              "      <th>4</th>\n",
              "      <td>1</td>\n",
              "      <td>1</td>\n",
              "      <td>12</td>\n",
              "      <td>4</td>\n",
              "      <td>0</td>\n",
              "      <td>2171</td>\n",
              "      <td>1</td>\n",
              "      <td>3</td>\n",
              "      <td>4</td>\n",
              "      <td>3</td>\n",
              "      <td>...</td>\n",
              "      <td>4</td>\n",
              "      <td>2</td>\n",
              "      <td>38</td>\n",
              "      <td>1</td>\n",
              "      <td>2</td>\n",
              "      <td>2</td>\n",
              "      <td>2</td>\n",
              "      <td>1</td>\n",
              "      <td>1</td>\n",
              "      <td>2</td>\n",
              "    </tr>\n",
              "  </tbody>\n",
              "</table>\n",
              "<p>5 rows × 21 columns</p>\n",
              "</div>\n",
              "    <div class=\"colab-df-buttons\">\n",
              "\n",
              "  <div class=\"colab-df-container\">\n",
              "    <button class=\"colab-df-convert\" onclick=\"convertToInteractive('df-736d673b-045b-4553-857d-be0c62722d1d')\"\n",
              "            title=\"Convert this dataframe to an interactive table.\"\n",
              "            style=\"display:none;\">\n",
              "\n",
              "  <svg xmlns=\"http://www.w3.org/2000/svg\" height=\"24px\" viewBox=\"0 -960 960 960\">\n",
              "    <path d=\"M120-120v-720h720v720H120Zm60-500h600v-160H180v160Zm220 220h160v-160H400v160Zm0 220h160v-160H400v160ZM180-400h160v-160H180v160Zm440 0h160v-160H620v160ZM180-180h160v-160H180v160Zm440 0h160v-160H620v160Z\"/>\n",
              "  </svg>\n",
              "    </button>\n",
              "\n",
              "  <style>\n",
              "    .colab-df-container {\n",
              "      display:flex;\n",
              "      gap: 12px;\n",
              "    }\n",
              "\n",
              "    .colab-df-convert {\n",
              "      background-color: #E8F0FE;\n",
              "      border: none;\n",
              "      border-radius: 50%;\n",
              "      cursor: pointer;\n",
              "      display: none;\n",
              "      fill: #1967D2;\n",
              "      height: 32px;\n",
              "      padding: 0 0 0 0;\n",
              "      width: 32px;\n",
              "    }\n",
              "\n",
              "    .colab-df-convert:hover {\n",
              "      background-color: #E2EBFA;\n",
              "      box-shadow: 0px 1px 2px rgba(60, 64, 67, 0.3), 0px 1px 3px 1px rgba(60, 64, 67, 0.15);\n",
              "      fill: #174EA6;\n",
              "    }\n",
              "\n",
              "    .colab-df-buttons div {\n",
              "      margin-bottom: 4px;\n",
              "    }\n",
              "\n",
              "    [theme=dark] .colab-df-convert {\n",
              "      background-color: #3B4455;\n",
              "      fill: #D2E3FC;\n",
              "    }\n",
              "\n",
              "    [theme=dark] .colab-df-convert:hover {\n",
              "      background-color: #434B5C;\n",
              "      box-shadow: 0px 1px 3px 1px rgba(0, 0, 0, 0.15);\n",
              "      filter: drop-shadow(0px 1px 2px rgba(0, 0, 0, 0.3));\n",
              "      fill: #FFFFFF;\n",
              "    }\n",
              "  </style>\n",
              "\n",
              "    <script>\n",
              "      const buttonEl =\n",
              "        document.querySelector('#df-736d673b-045b-4553-857d-be0c62722d1d button.colab-df-convert');\n",
              "      buttonEl.style.display =\n",
              "        google.colab.kernel.accessAllowed ? 'block' : 'none';\n",
              "\n",
              "      async function convertToInteractive(key) {\n",
              "        const element = document.querySelector('#df-736d673b-045b-4553-857d-be0c62722d1d');\n",
              "        const dataTable =\n",
              "          await google.colab.kernel.invokeFunction('convertToInteractive',\n",
              "                                                    [key], {});\n",
              "        if (!dataTable) return;\n",
              "\n",
              "        const docLinkHtml = 'Like what you see? Visit the ' +\n",
              "          '<a target=\"_blank\" href=https://colab.research.google.com/notebooks/data_table.ipynb>data table notebook</a>'\n",
              "          + ' to learn more about interactive tables.';\n",
              "        element.innerHTML = '';\n",
              "        dataTable['output_type'] = 'display_data';\n",
              "        await google.colab.output.renderOutput(dataTable, element);\n",
              "        const docLink = document.createElement('div');\n",
              "        docLink.innerHTML = docLinkHtml;\n",
              "        element.appendChild(docLink);\n",
              "      }\n",
              "    </script>\n",
              "  </div>\n",
              "\n",
              "\n",
              "<div id=\"df-f42c2744-8937-44f1-af23-b333264d02d1\">\n",
              "  <button class=\"colab-df-quickchart\" onclick=\"quickchart('df-f42c2744-8937-44f1-af23-b333264d02d1')\"\n",
              "            title=\"Suggest charts\"\n",
              "            style=\"display:none;\">\n",
              "\n",
              "<svg xmlns=\"http://www.w3.org/2000/svg\" height=\"24px\"viewBox=\"0 0 24 24\"\n",
              "     width=\"24px\">\n",
              "    <g>\n",
              "        <path d=\"M19 3H5c-1.1 0-2 .9-2 2v14c0 1.1.9 2 2 2h14c1.1 0 2-.9 2-2V5c0-1.1-.9-2-2-2zM9 17H7v-7h2v7zm4 0h-2V7h2v10zm4 0h-2v-4h2v4z\"/>\n",
              "    </g>\n",
              "</svg>\n",
              "  </button>\n",
              "\n",
              "<style>\n",
              "  .colab-df-quickchart {\n",
              "      --bg-color: #E8F0FE;\n",
              "      --fill-color: #1967D2;\n",
              "      --hover-bg-color: #E2EBFA;\n",
              "      --hover-fill-color: #174EA6;\n",
              "      --disabled-fill-color: #AAA;\n",
              "      --disabled-bg-color: #DDD;\n",
              "  }\n",
              "\n",
              "  [theme=dark] .colab-df-quickchart {\n",
              "      --bg-color: #3B4455;\n",
              "      --fill-color: #D2E3FC;\n",
              "      --hover-bg-color: #434B5C;\n",
              "      --hover-fill-color: #FFFFFF;\n",
              "      --disabled-bg-color: #3B4455;\n",
              "      --disabled-fill-color: #666;\n",
              "  }\n",
              "\n",
              "  .colab-df-quickchart {\n",
              "    background-color: var(--bg-color);\n",
              "    border: none;\n",
              "    border-radius: 50%;\n",
              "    cursor: pointer;\n",
              "    display: none;\n",
              "    fill: var(--fill-color);\n",
              "    height: 32px;\n",
              "    padding: 0;\n",
              "    width: 32px;\n",
              "  }\n",
              "\n",
              "  .colab-df-quickchart:hover {\n",
              "    background-color: var(--hover-bg-color);\n",
              "    box-shadow: 0 1px 2px rgba(60, 64, 67, 0.3), 0 1px 3px 1px rgba(60, 64, 67, 0.15);\n",
              "    fill: var(--button-hover-fill-color);\n",
              "  }\n",
              "\n",
              "  .colab-df-quickchart-complete:disabled,\n",
              "  .colab-df-quickchart-complete:disabled:hover {\n",
              "    background-color: var(--disabled-bg-color);\n",
              "    fill: var(--disabled-fill-color);\n",
              "    box-shadow: none;\n",
              "  }\n",
              "\n",
              "  .colab-df-spinner {\n",
              "    border: 2px solid var(--fill-color);\n",
              "    border-color: transparent;\n",
              "    border-bottom-color: var(--fill-color);\n",
              "    animation:\n",
              "      spin 1s steps(1) infinite;\n",
              "  }\n",
              "\n",
              "  @keyframes spin {\n",
              "    0% {\n",
              "      border-color: transparent;\n",
              "      border-bottom-color: var(--fill-color);\n",
              "      border-left-color: var(--fill-color);\n",
              "    }\n",
              "    20% {\n",
              "      border-color: transparent;\n",
              "      border-left-color: var(--fill-color);\n",
              "      border-top-color: var(--fill-color);\n",
              "    }\n",
              "    30% {\n",
              "      border-color: transparent;\n",
              "      border-left-color: var(--fill-color);\n",
              "      border-top-color: var(--fill-color);\n",
              "      border-right-color: var(--fill-color);\n",
              "    }\n",
              "    40% {\n",
              "      border-color: transparent;\n",
              "      border-right-color: var(--fill-color);\n",
              "      border-top-color: var(--fill-color);\n",
              "    }\n",
              "    60% {\n",
              "      border-color: transparent;\n",
              "      border-right-color: var(--fill-color);\n",
              "    }\n",
              "    80% {\n",
              "      border-color: transparent;\n",
              "      border-right-color: var(--fill-color);\n",
              "      border-bottom-color: var(--fill-color);\n",
              "    }\n",
              "    90% {\n",
              "      border-color: transparent;\n",
              "      border-bottom-color: var(--fill-color);\n",
              "    }\n",
              "  }\n",
              "</style>\n",
              "\n",
              "  <script>\n",
              "    async function quickchart(key) {\n",
              "      const quickchartButtonEl =\n",
              "        document.querySelector('#' + key + ' button');\n",
              "      quickchartButtonEl.disabled = true;  // To prevent multiple clicks.\n",
              "      quickchartButtonEl.classList.add('colab-df-spinner');\n",
              "      try {\n",
              "        const charts = await google.colab.kernel.invokeFunction(\n",
              "            'suggestCharts', [key], {});\n",
              "      } catch (error) {\n",
              "        console.error('Error during call to suggestCharts:', error);\n",
              "      }\n",
              "      quickchartButtonEl.classList.remove('colab-df-spinner');\n",
              "      quickchartButtonEl.classList.add('colab-df-quickchart-complete');\n",
              "    }\n",
              "    (() => {\n",
              "      let quickchartButtonEl =\n",
              "        document.querySelector('#df-f42c2744-8937-44f1-af23-b333264d02d1 button');\n",
              "      quickchartButtonEl.style.display =\n",
              "        google.colab.kernel.accessAllowed ? 'block' : 'none';\n",
              "    })();\n",
              "  </script>\n",
              "</div>\n",
              "\n",
              "    </div>\n",
              "  </div>\n"
            ],
            "application/vnd.google.colaboratory.intrinsic+json": {
              "type": "dataframe",
              "variable_name": "df"
            }
          },
          "metadata": {},
          "execution_count": 6
        }
      ]
    },
    {
      "cell_type": "markdown",
      "source": [
        "**[1.4]** Now let's have a look at the descriptive statistics for the numerical variables using[.describe()](https://pandas.pydata.org/pandas-docs/stable/reference/api/pandas.DataFrame.describe.html?highlight=describe#pandas.DataFrame.describe)\n",
        "\n",
        "**Task: Print the stats for all numerical variables**"
      ],
      "metadata": {
        "id": "_-5GPoCMOYby"
      }
    },
    {
      "cell_type": "code",
      "source": [
        "# Solution\n",
        "df.describe()"
      ],
      "metadata": {
        "colab": {
          "base_uri": "https://localhost:8080/",
          "height": 401
        },
        "id": "dhXtPlBNOYoX",
        "outputId": "ab73b83c-8797-4eda-bb72-c336afd83757"
      },
      "execution_count": null,
      "outputs": [
        {
          "output_type": "execute_result",
          "data": {
            "text/plain": [
              "       Creditability  Account Balance  Duration of Credit (month)  \\\n",
              "count    1000.000000      1000.000000                 1000.000000   \n",
              "mean        0.700000         2.577000                   20.903000   \n",
              "std         0.458487         1.257638                   12.058814   \n",
              "min         0.000000         1.000000                    4.000000   \n",
              "25%         0.000000         1.000000                   12.000000   \n",
              "50%         1.000000         2.000000                   18.000000   \n",
              "75%         1.000000         4.000000                   24.000000   \n",
              "max         1.000000         4.000000                   72.000000   \n",
              "\n",
              "       Payment Status of Previous Credit      Purpose  Credit Amount  \\\n",
              "count                         1000.00000  1000.000000     1000.00000   \n",
              "mean                             2.54500     2.828000     3271.24800   \n",
              "std                              1.08312     2.744439     2822.75176   \n",
              "min                              0.00000     0.000000      250.00000   \n",
              "25%                              2.00000     1.000000     1365.50000   \n",
              "50%                              2.00000     2.000000     2319.50000   \n",
              "75%                              4.00000     3.000000     3972.25000   \n",
              "max                              4.00000    10.000000    18424.00000   \n",
              "\n",
              "       Value Savings/Stocks  Length of current employment  \\\n",
              "count           1000.000000                   1000.000000   \n",
              "mean               2.105000                      3.384000   \n",
              "std                1.580023                      1.208306   \n",
              "min                1.000000                      1.000000   \n",
              "25%                1.000000                      3.000000   \n",
              "50%                1.000000                      3.000000   \n",
              "75%                3.000000                      5.000000   \n",
              "max                5.000000                      5.000000   \n",
              "\n",
              "       Instalment per cent  Sex & Marital Status  ...  \\\n",
              "count          1000.000000            1000.00000  ...   \n",
              "mean              2.973000               2.68200  ...   \n",
              "std               1.118715               0.70808  ...   \n",
              "min               1.000000               1.00000  ...   \n",
              "25%               2.000000               2.00000  ...   \n",
              "50%               3.000000               3.00000  ...   \n",
              "75%               4.000000               3.00000  ...   \n",
              "max               4.000000               4.00000  ...   \n",
              "\n",
              "       Duration in Current address  Most valuable available asset  \\\n",
              "count                  1000.000000                    1000.000000   \n",
              "mean                      2.845000                       2.358000   \n",
              "std                       1.103718                       1.050209   \n",
              "min                       1.000000                       1.000000   \n",
              "25%                       2.000000                       1.000000   \n",
              "50%                       3.000000                       2.000000   \n",
              "75%                       4.000000                       3.000000   \n",
              "max                       4.000000                       4.000000   \n",
              "\n",
              "       Age (years)  Concurrent Credits  Type of apartment  \\\n",
              "count   1000.00000         1000.000000        1000.000000   \n",
              "mean      35.54200            2.675000           1.928000   \n",
              "std       11.35267            0.705601           0.530186   \n",
              "min       19.00000            1.000000           1.000000   \n",
              "25%       27.00000            3.000000           2.000000   \n",
              "50%       33.00000            3.000000           2.000000   \n",
              "75%       42.00000            3.000000           2.000000   \n",
              "max       75.00000            3.000000           3.000000   \n",
              "\n",
              "       No of Credits at this Bank   Occupation  No of dependents    Telephone  \\\n",
              "count                 1000.000000  1000.000000       1000.000000  1000.000000   \n",
              "mean                     1.407000     2.904000          1.155000     1.404000   \n",
              "std                      0.577654     0.653614          0.362086     0.490943   \n",
              "min                      1.000000     1.000000          1.000000     1.000000   \n",
              "25%                      1.000000     3.000000          1.000000     1.000000   \n",
              "50%                      1.000000     3.000000          1.000000     1.000000   \n",
              "75%                      2.000000     3.000000          1.000000     2.000000   \n",
              "max                      4.000000     4.000000          2.000000     2.000000   \n",
              "\n",
              "       Foreign Worker  \n",
              "count     1000.000000  \n",
              "mean         1.037000  \n",
              "std          0.188856  \n",
              "min          1.000000  \n",
              "25%          1.000000  \n",
              "50%          1.000000  \n",
              "75%          1.000000  \n",
              "max          2.000000  \n",
              "\n",
              "[8 rows x 21 columns]"
            ],
            "text/html": [
              "\n",
              "  <div id=\"df-8b2b934d-d075-4143-a0de-cd7a52177e2b\" class=\"colab-df-container\">\n",
              "    <div>\n",
              "<style scoped>\n",
              "    .dataframe tbody tr th:only-of-type {\n",
              "        vertical-align: middle;\n",
              "    }\n",
              "\n",
              "    .dataframe tbody tr th {\n",
              "        vertical-align: top;\n",
              "    }\n",
              "\n",
              "    .dataframe thead th {\n",
              "        text-align: right;\n",
              "    }\n",
              "</style>\n",
              "<table border=\"1\" class=\"dataframe\">\n",
              "  <thead>\n",
              "    <tr style=\"text-align: right;\">\n",
              "      <th></th>\n",
              "      <th>Creditability</th>\n",
              "      <th>Account Balance</th>\n",
              "      <th>Duration of Credit (month)</th>\n",
              "      <th>Payment Status of Previous Credit</th>\n",
              "      <th>Purpose</th>\n",
              "      <th>Credit Amount</th>\n",
              "      <th>Value Savings/Stocks</th>\n",
              "      <th>Length of current employment</th>\n",
              "      <th>Instalment per cent</th>\n",
              "      <th>Sex &amp; Marital Status</th>\n",
              "      <th>...</th>\n",
              "      <th>Duration in Current address</th>\n",
              "      <th>Most valuable available asset</th>\n",
              "      <th>Age (years)</th>\n",
              "      <th>Concurrent Credits</th>\n",
              "      <th>Type of apartment</th>\n",
              "      <th>No of Credits at this Bank</th>\n",
              "      <th>Occupation</th>\n",
              "      <th>No of dependents</th>\n",
              "      <th>Telephone</th>\n",
              "      <th>Foreign Worker</th>\n",
              "    </tr>\n",
              "  </thead>\n",
              "  <tbody>\n",
              "    <tr>\n",
              "      <th>count</th>\n",
              "      <td>1000.000000</td>\n",
              "      <td>1000.000000</td>\n",
              "      <td>1000.000000</td>\n",
              "      <td>1000.00000</td>\n",
              "      <td>1000.000000</td>\n",
              "      <td>1000.00000</td>\n",
              "      <td>1000.000000</td>\n",
              "      <td>1000.000000</td>\n",
              "      <td>1000.000000</td>\n",
              "      <td>1000.00000</td>\n",
              "      <td>...</td>\n",
              "      <td>1000.000000</td>\n",
              "      <td>1000.000000</td>\n",
              "      <td>1000.00000</td>\n",
              "      <td>1000.000000</td>\n",
              "      <td>1000.000000</td>\n",
              "      <td>1000.000000</td>\n",
              "      <td>1000.000000</td>\n",
              "      <td>1000.000000</td>\n",
              "      <td>1000.000000</td>\n",
              "      <td>1000.000000</td>\n",
              "    </tr>\n",
              "    <tr>\n",
              "      <th>mean</th>\n",
              "      <td>0.700000</td>\n",
              "      <td>2.577000</td>\n",
              "      <td>20.903000</td>\n",
              "      <td>2.54500</td>\n",
              "      <td>2.828000</td>\n",
              "      <td>3271.24800</td>\n",
              "      <td>2.105000</td>\n",
              "      <td>3.384000</td>\n",
              "      <td>2.973000</td>\n",
              "      <td>2.68200</td>\n",
              "      <td>...</td>\n",
              "      <td>2.845000</td>\n",
              "      <td>2.358000</td>\n",
              "      <td>35.54200</td>\n",
              "      <td>2.675000</td>\n",
              "      <td>1.928000</td>\n",
              "      <td>1.407000</td>\n",
              "      <td>2.904000</td>\n",
              "      <td>1.155000</td>\n",
              "      <td>1.404000</td>\n",
              "      <td>1.037000</td>\n",
              "    </tr>\n",
              "    <tr>\n",
              "      <th>std</th>\n",
              "      <td>0.458487</td>\n",
              "      <td>1.257638</td>\n",
              "      <td>12.058814</td>\n",
              "      <td>1.08312</td>\n",
              "      <td>2.744439</td>\n",
              "      <td>2822.75176</td>\n",
              "      <td>1.580023</td>\n",
              "      <td>1.208306</td>\n",
              "      <td>1.118715</td>\n",
              "      <td>0.70808</td>\n",
              "      <td>...</td>\n",
              "      <td>1.103718</td>\n",
              "      <td>1.050209</td>\n",
              "      <td>11.35267</td>\n",
              "      <td>0.705601</td>\n",
              "      <td>0.530186</td>\n",
              "      <td>0.577654</td>\n",
              "      <td>0.653614</td>\n",
              "      <td>0.362086</td>\n",
              "      <td>0.490943</td>\n",
              "      <td>0.188856</td>\n",
              "    </tr>\n",
              "    <tr>\n",
              "      <th>min</th>\n",
              "      <td>0.000000</td>\n",
              "      <td>1.000000</td>\n",
              "      <td>4.000000</td>\n",
              "      <td>0.00000</td>\n",
              "      <td>0.000000</td>\n",
              "      <td>250.00000</td>\n",
              "      <td>1.000000</td>\n",
              "      <td>1.000000</td>\n",
              "      <td>1.000000</td>\n",
              "      <td>1.00000</td>\n",
              "      <td>...</td>\n",
              "      <td>1.000000</td>\n",
              "      <td>1.000000</td>\n",
              "      <td>19.00000</td>\n",
              "      <td>1.000000</td>\n",
              "      <td>1.000000</td>\n",
              "      <td>1.000000</td>\n",
              "      <td>1.000000</td>\n",
              "      <td>1.000000</td>\n",
              "      <td>1.000000</td>\n",
              "      <td>1.000000</td>\n",
              "    </tr>\n",
              "    <tr>\n",
              "      <th>25%</th>\n",
              "      <td>0.000000</td>\n",
              "      <td>1.000000</td>\n",
              "      <td>12.000000</td>\n",
              "      <td>2.00000</td>\n",
              "      <td>1.000000</td>\n",
              "      <td>1365.50000</td>\n",
              "      <td>1.000000</td>\n",
              "      <td>3.000000</td>\n",
              "      <td>2.000000</td>\n",
              "      <td>2.00000</td>\n",
              "      <td>...</td>\n",
              "      <td>2.000000</td>\n",
              "      <td>1.000000</td>\n",
              "      <td>27.00000</td>\n",
              "      <td>3.000000</td>\n",
              "      <td>2.000000</td>\n",
              "      <td>1.000000</td>\n",
              "      <td>3.000000</td>\n",
              "      <td>1.000000</td>\n",
              "      <td>1.000000</td>\n",
              "      <td>1.000000</td>\n",
              "    </tr>\n",
              "    <tr>\n",
              "      <th>50%</th>\n",
              "      <td>1.000000</td>\n",
              "      <td>2.000000</td>\n",
              "      <td>18.000000</td>\n",
              "      <td>2.00000</td>\n",
              "      <td>2.000000</td>\n",
              "      <td>2319.50000</td>\n",
              "      <td>1.000000</td>\n",
              "      <td>3.000000</td>\n",
              "      <td>3.000000</td>\n",
              "      <td>3.00000</td>\n",
              "      <td>...</td>\n",
              "      <td>3.000000</td>\n",
              "      <td>2.000000</td>\n",
              "      <td>33.00000</td>\n",
              "      <td>3.000000</td>\n",
              "      <td>2.000000</td>\n",
              "      <td>1.000000</td>\n",
              "      <td>3.000000</td>\n",
              "      <td>1.000000</td>\n",
              "      <td>1.000000</td>\n",
              "      <td>1.000000</td>\n",
              "    </tr>\n",
              "    <tr>\n",
              "      <th>75%</th>\n",
              "      <td>1.000000</td>\n",
              "      <td>4.000000</td>\n",
              "      <td>24.000000</td>\n",
              "      <td>4.00000</td>\n",
              "      <td>3.000000</td>\n",
              "      <td>3972.25000</td>\n",
              "      <td>3.000000</td>\n",
              "      <td>5.000000</td>\n",
              "      <td>4.000000</td>\n",
              "      <td>3.00000</td>\n",
              "      <td>...</td>\n",
              "      <td>4.000000</td>\n",
              "      <td>3.000000</td>\n",
              "      <td>42.00000</td>\n",
              "      <td>3.000000</td>\n",
              "      <td>2.000000</td>\n",
              "      <td>2.000000</td>\n",
              "      <td>3.000000</td>\n",
              "      <td>1.000000</td>\n",
              "      <td>2.000000</td>\n",
              "      <td>1.000000</td>\n",
              "    </tr>\n",
              "    <tr>\n",
              "      <th>max</th>\n",
              "      <td>1.000000</td>\n",
              "      <td>4.000000</td>\n",
              "      <td>72.000000</td>\n",
              "      <td>4.00000</td>\n",
              "      <td>10.000000</td>\n",
              "      <td>18424.00000</td>\n",
              "      <td>5.000000</td>\n",
              "      <td>5.000000</td>\n",
              "      <td>4.000000</td>\n",
              "      <td>4.00000</td>\n",
              "      <td>...</td>\n",
              "      <td>4.000000</td>\n",
              "      <td>4.000000</td>\n",
              "      <td>75.00000</td>\n",
              "      <td>3.000000</td>\n",
              "      <td>3.000000</td>\n",
              "      <td>4.000000</td>\n",
              "      <td>4.000000</td>\n",
              "      <td>2.000000</td>\n",
              "      <td>2.000000</td>\n",
              "      <td>2.000000</td>\n",
              "    </tr>\n",
              "  </tbody>\n",
              "</table>\n",
              "<p>8 rows × 21 columns</p>\n",
              "</div>\n",
              "    <div class=\"colab-df-buttons\">\n",
              "\n",
              "  <div class=\"colab-df-container\">\n",
              "    <button class=\"colab-df-convert\" onclick=\"convertToInteractive('df-8b2b934d-d075-4143-a0de-cd7a52177e2b')\"\n",
              "            title=\"Convert this dataframe to an interactive table.\"\n",
              "            style=\"display:none;\">\n",
              "\n",
              "  <svg xmlns=\"http://www.w3.org/2000/svg\" height=\"24px\" viewBox=\"0 -960 960 960\">\n",
              "    <path d=\"M120-120v-720h720v720H120Zm60-500h600v-160H180v160Zm220 220h160v-160H400v160Zm0 220h160v-160H400v160ZM180-400h160v-160H180v160Zm440 0h160v-160H620v160ZM180-180h160v-160H180v160Zm440 0h160v-160H620v160Z\"/>\n",
              "  </svg>\n",
              "    </button>\n",
              "\n",
              "  <style>\n",
              "    .colab-df-container {\n",
              "      display:flex;\n",
              "      gap: 12px;\n",
              "    }\n",
              "\n",
              "    .colab-df-convert {\n",
              "      background-color: #E8F0FE;\n",
              "      border: none;\n",
              "      border-radius: 50%;\n",
              "      cursor: pointer;\n",
              "      display: none;\n",
              "      fill: #1967D2;\n",
              "      height: 32px;\n",
              "      padding: 0 0 0 0;\n",
              "      width: 32px;\n",
              "    }\n",
              "\n",
              "    .colab-df-convert:hover {\n",
              "      background-color: #E2EBFA;\n",
              "      box-shadow: 0px 1px 2px rgba(60, 64, 67, 0.3), 0px 1px 3px 1px rgba(60, 64, 67, 0.15);\n",
              "      fill: #174EA6;\n",
              "    }\n",
              "\n",
              "    .colab-df-buttons div {\n",
              "      margin-bottom: 4px;\n",
              "    }\n",
              "\n",
              "    [theme=dark] .colab-df-convert {\n",
              "      background-color: #3B4455;\n",
              "      fill: #D2E3FC;\n",
              "    }\n",
              "\n",
              "    [theme=dark] .colab-df-convert:hover {\n",
              "      background-color: #434B5C;\n",
              "      box-shadow: 0px 1px 3px 1px rgba(0, 0, 0, 0.15);\n",
              "      filter: drop-shadow(0px 1px 2px rgba(0, 0, 0, 0.3));\n",
              "      fill: #FFFFFF;\n",
              "    }\n",
              "  </style>\n",
              "\n",
              "    <script>\n",
              "      const buttonEl =\n",
              "        document.querySelector('#df-8b2b934d-d075-4143-a0de-cd7a52177e2b button.colab-df-convert');\n",
              "      buttonEl.style.display =\n",
              "        google.colab.kernel.accessAllowed ? 'block' : 'none';\n",
              "\n",
              "      async function convertToInteractive(key) {\n",
              "        const element = document.querySelector('#df-8b2b934d-d075-4143-a0de-cd7a52177e2b');\n",
              "        const dataTable =\n",
              "          await google.colab.kernel.invokeFunction('convertToInteractive',\n",
              "                                                    [key], {});\n",
              "        if (!dataTable) return;\n",
              "\n",
              "        const docLinkHtml = 'Like what you see? Visit the ' +\n",
              "          '<a target=\"_blank\" href=https://colab.research.google.com/notebooks/data_table.ipynb>data table notebook</a>'\n",
              "          + ' to learn more about interactive tables.';\n",
              "        element.innerHTML = '';\n",
              "        dataTable['output_type'] = 'display_data';\n",
              "        await google.colab.output.renderOutput(dataTable, element);\n",
              "        const docLink = document.createElement('div');\n",
              "        docLink.innerHTML = docLinkHtml;\n",
              "        element.appendChild(docLink);\n",
              "      }\n",
              "    </script>\n",
              "  </div>\n",
              "\n",
              "\n",
              "<div id=\"df-2a18d853-10e1-49f5-b97f-c701286a88a6\">\n",
              "  <button class=\"colab-df-quickchart\" onclick=\"quickchart('df-2a18d853-10e1-49f5-b97f-c701286a88a6')\"\n",
              "            title=\"Suggest charts\"\n",
              "            style=\"display:none;\">\n",
              "\n",
              "<svg xmlns=\"http://www.w3.org/2000/svg\" height=\"24px\"viewBox=\"0 0 24 24\"\n",
              "     width=\"24px\">\n",
              "    <g>\n",
              "        <path d=\"M19 3H5c-1.1 0-2 .9-2 2v14c0 1.1.9 2 2 2h14c1.1 0 2-.9 2-2V5c0-1.1-.9-2-2-2zM9 17H7v-7h2v7zm4 0h-2V7h2v10zm4 0h-2v-4h2v4z\"/>\n",
              "    </g>\n",
              "</svg>\n",
              "  </button>\n",
              "\n",
              "<style>\n",
              "  .colab-df-quickchart {\n",
              "      --bg-color: #E8F0FE;\n",
              "      --fill-color: #1967D2;\n",
              "      --hover-bg-color: #E2EBFA;\n",
              "      --hover-fill-color: #174EA6;\n",
              "      --disabled-fill-color: #AAA;\n",
              "      --disabled-bg-color: #DDD;\n",
              "  }\n",
              "\n",
              "  [theme=dark] .colab-df-quickchart {\n",
              "      --bg-color: #3B4455;\n",
              "      --fill-color: #D2E3FC;\n",
              "      --hover-bg-color: #434B5C;\n",
              "      --hover-fill-color: #FFFFFF;\n",
              "      --disabled-bg-color: #3B4455;\n",
              "      --disabled-fill-color: #666;\n",
              "  }\n",
              "\n",
              "  .colab-df-quickchart {\n",
              "    background-color: var(--bg-color);\n",
              "    border: none;\n",
              "    border-radius: 50%;\n",
              "    cursor: pointer;\n",
              "    display: none;\n",
              "    fill: var(--fill-color);\n",
              "    height: 32px;\n",
              "    padding: 0;\n",
              "    width: 32px;\n",
              "  }\n",
              "\n",
              "  .colab-df-quickchart:hover {\n",
              "    background-color: var(--hover-bg-color);\n",
              "    box-shadow: 0 1px 2px rgba(60, 64, 67, 0.3), 0 1px 3px 1px rgba(60, 64, 67, 0.15);\n",
              "    fill: var(--button-hover-fill-color);\n",
              "  }\n",
              "\n",
              "  .colab-df-quickchart-complete:disabled,\n",
              "  .colab-df-quickchart-complete:disabled:hover {\n",
              "    background-color: var(--disabled-bg-color);\n",
              "    fill: var(--disabled-fill-color);\n",
              "    box-shadow: none;\n",
              "  }\n",
              "\n",
              "  .colab-df-spinner {\n",
              "    border: 2px solid var(--fill-color);\n",
              "    border-color: transparent;\n",
              "    border-bottom-color: var(--fill-color);\n",
              "    animation:\n",
              "      spin 1s steps(1) infinite;\n",
              "  }\n",
              "\n",
              "  @keyframes spin {\n",
              "    0% {\n",
              "      border-color: transparent;\n",
              "      border-bottom-color: var(--fill-color);\n",
              "      border-left-color: var(--fill-color);\n",
              "    }\n",
              "    20% {\n",
              "      border-color: transparent;\n",
              "      border-left-color: var(--fill-color);\n",
              "      border-top-color: var(--fill-color);\n",
              "    }\n",
              "    30% {\n",
              "      border-color: transparent;\n",
              "      border-left-color: var(--fill-color);\n",
              "      border-top-color: var(--fill-color);\n",
              "      border-right-color: var(--fill-color);\n",
              "    }\n",
              "    40% {\n",
              "      border-color: transparent;\n",
              "      border-right-color: var(--fill-color);\n",
              "      border-top-color: var(--fill-color);\n",
              "    }\n",
              "    60% {\n",
              "      border-color: transparent;\n",
              "      border-right-color: var(--fill-color);\n",
              "    }\n",
              "    80% {\n",
              "      border-color: transparent;\n",
              "      border-right-color: var(--fill-color);\n",
              "      border-bottom-color: var(--fill-color);\n",
              "    }\n",
              "    90% {\n",
              "      border-color: transparent;\n",
              "      border-bottom-color: var(--fill-color);\n",
              "    }\n",
              "  }\n",
              "</style>\n",
              "\n",
              "  <script>\n",
              "    async function quickchart(key) {\n",
              "      const quickchartButtonEl =\n",
              "        document.querySelector('#' + key + ' button');\n",
              "      quickchartButtonEl.disabled = true;  // To prevent multiple clicks.\n",
              "      quickchartButtonEl.classList.add('colab-df-spinner');\n",
              "      try {\n",
              "        const charts = await google.colab.kernel.invokeFunction(\n",
              "            'suggestCharts', [key], {});\n",
              "      } catch (error) {\n",
              "        console.error('Error during call to suggestCharts:', error);\n",
              "      }\n",
              "      quickchartButtonEl.classList.remove('colab-df-spinner');\n",
              "      quickchartButtonEl.classList.add('colab-df-quickchart-complete');\n",
              "    }\n",
              "    (() => {\n",
              "      let quickchartButtonEl =\n",
              "        document.querySelector('#df-2a18d853-10e1-49f5-b97f-c701286a88a6 button');\n",
              "      quickchartButtonEl.style.display =\n",
              "        google.colab.kernel.accessAllowed ? 'block' : 'none';\n",
              "    })();\n",
              "  </script>\n",
              "</div>\n",
              "\n",
              "    </div>\n",
              "  </div>\n"
            ],
            "application/vnd.google.colaboratory.intrinsic+json": {
              "type": "dataframe"
            }
          },
          "metadata": {},
          "execution_count": 8
        }
      ]
    },
    {
      "cell_type": "markdown",
      "source": [
        "**[1.5]** We are interested in the feature 'creditability'. Let's have a look at its distribution with [.hist()](https://matplotlib.org/3.2.0/api/_as_gen/matplotlib.pyplot.hist.html) and [.show()](https://matplotlib.org/3.2.0/api/_as_gen/matplotlib.pyplot.show.html?highlight=show#matplotlib.pyplot.show) from matplotlib\n",
        "\n",
        "**Task: Print the histogram for the feature 'creditability'**"
      ],
      "metadata": {
        "id": "TMoCMXd9OiQC"
      }
    },
    {
      "cell_type": "code",
      "source": [
        "# Solution\n",
        "import matplotlib.pyplot as plt\n",
        "plt.hist(df['Creditability'])\n",
        "plt.show()"
      ],
      "metadata": {
        "colab": {
          "base_uri": "https://localhost:8080/",
          "height": 430
        },
        "id": "51QeC_3fOie7",
        "outputId": "bf8be6df-f5c6-411c-ec85-0d93338baf78"
      },
      "execution_count": null,
      "outputs": [
        {
          "output_type": "display_data",
          "data": {
            "text/plain": [
              "<Figure size 640x480 with 1 Axes>"
            ],
            "image/png": "[encoded data removed]"
          },
          "metadata": {}
        }
      ]
    },
    {
      "cell_type": "markdown",
      "source": [
        "### 2.   Preparing the Dataset"
      ],
      "metadata": {
        "id": "x_wDlcY7OqRK"
      }
    },
    {
      "cell_type": "markdown",
      "source": [
        "**[2.1]** Now that we know what information are contained in this dataset, we need to prepare it. First we will extract the target variable creditability using [.pop()](https://pandas.pydata.org/pandas-docs/stable/reference/api/pandas.DataFrame.pop.html?highlight=pop#pandas.DataFrame.pop)\n",
        "\n",
        "**Task: Extract the feature 'creditability' and save it to a variable called y**"
      ],
      "metadata": {
        "id": "NHgIG6q1O8hd"
      }
    },
    {
      "cell_type": "code",
      "source": [
        "# Solution\n",
        "y = df.pop('Creditability')"
      ],
      "metadata": {
        "id": "rDCNViSHOqiL"
      },
      "execution_count": null,
      "outputs": []
    },
    {
      "cell_type": "markdown",
      "source": [
        "**[2.2]** We need to split the data into training and testing sets. We will import the [train_test_split()](https://scikit-learn.org/stable/modules/generated/sklearn.model_selection.train_test_split.html) from sklearn\n"
      ],
      "metadata": {
        "id": "xTWpMUR-PAnU"
      }
    },
    {
      "cell_type": "code",
      "source": [
        "# Solution\n",
        "from sklearn.model_selection import train_test_split"
      ],
      "metadata": {
        "id": "lbHJyeUIPEGR"
      },
      "execution_count": null,
      "outputs": []
    },
    {
      "cell_type": "markdown",
      "source": [
        "**[2.3]** Let's split the data using a 80/20 ratio with [train_test_split()](https://scikit-learn.org/stable/modules/generated/sklearn.model_selection.train_test_split.html) from sklearn\n",
        "\n",
        "**Task: Split the data into training and testing sets with 20% and set the seed as 8**"
      ],
      "metadata": {
        "id": "NmfHT9FUPHYE"
      }
    },
    {
      "cell_type": "code",
      "source": [
        "# Solution\n",
        "X_train, X_test, y_train, y_test =  train_test_split(df, y, test_size=0.2, random_state=8)"
      ],
      "metadata": {
        "id": "UPsNZUAqPHrK"
      },
      "execution_count": null,
      "outputs": []
    },
    {
      "cell_type": "markdown",
      "source": [
        "**[2.4]** Let's have a look at the dimensions of the 4 variables you created\n",
        "\n",
        "**Task: Print the dimensions of the features and target for the training and testing sets**"
      ],
      "metadata": {
        "id": "OBvtYSCcPH3T"
      }
    },
    {
      "cell_type": "code",
      "source": [
        "# Solution\n",
        "print(X_train.shape)\n",
        "print(X_test.shape)\n",
        "print(y_train.shape)\n",
        "print(y_test.shape)"
      ],
      "metadata": {
        "colab": {
          "base_uri": "https://localhost:8080/"
        },
        "id": "8To2cz1EPICX",
        "outputId": "1c376a9a-3bf5-46ba-e5a6-a95ed79a3b1f"
      },
      "execution_count": null,
      "outputs": [
        {
          "output_type": "stream",
          "name": "stdout",
          "text": [
            "(800, 20)\n",
            "(200, 20)\n",
            "(800,)\n",
            "(200,)\n"
          ]
        }
      ]
    },
    {
      "cell_type": "markdown",
      "source": [
        "**[2.5]** It is a good practise to standardise the data before training a neural net. We will import [scale()](https://scikit-learn.org/stable/modules/generated/sklearn.preprocessing.scale.html?highlight=scale#sklearn.preprocessing.scale) from sklearn\n"
      ],
      "metadata": {
        "id": "avHJ7BClPINX"
      }
    },
    {
      "cell_type": "code",
      "source": [
        "# Solution\n",
        "from sklearn.preprocessing import scale"
      ],
      "metadata": {
        "id": "vhQjzAaCPIXq"
      },
      "execution_count": null,
      "outputs": []
    },
    {
      "cell_type": "markdown",
      "source": [
        "**[2.6]** Let's perform standardisation on the training and testing sets using [scale()](https://scikit-learn.org/stable/modules/generated/sklearn.preprocessing.scale.html?highlight=scale#sklearn.preprocessing.scale) from sklearn\n",
        "\n",
        "**Task: Standardise the training and testing sets**"
      ],
      "metadata": {
        "id": "g4f6xjgMPdkG"
      }
    },
    {
      "cell_type": "code",
      "source": [
        "# Solution\n",
        "scaled_X_train = scale(X_train)\n",
        "scaled_X_test = scale(X_test)"
      ],
      "metadata": {
        "id": "eOoK4boBPdyK"
      },
      "execution_count": null,
      "outputs": []
    },
    {
      "cell_type": "markdown",
      "source": [
        "**[2.7]** Let's print the scaled version of the first observation of the training set"
      ],
      "metadata": {
        "id": "NapF7ldVPd_K"
      }
    },
    {
      "cell_type": "code",
      "source": [
        "# Solution\n",
        "print(scaled_X_train[0])"
      ],
      "metadata": {
        "colab": {
          "base_uri": "https://localhost:8080/"
        },
        "id": "G2j45wkBPeJ2",
        "outputId": "1630c802-03fb-4818-ca5d-1cca8151554d"
      },
      "execution_count": null,
      "outputs": [
        {
          "output_type": "stream",
          "name": "stdout",
          "text": [
            "[-1.23146348  1.00545805  1.36798424 -0.30099193  0.32865798  0.57514249\n",
            " -0.30732498 -1.71451695 -0.98883806 -0.3040227   1.0606442   0.60675358\n",
            " -1.09202537  0.46460993  0.16385435  1.06145721  0.17740144 -0.43033148\n",
            " -0.81649658 -0.20077872]\n"
          ]
        }
      ]
    },
    {
      "cell_type": "markdown",
      "source": [
        "Perfect! All features have the same scale now."
      ],
      "metadata": {
        "id": "LvrmP9e3PeSu"
      }
    },
    {
      "cell_type": "markdown",
      "source": [
        "### 3.   Defining the Architecture of the Multi-Layer Perceptron"
      ],
      "metadata": {
        "id": "SDtZnxjrPexZ"
      }
    },
    {
      "cell_type": "markdown",
      "source": [
        "**[3.1]** First we need to import PyTorch and numpy"
      ],
      "metadata": {
        "id": "RJVWyauAQPWl"
      }
    },
    {
      "cell_type": "code",
      "source": [
        "# Solution\n",
        "import torch\n",
        "import torch.nn as nn\n",
        "import torch.optim as optim\n",
        "import numpy as np"
      ],
      "metadata": {
        "id": "-aqzZRCkPe9e"
      },
      "execution_count": null,
      "outputs": []
    },
    {
      "cell_type": "markdown",
      "source": [
        "**[3.2]** Now we will convert data to PyTorch Tensors"
      ],
      "metadata": {
        "id": "Vq0H6QJnSMT7"
      }
    },
    {
      "cell_type": "code",
      "source": [
        "# Solution\n",
        "X_train_tensor = torch.tensor(scaled_X_train, dtype=torch.float32)\n",
        "y_train_tensor = torch.tensor(y_train.values, dtype=torch.float32)\n",
        "X_test_tensor = torch.tensor(scaled_X_test, dtype=torch.float32)\n",
        "y_test_tensor = torch.tensor(y_test.values, dtype=torch.float32)"
      ],
      "metadata": {
        "id": "EgBYsMpCSMmi"
      },
      "execution_count": null,
      "outputs": []
    },
    {
      "cell_type": "markdown",
      "source": [
        "**[3.3]** Then we will set the seeds for PyTorch in order to get reproducible results"
      ],
      "metadata": {
        "id": "7y5j7dELSMz2"
      }
    },
    {
      "cell_type": "code",
      "source": [
        "torch.manual_seed(42)"
      ],
      "metadata": {
        "colab": {
          "base_uri": "https://localhost:8080/"
        },
        "id": "hAQiGrvKSM9m",
        "outputId": "d7415b91-6244-4ec2-df74-0d70394bd8db"
      },
      "execution_count": null,
      "outputs": [
        {
          "output_type": "execute_result",
          "data": {
            "text/plain": [
              "<torch._C.Generator at 0x7e9558d011f0>"
            ]
          },
          "metadata": {},
          "execution_count": 30
        }
      ]
    },
    {
      "cell_type": "markdown",
      "source": [
        "**[3.4]** We will define the l2 regularisation\n",
        "\n",
        "**Task: Create a l2 regulariser with 0.05 as parameter**"
      ],
      "metadata": {
        "id": "XKX-msPhSNHD"
      }
    },
    {
      "cell_type": "code",
      "source": [
        "# Solution\n",
        "l2_lambda = 0.05"
      ],
      "metadata": {
        "id": "tkL6DIiFSNQl"
      },
      "execution_count": null,
      "outputs": []
    },
    {
      "cell_type": "markdown",
      "source": [
        "**[3.5]** Let's initialize the parameter of the model such as `input_size`,`hidden_size`, and `output_size`"
      ],
      "metadata": {
        "id": "y_9FJH7-k78i"
      }
    },
    {
      "cell_type": "code",
      "source": [
        "input_size = 20\n",
        "hidden_size = 128\n",
        "output_size = 1"
      ],
      "metadata": {
        "id": "I_IimjfXk8Jx"
      },
      "execution_count": null,
      "outputs": []
    },
    {
      "cell_type": "markdown",
      "source": [
        "**[3.6]** Now we will define the model architecture. In this architecture,we will create a hidden layer of 128 fully connected units with ReLU as the activation function followed by another fully connected layer responsible of making poredictions.\n",
        "\n",
        "**Task: You need to create 2 fully-connected layers with the relevant number of units and activation functions. Import the dropout class**"
      ],
      "metadata": {
        "id": "wW70pGgxxGTg"
      }
    },
    {
      "cell_type": "code",
      "source": [
        "# Solution\n",
        "class MLP(nn.Module):    # Creating a class called MLP that inherits nn.Module\n",
        "  def __init__(self, input_size, hidden_size, output_size):  # Initiazing the class\n",
        "    super(MLP, self).__init__()\n",
        "    self.fc1 = nn.Linear(input_size, hidden_size)  # Fully connected Layer1 (input to hidden layer)\n",
        "    self.relu = nn.ReLU()   # Calling Rectified Linear Unit\n",
        "    self.dropout = nn.Dropout(0.5) # Dropout function is calling\n",
        "    self.fc2 = nn.Linear(hidden_size, output_size) # Fully connected Layer2 (hidden layer to output)\n",
        "    self.sigmoid = nn.Sigmoid()\n",
        "\n",
        "  def forward(self, x):\n",
        "    x = self.fc1(x)\n",
        "    x = self.relu(x)\n",
        "    x = self.dropout(x)\n",
        "    x = self.fc2(x)\n",
        "    x = self.sigmoid(x)\n",
        "    return x"
      ],
      "metadata": {
        "id": "bYvo2GorxGgb"
      },
      "execution_count": null,
      "outputs": []
    },
    {
      "cell_type": "markdown",
      "source": [
        "**[3.7]** Initialize the argument of Multi Layer Perceptron (MLP) class by the above parameters and save it to a `model'"
      ],
      "metadata": {
        "id": "CG6p4QHeyZ7K"
      }
    },
    {
      "cell_type": "code",
      "source": [
        "model = MLP(input_size, hidden_size, output_size)"
      ],
      "metadata": {
        "id": "gG_3JRkVyaGM"
      },
      "execution_count": null,
      "outputs": []
    },
    {
      "cell_type": "markdown",
      "source": [
        "**[3.8]** Define the RMSprop (https://pytorch.org/docs/stable/generated/torch.optim.RMSprop.html) optimizer with L2 regularization."
      ],
      "metadata": {
        "id": "NIFuEBZnyaUo"
      }
    },
    {
      "cell_type": "code",
      "source": [
        "optimizer = optim.RMSprop(model.parameters(), lr=0.001, alpha=0.9, weight_decay=l2_lambda)"
      ],
      "metadata": {
        "id": "89YAzgesyagY"
      },
      "execution_count": null,
      "outputs": []
    },
    {
      "cell_type": "markdown",
      "source": [
        "**[3.9]** Instantiate a `nn.BCELoss()` (https://pytorch.org/docs/stable/generated/torch.nn.BCELoss.html) and save it into a variable called `criterion`."
      ],
      "metadata": {
        "id": "tcuG78RH1YzJ"
      }
    },
    {
      "cell_type": "code",
      "source": [
        "criterion = nn.BCELoss()"
      ],
      "metadata": {
        "id": "AQOF8Utl1ZDF"
      },
      "execution_count": null,
      "outputs": []
    },
    {
      "cell_type": "markdown",
      "source": [
        "**[3.10]** Now the architecture is ready. Let's print the model summary."
      ],
      "metadata": {
        "id": "6B0Aiy2w1ZTM"
      }
    },
    {
      "cell_type": "code",
      "source": [
        "print(model)"
      ],
      "metadata": {
        "colab": {
          "base_uri": "https://localhost:8080/"
        },
        "id": "hwMRdU601Zf1",
        "outputId": "1ebb9281-278f-4c06-bc67-eb4270eb4470"
      },
      "execution_count": null,
      "outputs": [
        {
          "output_type": "stream",
          "name": "stdout",
          "text": [
            "MLP(\n",
            "  (fc1): Linear(in_features=20, out_features=128, bias=True)\n",
            "  (relu): ReLU()\n",
            "  (dropout): Dropout(p=0.5, inplace=False)\n",
            "  (fc2): Linear(in_features=128, out_features=1, bias=True)\n",
            "  (sigmoid): Sigmoid()\n",
            ")\n"
          ]
        }
      ]
    },
    {
      "cell_type": "markdown",
      "source": [
        "### 4. Training and Evaluation of the Model"
      ],
      "metadata": {
        "id": "o6nR7dtS2kGw"
      }
    },
    {
      "cell_type": "markdown",
      "source": [
        "**[4.3]** Ok. Now it is finally time to train our model. Create a for loop that will iterate 20 times the following logics:\n",
        "- perform the forward propagation and get the model predictions\n",
        "- calculate the loss between the predictions and the actuals\n",
        "- reset the gradients\n",
        "- perform back propagation\n",
        "- update the weights"
      ],
      "metadata": {
        "id": "KsBclfKQ25tf"
      }
    },
    {
      "cell_type": "code",
      "source": [
        "from sklearn.metrics import accuracy_score\n",
        "\n",
        "num_epochs = 20\n",
        "training_accuracy_values = []\n",
        "test_accuracy_values = []\n",
        "# Training loop\n",
        "for epoch in range(num_epochs):\n",
        "    model.train()  # Set the model to training model\n",
        "    optimizer.zero_grad()  # Reset the gradients\n",
        "    outputs = model(X_train_tensor)   # Forward propagation and get the model prediictions\n",
        "    loss = criterion(outputs.squeeze(), y_train_tensor) # Calculate the loss between the predictions and the actuals\n",
        "\n",
        "    loss.backward()   #Back propagation\n",
        "    optimizer.step()  # Update the parameters\n",
        "\n",
        "    # Convert predictions to binary labels (0 or 1)\n",
        "    predicted_labels = (torch.round(outputs)).detach().numpy()\n",
        "    true_labels = y_train_tensor.numpy()\n",
        "\n",
        "    training_accuracy = accuracy_score(true_labels, predicted_labels) # Calculate training accuracy\n",
        "\n",
        "    # Print training loss and accuracy\n",
        "    print(f'Epoch [{epoch+1}/{num_epochs}], Loss: {loss.item():.4f}, Training Accuracy: {training_accuracy:.4f}')\n",
        "\n",
        "    # Store training accuracy for visualization or further analysis\n",
        "    training_accuracy_values.append(training_accuracy)"
      ],
      "metadata": {
        "colab": {
          "base_uri": "https://localhost:8080/"
        },
        "id": "beZ1-lXj2kTk",
        "outputId": "80d130b5-6086-4aa6-9c58-c939f9edf3c9"
      },
      "execution_count": null,
      "outputs": [
        {
          "output_type": "stream",
          "name": "stdout",
          "text": [
            "Epoch [1/20], Loss: 0.6622, Training Accuracy: 0.6262\n",
            "Epoch [2/20], Loss: 0.6449, Training Accuracy: 0.6687\n",
            "Epoch [3/20], Loss: 0.6497, Training Accuracy: 0.6763\n",
            "Epoch [4/20], Loss: 0.6376, Training Accuracy: 0.6887\n",
            "Epoch [5/20], Loss: 0.6289, Training Accuracy: 0.6863\n",
            "Epoch [6/20], Loss: 0.6348, Training Accuracy: 0.6863\n",
            "Epoch [7/20], Loss: 0.6221, Training Accuracy: 0.6937\n",
            "Epoch [8/20], Loss: 0.6186, Training Accuracy: 0.6937\n",
            "Epoch [9/20], Loss: 0.6193, Training Accuracy: 0.7100\n",
            "Epoch [10/20], Loss: 0.6137, Training Accuracy: 0.7037\n",
            "Epoch [11/20], Loss: 0.6195, Training Accuracy: 0.6925\n",
            "Epoch [12/20], Loss: 0.6127, Training Accuracy: 0.7013\n",
            "Epoch [13/20], Loss: 0.6076, Training Accuracy: 0.7063\n",
            "Epoch [14/20], Loss: 0.6082, Training Accuracy: 0.6963\n",
            "Epoch [15/20], Loss: 0.6037, Training Accuracy: 0.6937\n",
            "Epoch [16/20], Loss: 0.6122, Training Accuracy: 0.6950\n",
            "Epoch [17/20], Loss: 0.6060, Training Accuracy: 0.7037\n",
            "Epoch [18/20], Loss: 0.6017, Training Accuracy: 0.6950\n",
            "Epoch [19/20], Loss: 0.5943, Training Accuracy: 0.7025\n",
            "Epoch [20/20], Loss: 0.5935, Training Accuracy: 0.7063\n"
          ]
        }
      ]
    },
    {
      "cell_type": "markdown",
      "source": [
        "**[4.4]** We can evaluate the performance of this model on the testing set"
      ],
      "metadata": {
        "id": "9L_5pYLg2khT"
      }
    },
    {
      "cell_type": "code",
      "source": [
        "# Make predictions on the test data\n",
        "with torch.no_grad():\n",
        "    model.eval()  # Set the model to evaluation mode\n",
        "    predicted_probs = model(X_test_tensor)\n",
        "    predicted_labels = (torch.round(predicted_probs)).detach().numpy()\n",
        "\n",
        "y_true_numpy = y_test_tensor.numpy() # Convert true labels to numpy array"
      ],
      "metadata": {
        "id": "wppNjtoo2ksY"
      },
      "execution_count": null,
      "outputs": []
    },
    {
      "cell_type": "markdown",
      "source": [
        "### 5. Analysing the Results"
      ],
      "metadata": {
        "id": "hnmlNN_5-nFY"
      }
    },
    {
      "cell_type": "markdown",
      "source": [
        "**[5.1]** Let's calculate the `accuracy` of the model by dividing the correct value with the total value and print the `accuracy`."
      ],
      "metadata": {
        "id": "gi-Nd1nw_gEL"
      }
    },
    {
      "cell_type": "code",
      "source": [
        "test_accuracy = accuracy_score(y_true_numpy, predicted_labels)  # Calculate test accuracy\n",
        "test_accuracy_values.append(test_accuracy)  # Append test accuracy to the list\n",
        "print(f'Accuracy on test set: {test_accuracy:.4f}')"
      ],
      "metadata": {
        "colab": {
          "base_uri": "https://localhost:8080/"
        },
        "id": "ECtaBV4m_kCe",
        "outputId": "c0ff2555-5599-4890-9def-65f0405233d8"
      },
      "execution_count": null,
      "outputs": [
        {
          "output_type": "stream",
          "name": "stdout",
          "text": [
            "Accuracy on test set: 0.7150\n"
          ]
        }
      ]
    },
    {
      "cell_type": "markdown",
      "source": [
        "**[5.2]** Plot the training accuracy where `ylabel` is \"Accuracy\" and `xlabel` is Epoch"
      ],
      "metadata": {
        "id": "oda_j_Dj_3e8"
      }
    },
    {
      "cell_type": "code",
      "source": [
        "import matplotlib.pyplot as plt\n",
        "\n",
        "# Plot training and test accuracy curves\n",
        "plt.plot(training_accuracy_values, label='training')\n",
        "plt.ylabel('Accuracy')\n",
        "plt.xlabel('Epoch')\n",
        "plt.legend()\n",
        "plt.show()"
      ],
      "metadata": {
        "colab": {
          "base_uri": "https://localhost:8080/",
          "height": 449
        },
        "id": "Hut1ta5G_3qk",
        "outputId": "149f4725-6281-403e-feb2-4de69c0321b4"
      },
      "execution_count": null,
      "outputs": [
        {
          "output_type": "display_data",
          "data": {
            "text/plain": [
              "<Figure size 640x480 with 1 Axes>"
            ],
            "image/png": "[encoded data removed]"
          },
          "metadata": {}
        }
      ]
    }
  ]
}